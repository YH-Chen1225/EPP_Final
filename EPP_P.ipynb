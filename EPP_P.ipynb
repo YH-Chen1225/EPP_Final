{
 "cells": [
  {
   "cell_type": "code",
   "execution_count": 235,
   "metadata": {},
   "outputs": [],
   "source": [
    "# import the necessary package\n",
    "import numpy as np\n",
    "import pandas as pd\n",
    "from   scipy.stats import norm\n",
    "import scipy.optimize as opt\n",
    "import math\n",
    "from decimal import Decimal\n",
    "from IPython.display import display\n",
    "import plotly.graph_objects as go\n",
    "from plotly.subplots import make_subplots"
   ]
  },
  {
   "cell_type": "code",
   "execution_count": 2,
   "metadata": {},
   "outputs": [],
   "source": [
    "# Import the dataset\n",
    "df = pd.read_stata('D:\\\\Temp\\\\mturk_clean_data_short.dta')"
   ]
  },
  {
   "cell_type": "code",
   "execution_count": 3,
   "metadata": {},
   "outputs": [
    {
     "data": {
      "text/html": [
       "<div>\n",
       "<style scoped>\n",
       "    .dataframe tbody tr th:only-of-type {\n",
       "        vertical-align: middle;\n",
       "    }\n",
       "\n",
       "    .dataframe tbody tr th {\n",
       "        vertical-align: top;\n",
       "    }\n",
       "\n",
       "    .dataframe thead th {\n",
       "        text-align: right;\n",
       "    }\n",
       "</style>\n",
       "<table border=\"1\" class=\"dataframe\">\n",
       "  <thead>\n",
       "    <tr style=\"text-align: right;\">\n",
       "      <th></th>\n",
       "      <th>buttonpresses</th>\n",
       "      <th>treatment</th>\n",
       "      <th>treatmentname</th>\n",
       "    </tr>\n",
       "  </thead>\n",
       "  <tbody>\n",
       "    <tr>\n",
       "      <th>0</th>\n",
       "      <td>45</td>\n",
       "      <td>1.1</td>\n",
       "      <td>1c PieceRate</td>\n",
       "    </tr>\n",
       "    <tr>\n",
       "      <th>1</th>\n",
       "      <td>100</td>\n",
       "      <td>1.1</td>\n",
       "      <td>1c PieceRate</td>\n",
       "    </tr>\n",
       "    <tr>\n",
       "      <th>2</th>\n",
       "      <td>114</td>\n",
       "      <td>1.1</td>\n",
       "      <td>1c PieceRate</td>\n",
       "    </tr>\n",
       "    <tr>\n",
       "      <th>3</th>\n",
       "      <td>115</td>\n",
       "      <td>1.1</td>\n",
       "      <td>1c PieceRate</td>\n",
       "    </tr>\n",
       "    <tr>\n",
       "      <th>4</th>\n",
       "      <td>126</td>\n",
       "      <td>1.1</td>\n",
       "      <td>1c PieceRate</td>\n",
       "    </tr>\n",
       "    <tr>\n",
       "      <th>...</th>\n",
       "      <td>...</td>\n",
       "      <td>...</td>\n",
       "      <td>...</td>\n",
       "    </tr>\n",
       "    <tr>\n",
       "      <th>9856</th>\n",
       "      <td>3031</td>\n",
       "      <td>10</td>\n",
       "      <td>Gift Exchange</td>\n",
       "    </tr>\n",
       "    <tr>\n",
       "      <th>9857</th>\n",
       "      <td>3060</td>\n",
       "      <td>10</td>\n",
       "      <td>Gift Exchange</td>\n",
       "    </tr>\n",
       "    <tr>\n",
       "      <th>9858</th>\n",
       "      <td>3073</td>\n",
       "      <td>10</td>\n",
       "      <td>Gift Exchange</td>\n",
       "    </tr>\n",
       "    <tr>\n",
       "      <th>9859</th>\n",
       "      <td>3135</td>\n",
       "      <td>10</td>\n",
       "      <td>Gift Exchange</td>\n",
       "    </tr>\n",
       "    <tr>\n",
       "      <th>9860</th>\n",
       "      <td>3175</td>\n",
       "      <td>10</td>\n",
       "      <td>Gift Exchange</td>\n",
       "    </tr>\n",
       "  </tbody>\n",
       "</table>\n",
       "<p>9861 rows × 3 columns</p>\n",
       "</div>"
      ],
      "text/plain": [
       "      buttonpresses treatment  treatmentname\n",
       "0                45       1.1   1c PieceRate\n",
       "1               100       1.1   1c PieceRate\n",
       "2               114       1.1   1c PieceRate\n",
       "3               115       1.1   1c PieceRate\n",
       "4               126       1.1   1c PieceRate\n",
       "...             ...       ...            ...\n",
       "9856           3031        10  Gift Exchange\n",
       "9857           3060        10  Gift Exchange\n",
       "9858           3073        10  Gift Exchange\n",
       "9859           3135        10  Gift Exchange\n",
       "9860           3175        10  Gift Exchange\n",
       "\n",
       "[9861 rows x 3 columns]"
      ]
     },
     "execution_count": 3,
     "metadata": {},
     "output_type": "execute_result"
    }
   ],
   "source": [
    "df"
   ]
  },
  {
   "cell_type": "code",
   "execution_count": 4,
   "metadata": {},
   "outputs": [],
   "source": [
    "# Creating several varaiables in the dataset for estimation, same as original code did, but in a efficient way.\n",
    "genre = ['payoff_per_100','payoff_charity_per_100',\n",
    "         'dummy_charity','delay_wks','delay_dummy','gift_dummy','prob','weight_dummy'] \n",
    "for i in genre:\n",
    "    if i != 'prob':\n",
    "        df[F\"{i}\"] = 0\n",
    "    else:\n",
    "        df[F\"{i}\"] = 1"
   ]
  },
  {
   "cell_type": "code",
   "execution_count": 5,
   "metadata": {},
   "outputs": [],
   "source": [
    "# Creating a dict for each treatment, and assigning the value in the dataset for each treatment. Detail is like following.\n",
    "# Create piece-rate payoffs per 100 button presses (p)\n",
    "# create payoff per 100 to charity and dummy charity (alpha/a) \n",
    "# create payoff per 100 delayed by 2 weeks and dummy delay\n",
    "# probability weights to back out curvature and dummy\n",
    "# dummy for gift exchange\n",
    "\n",
    "\n",
    "assum = {'payoff_per_100':{'1.1':0.01,'1.2':0.1,'1.3':0.0,'2':0.001,'1.4':0.04,'4.1':0.01,'4.2':0.01,'6.2':0.02,'6.1':1},\n",
    " 'payoff_charity_per_100':{'3.1':0.01,'3.2':0.1},\n",
    " 'dummy_charity':{'3.1':1,'3.2':1},\n",
    " 'delay_wks':{'4.1':2,'4.2':4},\n",
    " 'delay_dummy':{'4.1':1,'4.2':1},\n",
    " 'prob':{'6.2':0.5,'6.1':0.01},\n",
    " 'weight_dummy':{'6.1':1},\n",
    " 'gift_dummy':{'10':1}\n",
    " }\n",
    "\n",
    "for task,payoff in assum.items():\n",
    "    for key in payoff:\n",
    "        df.loc[df.treatment == key, task] = payoff[key]"
   ]
  },
  {
   "cell_type": "code",
   "execution_count": 6,
   "metadata": {},
   "outputs": [],
   "source": [
    "# Generating effort and log effort. authors round buttonpressed to nearest 100 value. If 0 set it to 25.\n",
    "\n",
    "df['buttonpresses'] += 0.1 # python rounds 50 to 0, while stata to 100. by adding a small value we avoid this mismatch\n",
    "df['buttonpresses_nearest_100'] = round(df['buttonpresses'],-2)\n",
    "df.loc[df.buttonpresses_nearest_100 == 0, 'buttonpresses_nearest_100'] = 25\n",
    "df['logbuttonpresses_nearest_100']  = np.log(df['buttonpresses_nearest_100'])"
   ]
  },
  {
   "cell_type": "code",
   "execution_count": 7,
   "metadata": {},
   "outputs": [],
   "source": [
    "# Estimate procedure for s, k, gamma in benchmark case\n",
    "# Define the benchmark sample by creating dummies equal to one if in treatment 1.1, 1.2, 1.3 \n",
    "df['dummy1'] = (df['treatment'].isin(['1.1', '1.2','1.3'])).astype(int)# isin can be applied in pandas dataframe"
   ]
  },
  {
   "cell_type": "code",
   "execution_count": 8,
   "metadata": {},
   "outputs": [],
   "source": [
    "# Set the initial values guess for the optimization procedure and scalers for k and s in the exp cost function case\n",
    "\n",
    "st_values_exp = [0.015645717, 1.69443, 3.69198]#gamma_init_exp, k_init_exp, s_init_exp\n",
    "st_values_power = [19.8117987, 1.66306e-10, 7.74996]#gamma_init_power, k_init_power, s_init_power\n",
    "bp52_aut = [20.546,5.12e-70,3.17e-06]# The result of parameters of power cost function that author get.\n"
   ]
  },
  {
   "cell_type": "code",
   "execution_count": 196,
   "metadata": {},
   "outputs": [],
   "source": [
    "def opt_param(effort, k_scaler, s_scaler, st_values,type):\n",
    "    \n",
    "    ''' effort: How many times the participants press the buttoms\n",
    "        k_scaler: This is a tool to prvent from very large number showup in the calculation process, and it would not affect on the result. The k_scaler for\n",
    "                   \"exp\" and \"power\" can be different.\n",
    "        s_scaler:  This is a tool to prvent from very large number showup in the calculation process, and it would not affect on the result. The s_scaler for\n",
    "                   \"exp\" and \"power\" can be different.\n",
    "        st_values: This is the initial guess for the parameters.\n",
    "        type: type can be \"exp\" or \"power\", to decide which cost function we are going to apply.\n",
    "        '''\n",
    "    \n",
    "    def benchmark(pay100, g, k, s):\n",
    "        \n",
    "        ''' pay100: This is the payoff for basic assumption\n",
    "            g,k,s: These are original parameters in both exp and power cost function. '''\n",
    "        \n",
    "        if type == \"exp\":\n",
    "            check1 = k/k_scaler            # 'first'  component to compute f(x,θ). We call it check1 since it will enter a log, so we need to be careful with its value being > 0\n",
    "            check2 = s/s_scaler + pay100   # 'second' component to compute f(x,θ)\n",
    "        else:\n",
    "            check1= max(k/k_scaler, 1e-115)                  # since check1 will enter log it must be greater than zero\n",
    "            check2= np.maximum(s/s_scaler + pay100, 1e-10)   # np.maximum computes the max element wise. We do not want a negative value inside log    \n",
    "              \n",
    "        f_x = (-1/g * np.log(check1) +1/g * np.log(check2)) # f(x,θ) written above\n",
    "        return f_x\n",
    "    sol = opt.curve_fit(benchmark,\n",
    "                    df.loc[df['dummy1']==1].payoff_per_100,\n",
    "                    df.loc[df['dummy1']==1,effort],maxfev = 5000,\n",
    "                    p0 = st_values)\n",
    "    \n",
    "    se = np.sqrt(np.diagonal(sol[1]))\n",
    "    solo = [i/j for i,j in zip(sol[0],[1,k_scaler,s_scaler])]#Change it back to original scale\n",
    "    se = [i/j for i,j in zip(se,[1,k_scaler,s_scaler])]#Change it back to original scale\n",
    "    \n",
    "    #Following code are for making nicer, comparable and understandable result\n",
    "    sol_result = [0]*3\n",
    "    se_result = [0]*3\n",
    "    \n",
    "    for i in range(0,len(sol[0])):\n",
    "        if i == 0:\n",
    "            sol_result[i] = round(solo[i],3)\n",
    "            se_result[i] =  round(se[i],3)\n",
    "        else:\n",
    "            sol_result[i] = '{0:.2e}'.format(Decimal(solo[i]))\n",
    "            se_result[i] = '{0:.2e}'.format(Decimal(se[i]))   \n",
    "    \n",
    "    if type == \"exp\":\n",
    "        sse = np.round(((benchmark(df.loc[df['dummy1']==1].payoff_per_100,*sol[0])-df.loc[df['dummy1']==1,effort])**2),3)\n",
    "        return sol_result,se_result\n",
    "    \n",
    "    else:\n",
    "        sse = np.round(np.sum((benchmark(df.loc[df['dummy1']==1].payoff_per_100,*sol[0])-df.loc[df['dummy1']==1,effort])**2),3)#Calculate the squared for our result\n",
    "        bp52_aut = [20.546,5.12e-13,3.17]\n",
    "        sse_aut = np.round(np.sum((benchmark(df.loc[df['dummy1']==1].payoff_per_100,*bp52_aut)-df.loc[df['dummy1']==1,effort])**2),3)#Calculate the squared for authors result\n",
    "        return sol_result,se_result,sse,sse_aut\n",
    "    "
   ]
  },
  {
   "cell_type": "code",
   "execution_count": 197,
   "metadata": {},
   "outputs": [
    {
     "data": {
      "text/plain": [
       "[0.016, '1.71e-16', '3.72e-6']"
      ]
     },
     "execution_count": 197,
     "metadata": {},
     "output_type": "execute_result"
    }
   ],
   "source": [
    "#The estimation result and standard error.\n",
    "be54,se54= opt_param(effort = \"buttonpresses_nearest_100\",k_scaler = 1e+16, s_scaler= 1e+6,st_values = st_values_exp,type = \"exp\")\n",
    "be54"
   ]
  },
  {
   "cell_type": "code",
   "execution_count": 11,
   "metadata": {},
   "outputs": [
    {
     "data": {
      "text/plain": [
       "[20.546, '5.12e-70', '3.17e-6']"
      ]
     },
     "execution_count": 11,
     "metadata": {},
     "output_type": "execute_result"
    }
   ],
   "source": [
    "#Making the author's result nicer, comparable and understandable.\n",
    "aut = [0]*3\n",
    "for i in range(0,len(bp52_aut)):\n",
    "        if i == 0:\n",
    "            aut[i] = round(bp52_aut[i],3)\n",
    "        else:\n",
    "            aut[i] = '{0:.2e}'.format(Decimal(bp52_aut[i]))\n",
    "aut"
   ]
  },
  {
   "cell_type": "code",
   "execution_count": 198,
   "metadata": {},
   "outputs": [
    {
     "data": {
      "text/plain": [
       "670.61"
      ]
     },
     "execution_count": 198,
     "metadata": {},
     "output_type": "execute_result"
    }
   ],
   "source": [
    "#The estimation result and standard error.\n",
    "bp52,sp52,sse,sse_aut = opt_param(effort = \"logbuttonpresses_nearest_100\",k_scaler = 1e+57, s_scaler= 1e+6,st_values = st_values_power,type = \"power\")\n",
    "sse"
   ]
  },
  {
   "cell_type": "code",
   "execution_count": 199,
   "metadata": {},
   "outputs": [
    {
     "data": {
      "text/plain": [
       "672.387"
      ]
     },
     "execution_count": 199,
     "metadata": {},
     "output_type": "execute_result"
    }
   ],
   "source": [
    "sse_aut"
   ]
  },
  {
   "cell_type": "code",
   "execution_count": 14,
   "metadata": {},
   "outputs": [],
   "source": [
    "#The previous function \"opt_param\" is the replication of the original code but in a more efficient way. \n",
    "#Here I try to change part of the assumption of the code.I rename the func as my_ver_opt \n",
    "#Trying to get closer to the result of the paper and also makes the code simpler, now there is no argument called \"type\"!\n",
    "#But in order to keep the consistency of the replication, I would not used the result from this part.\n",
    " "
   ]
  },
  {
   "cell_type": "code",
   "execution_count": 15,
   "metadata": {},
   "outputs": [],
   "source": [
    "def my_ver_opt(effort,st_values):\n",
    "    '''\n",
    "    effort: How many times the participants press the button\n",
    "    \n",
    "    st_values: This is the initial guess for the parameters.\n",
    "    '''\n",
    "    \n",
    "    def my_benchmark(pay100, g, k, s):\n",
    "        ''' \n",
    "        pay100: This is the payoff for basic assumption\n",
    "            \n",
    "        g,k,s: These are original parameters in both exp and power cost function. \n",
    "        '''\n",
    "\n",
    "        if k <= 0 or (s+pay100).values.min() <= 0:#making sure that the value in log function would not be negative\n",
    "            return 1e-16\n",
    "        f_x = (-1/g * np.log(k) +1/g * np.log(s+pay100))   # f(x,θ) written above\n",
    "        return f_x\n",
    "    sol = opt.curve_fit(my_benchmark,\n",
    "                        df.loc[df['dummy1']==1].payoff_per_100,\n",
    "                        df.loc[df['dummy1']==1,effort],\n",
    "                        p0 = st_values,maxfev = 5000)\n",
    "    return sol[0],np.sqrt(np.diagonal(sol[1]))"
   ]
  },
  {
   "cell_type": "code",
   "execution_count": 16,
   "metadata": {},
   "outputs": [],
   "source": [
    "my_modified = my_ver_opt(\"buttonpresses_nearest_100\",st_values=st_values_exp)# This result is closer to NLS on individual effort on Exponential effort cost."
   ]
  },
  {
   "cell_type": "code",
   "execution_count": 17,
   "metadata": {},
   "outputs": [
    {
     "data": {
      "text/plain": [
       "(array([1.56410708e-02, 1.70926793e-16, 3.72225994e-06]),\n",
       " array([4.14866499e-03, 1.49076434e-15, 9.16241801e-06]))"
      ]
     },
     "execution_count": 17,
     "metadata": {},
     "output_type": "execute_result"
    }
   ],
   "source": [
    "my_modified"
   ]
  },
  {
   "cell_type": "code",
   "execution_count": 18,
   "metadata": {},
   "outputs": [
    {
     "data": {
      "text/plain": [
       "(array([2.11535441e+01, 8.07100252e-72, 1.40406905e-06]),\n",
       " array([7.36831559e+00, 4.63109452e-70, 5.01334839e-06]))"
      ]
     },
     "execution_count": 18,
     "metadata": {},
     "output_type": "execute_result"
    }
   ],
   "source": [
    "my_modified_power = my_ver_opt(\"logbuttonpresses_nearest_100\",st_values=st_values_power)\n",
    "my_modified_power\n"
   ]
  },
  {
   "cell_type": "code",
   "execution_count": 19,
   "metadata": {},
   "outputs": [],
   "source": [
    "#The original python code try to use a different package to find the NLS estimates to see if they get closer to the authors' but without success. \n",
    "#opt.least_squares takes as input directly the squared residuals, so we need to specify a different objective function. \n",
    "\n",
    "def other_opi(effort, k_scaler,s_scaler,type,opt_type,st_values):\n",
    "    '''\n",
    "    effort: How many times the participants press the button\n",
    "    \n",
    "    k_scaler: This is a tool to prvent from very large number showup in the calculation process, and it would not affect on the result. The k_scaler for\n",
    "                   \"exp\" and \"power\" can be different.\n",
    "    s_scaler:  This is a tool to prvent from very large number showup in the calculation process, and it would not affect on the result. The s_scaler for\n",
    "                   \"exp\" and \"power\" can be different.\n",
    "    st_values: This is the initial guess for the parameters.\n",
    "    \n",
    "    opt_type: There are two optimization method can be applied here,opt.minimize and opt.least_squares. So Here opt_type can be \"mini\" or \"ls\"\n",
    "    \n",
    "    type: type can be \"exp\" or \"power\", to decide which cost function we are going to apply.\n",
    "    '''\n",
    "    def benchmark_other(params):\n",
    "        '''\n",
    "        params: This include g,k,s\n",
    "        '''\n",
    "        pay100 = np.array(df.loc[df['dummy1']==1].payoff_per_100)\n",
    "        buttonpresses = np.array(df.loc[df['dummy1']==1,effort])\n",
    "        g, k, s = params\n",
    "        if type == \"exp\":\n",
    "            check1 = k/k_scaler            \n",
    "            check2 = s/s_scaler + pay100\n",
    "        elif type == \"power\":   \n",
    "            check1= max(k/k_scaler, 1e-100)\n",
    "            check2= np.maximum(s/s_scaler + pay100, 1e-10)   \n",
    "        if opt_type == \"ls\":    \n",
    "            f_x = (0.5*((-1/g * np.log(check1) +1/g * np.log(check2))-buttonpresses)**2)#Now the f_x is different from the one previous function.\n",
    "        else:\n",
    "            f_x = np.sum(0.5*((-1/g * np.log(check1) +1/g * np.log(check2))-buttonpresses)**2)# The way to calculate the f_x in these optimization method is different.\n",
    "        return f_x\n",
    "    sol_result = [0]*3\n",
    "    if opt_type == \"ls\":#least squared method\n",
    "        sol = opt.least_squares(benchmark_other,\n",
    "                        x0 = st_values,\n",
    "                        xtol=1e-15,\n",
    "                        ftol=1e-15,\n",
    "                        gtol=1e-15,\n",
    "                        method='lm')\n",
    "        \n",
    "        #Following code are for making nicer, comparable and understandable result\n",
    "        solo = [i/j for i,j in zip(sol.x,[1,k_scaler,s_scaler])]#change back to the original scale\n",
    "        sse = np.round((2*benchmark_other(sol.x)).sum(),3)#calculate the sum of squared error\n",
    "        for i in range(0,3):\n",
    "            if i==0:\n",
    "                sol_result[i] = round(solo[i],3)   \n",
    "            else:\n",
    "                sol_result[i] = '{0:.2e}'.format(Decimal(solo[i]))\n",
    "        return sol_result,sse\n",
    "    \n",
    "    elif opt_type == \"mini\":\n",
    "        sol = opt.minimize(benchmark_other,\n",
    "                       x0 = st_values,\n",
    "                       method='Nelder-Mead',\n",
    "                       options={'maxiter': 2500})\n",
    "        solo = [i/j for i,j in zip(sol.x,[1,k_scaler,s_scaler])]#change back to the original scale\n",
    "        sse = np.round((2*benchmark_other(sol.x)),3)#calculate the sum of squared error\n",
    "        for i in range(0,3):\n",
    "            if i==0:\n",
    "                sol_result[i] = round(solo[i],3)   \n",
    "            else:\n",
    "                sol_result[i] = '{0:.2e}'.format(Decimal(solo[i])) \n",
    "        return sol_result,sse "
   ]
  },
  {
   "cell_type": "code",
   "execution_count": 20,
   "metadata": {},
   "outputs": [
    {
     "data": {
      "text/plain": [
       "([21.787, '2.17e-69', '9.56e-8'], 1112.339)"
      ]
     },
     "execution_count": 20,
     "metadata": {},
     "output_type": "execute_result"
    }
   ],
   "source": [
    "#Following is the estimation result for different cost function and optimzation method.\n",
    "bp52_least_squaree = other_opi(\"logbuttonpresses_nearest_100\",k_scaler = 1e+57, s_scaler= 1e+6,type=\"power\",opt_type=\"ls\",st_values = st_values_power)\n",
    "bp52_least_squaree"
   ]
  },
  {
   "cell_type": "code",
   "execution_count": 21,
   "metadata": {},
   "outputs": [
    {
     "data": {
      "text/plain": [
       "([21.266, '3.45e-72', '1.33e-6'], 670.61)"
      ]
     },
     "execution_count": 21,
     "metadata": {},
     "output_type": "execute_result"
    }
   ],
   "source": [
    "bp52_optt = other_opi(\"logbuttonpresses_nearest_100\",k_scaler = 1e+57, s_scaler= 1e+6,type = \"power\",opt_type=\"mini\",st_values = st_values_power)\n",
    "bp52_optt"
   ]
  },
  {
   "cell_type": "code",
   "execution_count": 22,
   "metadata": {},
   "outputs": [
    {
     "data": {
      "text/plain": [
       "([0.011, '8.22e-12', '1.16e-4'], 731058666.567)"
      ]
     },
     "execution_count": 22,
     "metadata": {},
     "output_type": "execute_result"
    }
   ],
   "source": [
    "be52_ls = other_opi(\"buttonpresses_nearest_100\",k_scaler = 1e+16, s_scaler= 1e+6,type = \"exp\",opt_type=\"ls\",st_values=st_values_exp)\n",
    "be52_ls\n"
   ]
  },
  {
   "cell_type": "code",
   "execution_count": 23,
   "metadata": {},
   "outputs": [
    {
     "data": {
      "text/plain": [
       "([0.016, '1.71e-16', '3.72e-6'], 709519964.727)"
      ]
     },
     "execution_count": 23,
     "metadata": {},
     "output_type": "execute_result"
    }
   ],
   "source": [
    "be52_optt = other_opi(\"buttonpresses_nearest_100\",k_scaler = 1e+16, s_scaler= 1e+6,type = \"exp\",opt_type=\"mini\",st_values=st_values_exp)\n",
    "be52_optt"
   ]
  },
  {
   "cell_type": "code",
   "execution_count": 24,
   "metadata": {},
   "outputs": [
    {
     "data": {
      "text/plain": [
       "[21.1939, '5.95e-72', '1.38e-6']"
      ]
     },
     "execution_count": 24,
     "metadata": {},
     "output_type": "execute_result"
    }
   ],
   "source": [
    "bp52"
   ]
  },
  {
   "cell_type": "code",
   "execution_count": 200,
   "metadata": {},
   "outputs": [],
   "source": [
    "\n",
    "pn = [\"Curvature γ of cost function\",\"Level k of cost of effort\", \"Intrinsic motivation s\",\"Min obj. function\"]\n",
    "r1 = pd.DataFrame({'parameters':pn,'curve_fit':[*bp52,sse],\n",
    "                   'least_square':[*bp52_least_squaree[0],bp52_least_squaree[1]],\n",
    "                   'minimize_nd':[*bp52_optt[0],bp52_optt[1]],\n",
    "                   'authors':[*aut,sse_aut]})"
   ]
  },
  {
   "cell_type": "code",
   "execution_count": 201,
   "metadata": {},
   "outputs": [
    {
     "data": {
      "text/html": [
       "<div>\n",
       "<style scoped>\n",
       "    .dataframe tbody tr th:only-of-type {\n",
       "        vertical-align: middle;\n",
       "    }\n",
       "\n",
       "    .dataframe tbody tr th {\n",
       "        vertical-align: top;\n",
       "    }\n",
       "\n",
       "    .dataframe thead th {\n",
       "        text-align: right;\n",
       "    }\n",
       "</style>\n",
       "<table border=\"1\" class=\"dataframe\">\n",
       "  <thead>\n",
       "    <tr style=\"text-align: right;\">\n",
       "      <th></th>\n",
       "      <th>parameters</th>\n",
       "      <th>curve_fit</th>\n",
       "      <th>least_square</th>\n",
       "      <th>minimize_nd</th>\n",
       "      <th>authors</th>\n",
       "    </tr>\n",
       "  </thead>\n",
       "  <tbody>\n",
       "    <tr>\n",
       "      <th>0</th>\n",
       "      <td>Curvature γ of cost function</td>\n",
       "      <td>21.194</td>\n",
       "      <td>21.787</td>\n",
       "      <td>21.266</td>\n",
       "      <td>20.546</td>\n",
       "    </tr>\n",
       "    <tr>\n",
       "      <th>1</th>\n",
       "      <td>Level k of cost of effort</td>\n",
       "      <td>5.95e-72</td>\n",
       "      <td>2.17e-69</td>\n",
       "      <td>3.45e-72</td>\n",
       "      <td>5.12e-70</td>\n",
       "    </tr>\n",
       "    <tr>\n",
       "      <th>2</th>\n",
       "      <td>Intrinsic motivation s</td>\n",
       "      <td>1.38e-6</td>\n",
       "      <td>9.56e-8</td>\n",
       "      <td>1.33e-6</td>\n",
       "      <td>3.17e-6</td>\n",
       "    </tr>\n",
       "    <tr>\n",
       "      <th>3</th>\n",
       "      <td>Min obj. function</td>\n",
       "      <td>670.61</td>\n",
       "      <td>1112.339</td>\n",
       "      <td>670.61</td>\n",
       "      <td>672.387</td>\n",
       "    </tr>\n",
       "  </tbody>\n",
       "</table>\n",
       "</div>"
      ],
      "text/plain": [
       "                     parameters curve_fit least_square minimize_nd   authors\n",
       "0  Curvature γ of cost function    21.194       21.787      21.266    20.546\n",
       "1     Level k of cost of effort  5.95e-72     2.17e-69    3.45e-72  5.12e-70\n",
       "2        Intrinsic motivation s   1.38e-6      9.56e-8     1.33e-6   3.17e-6\n",
       "3             Min obj. function    670.61     1112.339      670.61   672.387"
      ]
     },
     "metadata": {},
     "output_type": "display_data"
    }
   ],
   "source": [
    "display(r1)# Notice that the reusult of original code and my code have some difference, \n",
    "#which is because that the scale for the original code and the paper is different(the original code didn't change back the result from the scaler), \n",
    "#and here I try to replicate result of the paper, which can correspond to table 5 power cost function part.\n",
    "# If don't change back the scale from scaler, the result is exactly the same as the one in original python code."
   ]
  },
  {
   "cell_type": "code",
   "execution_count": 27,
   "metadata": {},
   "outputs": [
    {
     "data": {
      "text/plain": [
       "(array([1.56410708e-02, 1.70926793e-16, 3.72225994e-06]),\n",
       " array([4.14866499e-03, 1.49076434e-15, 9.16241801e-06]))"
      ]
     },
     "execution_count": 27,
     "metadata": {},
     "output_type": "execute_result"
    }
   ],
   "source": [
    "my_modified"
   ]
  },
  {
   "cell_type": "code",
   "execution_count": 236,
   "metadata": {},
   "outputs": [
    {
     "data": {
      "text/html": [
       "<div>\n",
       "<style scoped>\n",
       "    .dataframe tbody tr th:only-of-type {\n",
       "        vertical-align: middle;\n",
       "    }\n",
       "\n",
       "    .dataframe tbody tr th {\n",
       "        vertical-align: top;\n",
       "    }\n",
       "\n",
       "    .dataframe thead th {\n",
       "        text-align: right;\n",
       "    }\n",
       "</style>\n",
       "<table border=\"1\" class=\"dataframe\">\n",
       "  <thead>\n",
       "    <tr style=\"text-align: right;\">\n",
       "      <th></th>\n",
       "      <th>parameters</th>\n",
       "      <th>curve_fit</th>\n",
       "      <th>least_square</th>\n",
       "      <th>minimize_nd</th>\n",
       "      <th>authors</th>\n",
       "    </tr>\n",
       "  </thead>\n",
       "  <tbody>\n",
       "    <tr>\n",
       "      <th>0</th>\n",
       "      <td>Curvature γ of cost function</td>\n",
       "      <td>0.016</td>\n",
       "      <td>0.011</td>\n",
       "      <td>0.016</td>\n",
       "      <td>0.016</td>\n",
       "    </tr>\n",
       "    <tr>\n",
       "      <th>1</th>\n",
       "      <td>Level k of cost of effort</td>\n",
       "      <td>1.71e-16</td>\n",
       "      <td>8.22e-12</td>\n",
       "      <td>1.71e-16</td>\n",
       "      <td>1.71e-16</td>\n",
       "    </tr>\n",
       "    <tr>\n",
       "      <th>2</th>\n",
       "      <td>Intrinsic motivation s</td>\n",
       "      <td>3.72e-6</td>\n",
       "      <td>1.16e-4</td>\n",
       "      <td>3.72e-6</td>\n",
       "      <td>3.72e-6</td>\n",
       "    </tr>\n",
       "  </tbody>\n",
       "</table>\n",
       "</div>"
      ],
      "text/plain": [
       "                     parameters curve_fit least_square minimize_nd   authors\n",
       "0  Curvature γ of cost function     0.016        0.011       0.016     0.016\n",
       "1     Level k of cost of effort  1.71e-16     8.22e-12    1.71e-16  1.71e-16\n",
       "2        Intrinsic motivation s   3.72e-6      1.16e-4     3.72e-6   3.72e-6"
      ]
     },
     "metadata": {},
     "output_type": "display_data"
    }
   ],
   "source": [
    "#Update,also adding the authors result for comparasion\n",
    "#Here I also adding the outcome of exponential cost of effort\n",
    "pn = [\"Curvature γ of cost function\",\"Level k of cost of effort\", \"Intrinsic motivation s\"]\n",
    "be52_aut = [0.0156,1.71E-16,3.72E-06]\n",
    "r2 = pd.DataFrame({'parameters':pn,'curve_fit':[*be54],\n",
    "                   'least_square':[*be52_ls[0]],\n",
    "                   'minimize_nd':[*be52_optt[0]],\n",
    "                   'authors':[round(be52_aut[0],3),('{0:.2e}'.format(Decimal(be52_aut[1]))),('{0:.2e}'.format(Decimal(be52_aut[2])))]})\n",
    "display(r2)\n"
   ]
  },
  {
   "cell_type": "code",
   "execution_count": 242,
   "metadata": {},
   "outputs": [
    {
     "data": {
      "text/plain": [
       "curve_fit       0.016\n",
       "least_square    0.011\n",
       "minimize_nd     0.016\n",
       "authors         0.016\n",
       "Name: 0, dtype: object"
      ]
     },
     "execution_count": 242,
     "metadata": {},
     "output_type": "execute_result"
    }
   ],
   "source": [
    "r2.iloc[0,1:5]"
   ]
  },
  {
   "cell_type": "code",
   "execution_count": 246,
   "metadata": {},
   "outputs": [
    {
     "data": {
      "application/vnd.plotly.v1+json": {
       "config": {
        "plotlyServerURL": "https://plot.ly"
       },
       "data": [
        {
         "name": "gamma estimation in power function",
         "text": [
          21.194,
          21.787,
          21.266,
          20.546
         ],
         "textposition": "auto",
         "type": "bar",
         "x": [
          "curve_fit",
          "least_squared",
          "minimize_nd",
          "authors"
         ],
         "xaxis": "x",
         "y": [
          21.194,
          21.787,
          21.266,
          20.546
         ],
         "yaxis": "y"
        },
        {
         "name": "my gamma estimation in exp function",
         "text": [
          0.016,
          0.011,
          0.016,
          0.016
         ],
         "textposition": "auto",
         "type": "bar",
         "x": [
          "curve_fit",
          "least_squared",
          "minimize_nd",
          "authors"
         ],
         "xaxis": "x2",
         "y": [
          0.016,
          0.011,
          0.016,
          0.016
         ],
         "yaxis": "y2"
        },
        {
         "name": "sum of squared error",
         "text": [
          670.61,
          1112.339,
          670.61,
          672.387
         ],
         "textposition": "auto",
         "type": "bar",
         "x": [
          "curve_fit",
          "least_squared",
          "minimize_nd",
          "authors"
         ],
         "xaxis": "x3",
         "y": [
          670.61,
          1112.339,
          670.61,
          672.387
         ],
         "yaxis": "y3"
        }
       ],
       "layout": {
        "barmode": "group",
        "template": {
         "data": {
          "bar": [
           {
            "error_x": {
             "color": "#2a3f5f"
            },
            "error_y": {
             "color": "#2a3f5f"
            },
            "marker": {
             "line": {
              "color": "#E5ECF6",
              "width": 0.5
             },
             "pattern": {
              "fillmode": "overlay",
              "size": 10,
              "solidity": 0.2
             }
            },
            "type": "bar"
           }
          ],
          "barpolar": [
           {
            "marker": {
             "line": {
              "color": "#E5ECF6",
              "width": 0.5
             },
             "pattern": {
              "fillmode": "overlay",
              "size": 10,
              "solidity": 0.2
             }
            },
            "type": "barpolar"
           }
          ],
          "carpet": [
           {
            "aaxis": {
             "endlinecolor": "#2a3f5f",
             "gridcolor": "white",
             "linecolor": "white",
             "minorgridcolor": "white",
             "startlinecolor": "#2a3f5f"
            },
            "baxis": {
             "endlinecolor": "#2a3f5f",
             "gridcolor": "white",
             "linecolor": "white",
             "minorgridcolor": "white",
             "startlinecolor": "#2a3f5f"
            },
            "type": "carpet"
           }
          ],
          "choropleth": [
           {
            "colorbar": {
             "outlinewidth": 0,
             "ticks": ""
            },
            "type": "choropleth"
           }
          ],
          "contour": [
           {
            "colorbar": {
             "outlinewidth": 0,
             "ticks": ""
            },
            "colorscale": [
             [
              0,
              "#0d0887"
             ],
             [
              0.1111111111111111,
              "#46039f"
             ],
             [
              0.2222222222222222,
              "#7201a8"
             ],
             [
              0.3333333333333333,
              "#9c179e"
             ],
             [
              0.4444444444444444,
              "#bd3786"
             ],
             [
              0.5555555555555556,
              "#d8576b"
             ],
             [
              0.6666666666666666,
              "#ed7953"
             ],
             [
              0.7777777777777778,
              "#fb9f3a"
             ],
             [
              0.8888888888888888,
              "#fdca26"
             ],
             [
              1,
              "#f0f921"
             ]
            ],
            "type": "contour"
           }
          ],
          "contourcarpet": [
           {
            "colorbar": {
             "outlinewidth": 0,
             "ticks": ""
            },
            "type": "contourcarpet"
           }
          ],
          "heatmap": [
           {
            "colorbar": {
             "outlinewidth": 0,
             "ticks": ""
            },
            "colorscale": [
             [
              0,
              "#0d0887"
             ],
             [
              0.1111111111111111,
              "#46039f"
             ],
             [
              0.2222222222222222,
              "#7201a8"
             ],
             [
              0.3333333333333333,
              "#9c179e"
             ],
             [
              0.4444444444444444,
              "#bd3786"
             ],
             [
              0.5555555555555556,
              "#d8576b"
             ],
             [
              0.6666666666666666,
              "#ed7953"
             ],
             [
              0.7777777777777778,
              "#fb9f3a"
             ],
             [
              0.8888888888888888,
              "#fdca26"
             ],
             [
              1,
              "#f0f921"
             ]
            ],
            "type": "heatmap"
           }
          ],
          "heatmapgl": [
           {
            "colorbar": {
             "outlinewidth": 0,
             "ticks": ""
            },
            "colorscale": [
             [
              0,
              "#0d0887"
             ],
             [
              0.1111111111111111,
              "#46039f"
             ],
             [
              0.2222222222222222,
              "#7201a8"
             ],
             [
              0.3333333333333333,
              "#9c179e"
             ],
             [
              0.4444444444444444,
              "#bd3786"
             ],
             [
              0.5555555555555556,
              "#d8576b"
             ],
             [
              0.6666666666666666,
              "#ed7953"
             ],
             [
              0.7777777777777778,
              "#fb9f3a"
             ],
             [
              0.8888888888888888,
              "#fdca26"
             ],
             [
              1,
              "#f0f921"
             ]
            ],
            "type": "heatmapgl"
           }
          ],
          "histogram": [
           {
            "marker": {
             "pattern": {
              "fillmode": "overlay",
              "size": 10,
              "solidity": 0.2
             }
            },
            "type": "histogram"
           }
          ],
          "histogram2d": [
           {
            "colorbar": {
             "outlinewidth": 0,
             "ticks": ""
            },
            "colorscale": [
             [
              0,
              "#0d0887"
             ],
             [
              0.1111111111111111,
              "#46039f"
             ],
             [
              0.2222222222222222,
              "#7201a8"
             ],
             [
              0.3333333333333333,
              "#9c179e"
             ],
             [
              0.4444444444444444,
              "#bd3786"
             ],
             [
              0.5555555555555556,
              "#d8576b"
             ],
             [
              0.6666666666666666,
              "#ed7953"
             ],
             [
              0.7777777777777778,
              "#fb9f3a"
             ],
             [
              0.8888888888888888,
              "#fdca26"
             ],
             [
              1,
              "#f0f921"
             ]
            ],
            "type": "histogram2d"
           }
          ],
          "histogram2dcontour": [
           {
            "colorbar": {
             "outlinewidth": 0,
             "ticks": ""
            },
            "colorscale": [
             [
              0,
              "#0d0887"
             ],
             [
              0.1111111111111111,
              "#46039f"
             ],
             [
              0.2222222222222222,
              "#7201a8"
             ],
             [
              0.3333333333333333,
              "#9c179e"
             ],
             [
              0.4444444444444444,
              "#bd3786"
             ],
             [
              0.5555555555555556,
              "#d8576b"
             ],
             [
              0.6666666666666666,
              "#ed7953"
             ],
             [
              0.7777777777777778,
              "#fb9f3a"
             ],
             [
              0.8888888888888888,
              "#fdca26"
             ],
             [
              1,
              "#f0f921"
             ]
            ],
            "type": "histogram2dcontour"
           }
          ],
          "mesh3d": [
           {
            "colorbar": {
             "outlinewidth": 0,
             "ticks": ""
            },
            "type": "mesh3d"
           }
          ],
          "parcoords": [
           {
            "line": {
             "colorbar": {
              "outlinewidth": 0,
              "ticks": ""
             }
            },
            "type": "parcoords"
           }
          ],
          "pie": [
           {
            "automargin": true,
            "type": "pie"
           }
          ],
          "scatter": [
           {
            "fillpattern": {
             "fillmode": "overlay",
             "size": 10,
             "solidity": 0.2
            },
            "type": "scatter"
           }
          ],
          "scatter3d": [
           {
            "line": {
             "colorbar": {
              "outlinewidth": 0,
              "ticks": ""
             }
            },
            "marker": {
             "colorbar": {
              "outlinewidth": 0,
              "ticks": ""
             }
            },
            "type": "scatter3d"
           }
          ],
          "scattercarpet": [
           {
            "marker": {
             "colorbar": {
              "outlinewidth": 0,
              "ticks": ""
             }
            },
            "type": "scattercarpet"
           }
          ],
          "scattergeo": [
           {
            "marker": {
             "colorbar": {
              "outlinewidth": 0,
              "ticks": ""
             }
            },
            "type": "scattergeo"
           }
          ],
          "scattergl": [
           {
            "marker": {
             "colorbar": {
              "outlinewidth": 0,
              "ticks": ""
             }
            },
            "type": "scattergl"
           }
          ],
          "scattermapbox": [
           {
            "marker": {
             "colorbar": {
              "outlinewidth": 0,
              "ticks": ""
             }
            },
            "type": "scattermapbox"
           }
          ],
          "scatterpolar": [
           {
            "marker": {
             "colorbar": {
              "outlinewidth": 0,
              "ticks": ""
             }
            },
            "type": "scatterpolar"
           }
          ],
          "scatterpolargl": [
           {
            "marker": {
             "colorbar": {
              "outlinewidth": 0,
              "ticks": ""
             }
            },
            "type": "scatterpolargl"
           }
          ],
          "scatterternary": [
           {
            "marker": {
             "colorbar": {
              "outlinewidth": 0,
              "ticks": ""
             }
            },
            "type": "scatterternary"
           }
          ],
          "surface": [
           {
            "colorbar": {
             "outlinewidth": 0,
             "ticks": ""
            },
            "colorscale": [
             [
              0,
              "#0d0887"
             ],
             [
              0.1111111111111111,
              "#46039f"
             ],
             [
              0.2222222222222222,
              "#7201a8"
             ],
             [
              0.3333333333333333,
              "#9c179e"
             ],
             [
              0.4444444444444444,
              "#bd3786"
             ],
             [
              0.5555555555555556,
              "#d8576b"
             ],
             [
              0.6666666666666666,
              "#ed7953"
             ],
             [
              0.7777777777777778,
              "#fb9f3a"
             ],
             [
              0.8888888888888888,
              "#fdca26"
             ],
             [
              1,
              "#f0f921"
             ]
            ],
            "type": "surface"
           }
          ],
          "table": [
           {
            "cells": {
             "fill": {
              "color": "#EBF0F8"
             },
             "line": {
              "color": "white"
             }
            },
            "header": {
             "fill": {
              "color": "#C8D4E3"
             },
             "line": {
              "color": "white"
             }
            },
            "type": "table"
           }
          ]
         },
         "layout": {
          "annotationdefaults": {
           "arrowcolor": "#2a3f5f",
           "arrowhead": 0,
           "arrowwidth": 1
          },
          "autotypenumbers": "strict",
          "coloraxis": {
           "colorbar": {
            "outlinewidth": 0,
            "ticks": ""
           }
          },
          "colorscale": {
           "diverging": [
            [
             0,
             "#8e0152"
            ],
            [
             0.1,
             "#c51b7d"
            ],
            [
             0.2,
             "#de77ae"
            ],
            [
             0.3,
             "#f1b6da"
            ],
            [
             0.4,
             "#fde0ef"
            ],
            [
             0.5,
             "#f7f7f7"
            ],
            [
             0.6,
             "#e6f5d0"
            ],
            [
             0.7,
             "#b8e186"
            ],
            [
             0.8,
             "#7fbc41"
            ],
            [
             0.9,
             "#4d9221"
            ],
            [
             1,
             "#276419"
            ]
           ],
           "sequential": [
            [
             0,
             "#0d0887"
            ],
            [
             0.1111111111111111,
             "#46039f"
            ],
            [
             0.2222222222222222,
             "#7201a8"
            ],
            [
             0.3333333333333333,
             "#9c179e"
            ],
            [
             0.4444444444444444,
             "#bd3786"
            ],
            [
             0.5555555555555556,
             "#d8576b"
            ],
            [
             0.6666666666666666,
             "#ed7953"
            ],
            [
             0.7777777777777778,
             "#fb9f3a"
            ],
            [
             0.8888888888888888,
             "#fdca26"
            ],
            [
             1,
             "#f0f921"
            ]
           ],
           "sequentialminus": [
            [
             0,
             "#0d0887"
            ],
            [
             0.1111111111111111,
             "#46039f"
            ],
            [
             0.2222222222222222,
             "#7201a8"
            ],
            [
             0.3333333333333333,
             "#9c179e"
            ],
            [
             0.4444444444444444,
             "#bd3786"
            ],
            [
             0.5555555555555556,
             "#d8576b"
            ],
            [
             0.6666666666666666,
             "#ed7953"
            ],
            [
             0.7777777777777778,
             "#fb9f3a"
            ],
            [
             0.8888888888888888,
             "#fdca26"
            ],
            [
             1,
             "#f0f921"
            ]
           ]
          },
          "colorway": [
           "#636efa",
           "#EF553B",
           "#00cc96",
           "#ab63fa",
           "#FFA15A",
           "#19d3f3",
           "#FF6692",
           "#B6E880",
           "#FF97FF",
           "#FECB52"
          ],
          "font": {
           "color": "#2a3f5f"
          },
          "geo": {
           "bgcolor": "white",
           "lakecolor": "white",
           "landcolor": "#E5ECF6",
           "showlakes": true,
           "showland": true,
           "subunitcolor": "white"
          },
          "hoverlabel": {
           "align": "left"
          },
          "hovermode": "closest",
          "mapbox": {
           "style": "light"
          },
          "paper_bgcolor": "white",
          "plot_bgcolor": "#E5ECF6",
          "polar": {
           "angularaxis": {
            "gridcolor": "white",
            "linecolor": "white",
            "ticks": ""
           },
           "bgcolor": "#E5ECF6",
           "radialaxis": {
            "gridcolor": "white",
            "linecolor": "white",
            "ticks": ""
           }
          },
          "scene": {
           "xaxis": {
            "backgroundcolor": "#E5ECF6",
            "gridcolor": "white",
            "gridwidth": 2,
            "linecolor": "white",
            "showbackground": true,
            "ticks": "",
            "zerolinecolor": "white"
           },
           "yaxis": {
            "backgroundcolor": "#E5ECF6",
            "gridcolor": "white",
            "gridwidth": 2,
            "linecolor": "white",
            "showbackground": true,
            "ticks": "",
            "zerolinecolor": "white"
           },
           "zaxis": {
            "backgroundcolor": "#E5ECF6",
            "gridcolor": "white",
            "gridwidth": 2,
            "linecolor": "white",
            "showbackground": true,
            "ticks": "",
            "zerolinecolor": "white"
           }
          },
          "shapedefaults": {
           "line": {
            "color": "#2a3f5f"
           }
          },
          "ternary": {
           "aaxis": {
            "gridcolor": "white",
            "linecolor": "white",
            "ticks": ""
           },
           "baxis": {
            "gridcolor": "white",
            "linecolor": "white",
            "ticks": ""
           },
           "bgcolor": "#E5ECF6",
           "caxis": {
            "gridcolor": "white",
            "linecolor": "white",
            "ticks": ""
           }
          },
          "title": {
           "x": 0.05
          },
          "xaxis": {
           "automargin": true,
           "gridcolor": "white",
           "linecolor": "white",
           "ticks": "",
           "title": {
            "standoff": 15
           },
           "zerolinecolor": "white",
           "zerolinewidth": 2
          },
          "yaxis": {
           "automargin": true,
           "gridcolor": "white",
           "linecolor": "white",
           "ticks": "",
           "title": {
            "standoff": 15
           },
           "zerolinecolor": "white",
           "zerolinewidth": 2
          }
         }
        },
        "title": {
         "text": "Comparison of parameters and sse between my result and the result of authors"
        },
        "xaxis": {
         "anchor": "y",
         "domain": [
          0,
          0.45
         ]
        },
        "xaxis2": {
         "anchor": "y2",
         "domain": [
          0.55,
          1
         ]
        },
        "xaxis3": {
         "anchor": "y3",
         "domain": [
          0,
          0.45
         ]
        },
        "xaxis4": {
         "anchor": "y4",
         "domain": [
          0.55,
          1
         ]
        },
        "yaxis": {
         "anchor": "x",
         "domain": [
          0.575,
          1
         ]
        },
        "yaxis2": {
         "anchor": "x2",
         "domain": [
          0.575,
          1
         ]
        },
        "yaxis3": {
         "anchor": "x3",
         "domain": [
          0,
          0.425
         ]
        },
        "yaxis4": {
         "anchor": "x4",
         "domain": [
          0,
          0.425
         ]
        }
       }
      }
     },
     "metadata": {},
     "output_type": "display_data"
    }
   ],
   "source": [
    "method = ['curve_fit','least_squared','minimize_nd','authors']\n",
    "\n",
    "fig = make_subplots(rows = 2, cols= 2, shared_yaxes=False)\n",
    "                    #subplot_titles=('Estimation of gamma', 'Estimation of Probability weighting'))\n",
    "\n",
    "trace1 = go.Bar(\n",
    "    x=method,\n",
    "    y=r1.iloc[0,1:5],\n",
    "    name='gamma estimation in power function',\n",
    "    textposition='auto',\n",
    "    text=r1.iloc[0,1:5]\n",
    ")\n",
    "\n",
    "trace2 = go.Bar(\n",
    "    x=method,\n",
    "    y=r2.iloc[0,1:5],\n",
    "    name='my gamma estimation in exp function',\n",
    "    textposition='auto',\n",
    "    text=r2.iloc[0,1:5]\n",
    ")\n",
    "\n",
    "trace3 = go.Bar(\n",
    "    x=method,\n",
    "    y=r1.iloc[3,1:5],\n",
    "    name='sum of squared error',\n",
    "    textposition='auto',\n",
    "    text=r1.iloc[3,1:5]\n",
    ")\n",
    "\n",
    "#fig.append_trace(trace3, 1,1)\n",
    "fig.append_trace(trace1,1,1)\n",
    "fig.append_trace(trace2,1,2)\n",
    "fig.append_trace(trace3,2,1)\n",
    "\n",
    "# Change the bar mode\n",
    "fig.update_layout(barmode='group',\n",
    "    title='Comparison of parameters and sse between my result and the result of authors')\n",
    "fig.show()"
   ]
  },
  {
   "cell_type": "code",
   "execution_count": 30,
   "metadata": {},
   "outputs": [],
   "source": [
    "#display(r2) \n",
    "#The estimation from the original code of parameter \"k\" and \"s\" seems a bit different from the authors. \n",
    "#I think it is result from the basic assumption of the model.\n",
    "#I tried to modified it from curve fit. "
   ]
  },
  {
   "cell_type": "code",
   "execution_count": 31,
   "metadata": {},
   "outputs": [],
   "source": [
    "# Create dummies for this specification\n",
    "# Define the initial guess for new parameters alpha, a, beta, delta, gift\n",
    "df['samplenw'] = (df['treatment'].isin(['1.1','1.2','1.3','3.1','3.2','4.1','4.2','10'])).astype(int)\n",
    "stvale_spec = [0.003, 0.13, 1.16, 0.75, 5e-6] #alpha_init, a_init, beta_init, delta_init, gift_init"
   ]
  },
  {
   "cell_type": "code",
   "execution_count": 32,
   "metadata": {},
   "outputs": [],
   "source": [
    "# Define the f(x,θ) to estimate all parameters but the probability weight\n",
    "\n",
    "def treatment_a(effort,k_scaler,s_scaler,type,st_values):\n",
    "    '''\n",
    "    effort: How many times the participants press the button\n",
    "    \n",
    "    k_scaler: This is a tool to prvent from very large number show up in the calculation process, and it would not affect on the result. The k_scaler for\n",
    "                   \"exp\" and \"power\" can be different.\n",
    "    s_scaler:  This is a tool to prvent from very large number show up in the calculation process, and it would not affect on the result. The s_scaler for\n",
    "                   \"exp\" and \"power\" can be different.\n",
    "    \n",
    "    type: type can be \"exp\" or \"power\", to decide which cost function we are going to apply.\n",
    "    \n",
    "    st_values: This is the initial guess for the parameters k,gamma,s.\n",
    "\n",
    "    '''\n",
    "    def noweight(xdata, g, k, s, alpha, a, gift, beta, delta):\n",
    "        '''\n",
    "        xdata: This the vector containing the explanatory variables\n",
    "           \n",
    "        g, k, s: These are the same parameters from before\n",
    "        \n",
    "        alpha: This the pure altruism coefficient\n",
    "          \n",
    "        a: This is the warm glow coefficient\n",
    "          \n",
    "        gift: This is the gift exchange coefficient Δs\n",
    "\n",
    "        beta: This is the present bias paramater\n",
    "\n",
    "        delta: This is the (weekly) discount factor\n",
    "          \n",
    "        '''\n",
    "        pay100 = xdata[0]\n",
    "        gd = xdata[1] #gd is gift dummy\n",
    "        dd = xdata[2] #dd is delay dummy\n",
    "        dw = xdata[3] #dw is delay weeks\n",
    "        paychar = xdata[4] #paychar is pay in charity treatment\n",
    "        dc = xdata[5] #dc is dummy charity\n",
    "        if type == \"exp\":\n",
    "            check1 = k/k_scaler\n",
    "            check2 = s/s_scaler + gift*0.4*gd + (beta**dd)*(delta**dw)*pay100 + alpha*paychar + a*0.01*dc\n",
    "        elif type == \"power\":\n",
    "            check1= max(k/k_scaler, 1e-115)\n",
    "            check2= np.maximum(s/s_scaler + gift*0.4*gd + (beta**dd)*(delta**dw)*pay100 + alpha*paychar + a*0.01*dc, 1e-10)  \n",
    "        f_x = (-1/g * np.log(check1) + 1/g*np.log(check2))\n",
    "        return f_x\n",
    "\n",
    "# Find the solution to the problem by non-linear least squares \n",
    "    \n",
    "    st_valuesnoweight = np.concatenate((st_values,stvale_spec)) # starting values\n",
    "\n",
    "    args = [df.loc[df['samplenw']==1].payoff_per_100, df.loc[df['samplenw']==1].gift_dummy, df.loc[df['samplenw']==1].delay_dummy,\n",
    "            df.loc[df['samplenw']==1].delay_wks, df.loc[df['samplenw']==1].payoff_charity_per_100, df.loc[df['samplenw']==1].dummy_charity]\n",
    "\n",
    "    sol = opt.curve_fit(noweight, \n",
    "                    args,\n",
    "                    df.loc[df['samplenw']==1,effort],\n",
    "                    st_valuesnoweight)\n",
    "    \n",
    "    sol_result = [0]*8\n",
    "    se_result = [0]*8\n",
    "    se = np.sqrt(np.diagonal(sol[1]))\n",
    "    for i in range(0,len(sol[0])):\n",
    "        if i==5:\n",
    "            sol_result[i] = '{0:.2e}'.format(Decimal(sol[0][i]))\n",
    "            se_result[i] = '{0:.2e}'.format(Decimal(se[i]))   \n",
    "        else:\n",
    "            sol_result[i] = round(sol[0][i],3)\n",
    "            se_result[i] = round(se[i],3)\n",
    "    return sol_result,se_result\n",
    "    #if type == \"power\":\n",
    "        #nwest_aut = [20.546, 5.12e-70, 3.17e-06, 0.0064462, 0.1818249, 0.0000204, 1.357934, 0.7494928]\n",
    "        # = np.sum((noweight(args,*sol[0])-df.loc[df['samplenw']==1,effort])**2)\n",
    "        #sse_aut = np.sum((noweight(args,*nwest_aut)-df.loc[df['samplenw']==1,effort])**2)這樣套進去數字會不對，因為scale不對\n",
    "        #return sol[0],np.sqrt(np.diagonal(sol[1])),sse_our,sse_aut\n",
    "        #return sol_result,se_result #,sse_our,sse_aut\n",
    "    #elif type == \"exp\":\n",
    "        #return sol[0],np.sqrt(np.diagonal(sol[1]))\n",
    "        #return sol_result,se_result\n"
   ]
  },
  {
   "cell_type": "code",
   "execution_count": 33,
   "metadata": {},
   "outputs": [
    {
     "name": "stderr",
     "output_type": "stream",
     "text": [
      "C:\\Users\\ua896\\AppData\\Local\\Temp\\ipykernel_50424\\2706465427.py:46: RuntimeWarning: invalid value encountered in log\n",
      "  f_x = (-1/g * np.log(check1) + 1/g*np.log(check2))\n"
     ]
    },
    {
     "data": {
      "text/plain": [
       "[0.004, 14.857, 9.132, 0.011, 0.143, '4.82e-5', 1.302, 0.239]"
      ]
     },
     "execution_count": 33,
     "metadata": {},
     "output_type": "execute_result"
    }
   ],
   "source": [
    "#Following are the estimation result\n",
    "be56,se56 = treatment_a(\"buttonpresses_nearest_100\",k_scaler = 1e+16, s_scaler= 1e+6,type = \"exp\",st_values = st_values_exp)\n",
    "se56"
   ]
  },
  {
   "cell_type": "code",
   "execution_count": 34,
   "metadata": {},
   "outputs": [
    {
     "data": {
      "text/plain": [
       "[21.082, 0.0, 1.452, 0.013, 0.265, '3.25e-5', 1.616, 0.751]"
      ]
     },
     "execution_count": 34,
     "metadata": {},
     "output_type": "execute_result"
    }
   ],
   "source": [
    "bp53,se53 = treatment_a(\"logbuttonpresses_nearest_100\",k_scaler = 1e+57, s_scaler= 1e+6,type = \"power\",st_values = st_values_power)\n",
    "bp53\n",
    "#sse_our,sse_our,sse_aut "
   ]
  },
  {
   "cell_type": "code",
   "execution_count": 35,
   "metadata": {},
   "outputs": [
    {
     "data": {
      "text/plain": [
       "[0.03, 0.288, '8.14e-5', 2.053, 0.292]"
      ]
     },
     "execution_count": 35,
     "metadata": {},
     "output_type": "execute_result"
    }
   ],
   "source": [
    "se53[3:8]"
   ]
  },
  {
   "cell_type": "code",
   "execution_count": 36,
   "metadata": {},
   "outputs": [],
   "source": [
    "#Adding authors result\n",
    "aut_power = [round(20.546,4),'{0:.2e}'.format(Decimal(5.12e-70)),'{0:.2e}'.format(Decimal(3.17e-06)),round(0.006,3),\n",
    "             round(0.182,3),'{0:.2e}'.format(Decimal(2.04e-05)),round(1.36,2),round(0.75,2)]\n",
    "\n",
    "\n",
    "aut_exp = [round(0.0156,4),'{0:.2e}'.format(Decimal(1.71e-16)),'{0:.2e}'.format(Decimal(3.72e-06)),round(0.07,3),round(0.035,3),\n",
    "           '{0:.2e}'.format(Decimal(3e-05)),round(0.79,2),round(0.86,2)]"
   ]
  },
  {
   "cell_type": "code",
   "execution_count": 212,
   "metadata": {},
   "outputs": [
    {
     "name": "stdout",
     "output_type": "stream",
     "text": [
      "Table 5: non-linear-least-squares estimates of behavioural parameters\n"
     ]
    },
    {
     "data": {
      "text/html": [
       "<div>\n",
       "<style scoped>\n",
       "    .dataframe tbody tr th:only-of-type {\n",
       "        vertical-align: middle;\n",
       "    }\n",
       "\n",
       "    .dataframe tbody tr th {\n",
       "        vertical-align: top;\n",
       "    }\n",
       "\n",
       "    .dataframe thead th {\n",
       "        text-align: right;\n",
       "    }\n",
       "</style>\n",
       "<table border=\"1\" class=\"dataframe\">\n",
       "  <thead>\n",
       "    <tr style=\"text-align: right;\">\n",
       "      <th></th>\n",
       "      <th>parameters</th>\n",
       "      <th>power_est</th>\n",
       "      <th>power_aut</th>\n",
       "      <th>se_p</th>\n",
       "      <th>exp_est</th>\n",
       "      <th>se_e</th>\n",
       "      <th>exp_aut</th>\n",
       "    </tr>\n",
       "  </thead>\n",
       "  <tbody>\n",
       "    <tr>\n",
       "      <th>0</th>\n",
       "      <td>Curvature γ of cost function</td>\n",
       "      <td>21.194</td>\n",
       "      <td>20.546</td>\n",
       "      <td>7.399</td>\n",
       "      <td>0.016</td>\n",
       "      <td>0.004</td>\n",
       "      <td>0.0156</td>\n",
       "    </tr>\n",
       "    <tr>\n",
       "      <th>1</th>\n",
       "      <td>Level k of cost of effort</td>\n",
       "      <td>5.95e-72</td>\n",
       "      <td>5.12e-70</td>\n",
       "      <td>3.33e-70</td>\n",
       "      <td>1.71e-16</td>\n",
       "      <td>1.49e-15</td>\n",
       "      <td>1.71e-16</td>\n",
       "    </tr>\n",
       "    <tr>\n",
       "      <th>2</th>\n",
       "      <td>Intrinsic motivation s</td>\n",
       "      <td>1.38e-6</td>\n",
       "      <td>3.17e-6</td>\n",
       "      <td>4.93e-6</td>\n",
       "      <td>3.72e-6</td>\n",
       "      <td>9.16e-6</td>\n",
       "      <td>3.72e-6</td>\n",
       "    </tr>\n",
       "    <tr>\n",
       "      <th>3</th>\n",
       "      <td>Social preferences α</td>\n",
       "      <td>0.013</td>\n",
       "      <td>0.006</td>\n",
       "      <td>0.03</td>\n",
       "      <td>0.004</td>\n",
       "      <td>0.011</td>\n",
       "      <td>0.07</td>\n",
       "    </tr>\n",
       "    <tr>\n",
       "      <th>4</th>\n",
       "      <td>Warm glow coefficient a</td>\n",
       "      <td>0.265</td>\n",
       "      <td>0.182</td>\n",
       "      <td>0.288</td>\n",
       "      <td>0.143</td>\n",
       "      <td>0.143</td>\n",
       "      <td>0.035</td>\n",
       "    </tr>\n",
       "    <tr>\n",
       "      <th>5</th>\n",
       "      <td>Gift exchange Δs</td>\n",
       "      <td>3.25e-5</td>\n",
       "      <td>2.04e-5</td>\n",
       "      <td>8.14e-5</td>\n",
       "      <td>2.35e-5</td>\n",
       "      <td>4.82e-5</td>\n",
       "      <td>3.00e-5</td>\n",
       "    </tr>\n",
       "    <tr>\n",
       "      <th>6</th>\n",
       "      <td>Present bias β</td>\n",
       "      <td>1.616</td>\n",
       "      <td>1.36</td>\n",
       "      <td>2.053</td>\n",
       "      <td>1.237</td>\n",
       "      <td>1.302</td>\n",
       "      <td>0.79</td>\n",
       "    </tr>\n",
       "    <tr>\n",
       "      <th>7</th>\n",
       "      <td>(Weekly) discount factor δ</td>\n",
       "      <td>0.751</td>\n",
       "      <td>0.75</td>\n",
       "      <td>0.292</td>\n",
       "      <td>0.754</td>\n",
       "      <td>0.239</td>\n",
       "      <td>0.86</td>\n",
       "    </tr>\n",
       "  </tbody>\n",
       "</table>\n",
       "</div>"
      ],
      "text/plain": [
       "                     parameters power_est power_aut      se_p   exp_est  \\\n",
       "0  Curvature γ of cost function    21.194    20.546     7.399     0.016   \n",
       "1     Level k of cost of effort  5.95e-72  5.12e-70  3.33e-70  1.71e-16   \n",
       "2        Intrinsic motivation s   1.38e-6   3.17e-6   4.93e-6   3.72e-6   \n",
       "3          Social preferences α     0.013     0.006      0.03     0.004   \n",
       "4       Warm glow coefficient a     0.265     0.182     0.288     0.143   \n",
       "5              Gift exchange Δs   3.25e-5   2.04e-5   8.14e-5   2.35e-5   \n",
       "6                Present bias β     1.616      1.36     2.053     1.237   \n",
       "7    (Weekly) discount factor δ     0.751      0.75     0.292     0.754   \n",
       "\n",
       "       se_e   exp_aut  \n",
       "0     0.004    0.0156  \n",
       "1  1.49e-15  1.71e-16  \n",
       "2   9.16e-6   3.72e-6  \n",
       "3     0.011      0.07  \n",
       "4     0.143     0.035  \n",
       "5   4.82e-5   3.00e-5  \n",
       "6     1.302      0.79  \n",
       "7     0.239      0.86  "
      ]
     },
     "metadata": {},
     "output_type": "display_data"
    }
   ],
   "source": [
    "#換名字\n",
    "# Create and save the dataframe for table 5 NLS estimates. \n",
    "\n",
    "params_name = [\"Curvature γ of cost function\", \"Level k of cost of effort\", \"Intrinsic motivation s\",\"Social preferences α\",\n",
    "                \"Warm glow coefficient a\",\"Gift exchange Δs\", \"Present bias β\",\"(Weekly) discount factor δ\"]\n",
    "\n",
    "be5 = be54[0:3]+be56[3:8]\n",
    "se5 = se54[0:3]+se56[3:8]\n",
    "bp5 = bp52[0:3]+bp53[3:8]\n",
    "sp5 = sp52[0:3]+se53[3:8]\n",
    "\n",
    "\n",
    "t5 = pd.DataFrame({'parameters':params_name,'power_est':bp5,'power_aut':aut_power,'se_p':sp5,'exp_est':be5,'se_e':se5,'exp_aut':aut_exp})\n",
    "print('Table 5: non-linear-least-squares estimates of behavioural parameters')\n",
    "display(t5)"
   ]
  },
  {
   "cell_type": "code",
   "execution_count": 219,
   "metadata": {},
   "outputs": [
    {
     "data": {
      "text/plain": [
       "power_est    1.38e-6\n",
       "power_aut    3.17e-6\n",
       "Name: 2, dtype: object"
      ]
     },
     "execution_count": 219,
     "metadata": {},
     "output_type": "execute_result"
    }
   ],
   "source": [
    "t5.filter(regex= 'power_').iloc[2,:]"
   ]
  },
  {
   "cell_type": "code",
   "execution_count": 232,
   "metadata": {},
   "outputs": [],
   "source": [
    "import plotly.graph_objects as go\n",
    "from plotly.subplots import make_subplots\n",
    "\n",
    "def plot_func0(a):\n",
    "    fig = make_subplots(rows = 3, cols= 2, shared_yaxes=False)#subplot_titles=('Estimation of gamma', 'Estimation of Probability weighting')\n",
    "                        \n",
    "    trace1 = go.Bar(\n",
    "        x=['my gamma estimation','authors estimation'],\n",
    "        y=t5.filter(regex= a).iloc[0,:],\n",
    "        name='gamma estimation comparison',\n",
    "        textposition='auto',\n",
    "        text=t5.filter(regex= a).iloc[0,:]\n",
    "    )\n",
    "\n",
    "    trace2 = go.Bar(\n",
    "        x=['my Social preferences estimation','author estimation'],\n",
    "        y=t5.filter(regex= a).iloc[3,:],\n",
    "        name='Social preferences estimation comparison',\n",
    "        textposition='auto',\n",
    "        text=t5.filter(regex= a).iloc[3,:]\n",
    "    )\n",
    "\n",
    "    trace3 = go.Bar(\n",
    "        x=['my coefficient a estimation','author estimation'],\n",
    "        y=t5.filter(regex= a).iloc[4,:],\n",
    "        name='Warm glow coefficient a estimation comparision',\n",
    "        textposition='auto',\n",
    "        text=t5.filter(regex= a).iloc[4,:]\n",
    "    )\n",
    "\n",
    "    trace4 = go.Bar(\n",
    "        x=['my Present bias β estimation','author estimation'],\n",
    "        y=t5.filter(regex= a).iloc[6,:],\n",
    "        name='Present bias β estimation comparision',\n",
    "        textposition='auto',\n",
    "        text=t5.filter(regex= a).iloc[6,:]\n",
    "    )\n",
    "\n",
    "    trace5 = go.Bar(\n",
    "        x=['discount factor δ estimation','author estimation'],\n",
    "        y=t5.filter(regex= a).iloc[7,:],\n",
    "        name='Discount factor δ estimation comparision',\n",
    "        textposition='auto',\n",
    "        text=t5.filter(regex= a).iloc[7,:]\n",
    "    )\n",
    "\n",
    "\n",
    "    #fig.append_trace(trace3, 1,1)\n",
    "    fig.append_trace(trace1,1,1)\n",
    "    fig.append_trace(trace2,1,2)\n",
    "    fig.append_trace(trace4,2,1)\n",
    "    fig.append_trace(trace3,2,2)\n",
    "    fig.append_trace(trace5,3,1)\n",
    "\n",
    "\n",
    "\n",
    "    # Change the bar mode\n",
    "    fig.update_layout(barmode='group',\n",
    "        title='Comparison of' + \" \"+ f'{a}'+\" \"+ 'function parameters between my result and the result of authors')\n",
    "    return fig.show()"
   ]
  },
  {
   "cell_type": "code",
   "execution_count": 234,
   "metadata": {},
   "outputs": [
    {
     "data": {
      "application/vnd.plotly.v1+json": {
       "config": {
        "plotlyServerURL": "https://plot.ly"
       },
       "data": [
        {
         "name": "gamma estimation comparison",
         "text": [
          0.016,
          0.0156
         ],
         "textposition": "auto",
         "type": "bar",
         "x": [
          "my gamma estimation",
          "authors estimation"
         ],
         "xaxis": "x",
         "y": [
          0.016,
          0.0156
         ],
         "yaxis": "y"
        },
        {
         "name": "Social preferences estimation comparison",
         "text": [
          0.004,
          0.07
         ],
         "textposition": "auto",
         "type": "bar",
         "x": [
          "my Social preferences estimation",
          "author estimation"
         ],
         "xaxis": "x2",
         "y": [
          0.004,
          0.07
         ],
         "yaxis": "y2"
        },
        {
         "name": "Present bias β estimation comparision",
         "text": [
          1.237,
          0.79
         ],
         "textposition": "auto",
         "type": "bar",
         "x": [
          "my Present bias β estimation",
          "author estimation"
         ],
         "xaxis": "x3",
         "y": [
          1.237,
          0.79
         ],
         "yaxis": "y3"
        },
        {
         "name": "Warm glow coefficient a estimation comparision",
         "text": [
          0.143,
          0.035
         ],
         "textposition": "auto",
         "type": "bar",
         "x": [
          "my coefficient a estimation",
          "author estimation"
         ],
         "xaxis": "x4",
         "y": [
          0.143,
          0.035
         ],
         "yaxis": "y4"
        },
        {
         "name": "Discount factor δ estimation comparision",
         "text": [
          0.754,
          0.86
         ],
         "textposition": "auto",
         "type": "bar",
         "x": [
          "discount factor δ estimation",
          "author estimation"
         ],
         "xaxis": "x5",
         "y": [
          0.754,
          0.86
         ],
         "yaxis": "y5"
        }
       ],
       "layout": {
        "barmode": "group",
        "template": {
         "data": {
          "bar": [
           {
            "error_x": {
             "color": "#2a3f5f"
            },
            "error_y": {
             "color": "#2a3f5f"
            },
            "marker": {
             "line": {
              "color": "#E5ECF6",
              "width": 0.5
             },
             "pattern": {
              "fillmode": "overlay",
              "size": 10,
              "solidity": 0.2
             }
            },
            "type": "bar"
           }
          ],
          "barpolar": [
           {
            "marker": {
             "line": {
              "color": "#E5ECF6",
              "width": 0.5
             },
             "pattern": {
              "fillmode": "overlay",
              "size": 10,
              "solidity": 0.2
             }
            },
            "type": "barpolar"
           }
          ],
          "carpet": [
           {
            "aaxis": {
             "endlinecolor": "#2a3f5f",
             "gridcolor": "white",
             "linecolor": "white",
             "minorgridcolor": "white",
             "startlinecolor": "#2a3f5f"
            },
            "baxis": {
             "endlinecolor": "#2a3f5f",
             "gridcolor": "white",
             "linecolor": "white",
             "minorgridcolor": "white",
             "startlinecolor": "#2a3f5f"
            },
            "type": "carpet"
           }
          ],
          "choropleth": [
           {
            "colorbar": {
             "outlinewidth": 0,
             "ticks": ""
            },
            "type": "choropleth"
           }
          ],
          "contour": [
           {
            "colorbar": {
             "outlinewidth": 0,
             "ticks": ""
            },
            "colorscale": [
             [
              0,
              "#0d0887"
             ],
             [
              0.1111111111111111,
              "#46039f"
             ],
             [
              0.2222222222222222,
              "#7201a8"
             ],
             [
              0.3333333333333333,
              "#9c179e"
             ],
             [
              0.4444444444444444,
              "#bd3786"
             ],
             [
              0.5555555555555556,
              "#d8576b"
             ],
             [
              0.6666666666666666,
              "#ed7953"
             ],
             [
              0.7777777777777778,
              "#fb9f3a"
             ],
             [
              0.8888888888888888,
              "#fdca26"
             ],
             [
              1,
              "#f0f921"
             ]
            ],
            "type": "contour"
           }
          ],
          "contourcarpet": [
           {
            "colorbar": {
             "outlinewidth": 0,
             "ticks": ""
            },
            "type": "contourcarpet"
           }
          ],
          "heatmap": [
           {
            "colorbar": {
             "outlinewidth": 0,
             "ticks": ""
            },
            "colorscale": [
             [
              0,
              "#0d0887"
             ],
             [
              0.1111111111111111,
              "#46039f"
             ],
             [
              0.2222222222222222,
              "#7201a8"
             ],
             [
              0.3333333333333333,
              "#9c179e"
             ],
             [
              0.4444444444444444,
              "#bd3786"
             ],
             [
              0.5555555555555556,
              "#d8576b"
             ],
             [
              0.6666666666666666,
              "#ed7953"
             ],
             [
              0.7777777777777778,
              "#fb9f3a"
             ],
             [
              0.8888888888888888,
              "#fdca26"
             ],
             [
              1,
              "#f0f921"
             ]
            ],
            "type": "heatmap"
           }
          ],
          "heatmapgl": [
           {
            "colorbar": {
             "outlinewidth": 0,
             "ticks": ""
            },
            "colorscale": [
             [
              0,
              "#0d0887"
             ],
             [
              0.1111111111111111,
              "#46039f"
             ],
             [
              0.2222222222222222,
              "#7201a8"
             ],
             [
              0.3333333333333333,
              "#9c179e"
             ],
             [
              0.4444444444444444,
              "#bd3786"
             ],
             [
              0.5555555555555556,
              "#d8576b"
             ],
             [
              0.6666666666666666,
              "#ed7953"
             ],
             [
              0.7777777777777778,
              "#fb9f3a"
             ],
             [
              0.8888888888888888,
              "#fdca26"
             ],
             [
              1,
              "#f0f921"
             ]
            ],
            "type": "heatmapgl"
           }
          ],
          "histogram": [
           {
            "marker": {
             "pattern": {
              "fillmode": "overlay",
              "size": 10,
              "solidity": 0.2
             }
            },
            "type": "histogram"
           }
          ],
          "histogram2d": [
           {
            "colorbar": {
             "outlinewidth": 0,
             "ticks": ""
            },
            "colorscale": [
             [
              0,
              "#0d0887"
             ],
             [
              0.1111111111111111,
              "#46039f"
             ],
             [
              0.2222222222222222,
              "#7201a8"
             ],
             [
              0.3333333333333333,
              "#9c179e"
             ],
             [
              0.4444444444444444,
              "#bd3786"
             ],
             [
              0.5555555555555556,
              "#d8576b"
             ],
             [
              0.6666666666666666,
              "#ed7953"
             ],
             [
              0.7777777777777778,
              "#fb9f3a"
             ],
             [
              0.8888888888888888,
              "#fdca26"
             ],
             [
              1,
              "#f0f921"
             ]
            ],
            "type": "histogram2d"
           }
          ],
          "histogram2dcontour": [
           {
            "colorbar": {
             "outlinewidth": 0,
             "ticks": ""
            },
            "colorscale": [
             [
              0,
              "#0d0887"
             ],
             [
              0.1111111111111111,
              "#46039f"
             ],
             [
              0.2222222222222222,
              "#7201a8"
             ],
             [
              0.3333333333333333,
              "#9c179e"
             ],
             [
              0.4444444444444444,
              "#bd3786"
             ],
             [
              0.5555555555555556,
              "#d8576b"
             ],
             [
              0.6666666666666666,
              "#ed7953"
             ],
             [
              0.7777777777777778,
              "#fb9f3a"
             ],
             [
              0.8888888888888888,
              "#fdca26"
             ],
             [
              1,
              "#f0f921"
             ]
            ],
            "type": "histogram2dcontour"
           }
          ],
          "mesh3d": [
           {
            "colorbar": {
             "outlinewidth": 0,
             "ticks": ""
            },
            "type": "mesh3d"
           }
          ],
          "parcoords": [
           {
            "line": {
             "colorbar": {
              "outlinewidth": 0,
              "ticks": ""
             }
            },
            "type": "parcoords"
           }
          ],
          "pie": [
           {
            "automargin": true,
            "type": "pie"
           }
          ],
          "scatter": [
           {
            "fillpattern": {
             "fillmode": "overlay",
             "size": 10,
             "solidity": 0.2
            },
            "type": "scatter"
           }
          ],
          "scatter3d": [
           {
            "line": {
             "colorbar": {
              "outlinewidth": 0,
              "ticks": ""
             }
            },
            "marker": {
             "colorbar": {
              "outlinewidth": 0,
              "ticks": ""
             }
            },
            "type": "scatter3d"
           }
          ],
          "scattercarpet": [
           {
            "marker": {
             "colorbar": {
              "outlinewidth": 0,
              "ticks": ""
             }
            },
            "type": "scattercarpet"
           }
          ],
          "scattergeo": [
           {
            "marker": {
             "colorbar": {
              "outlinewidth": 0,
              "ticks": ""
             }
            },
            "type": "scattergeo"
           }
          ],
          "scattergl": [
           {
            "marker": {
             "colorbar": {
              "outlinewidth": 0,
              "ticks": ""
             }
            },
            "type": "scattergl"
           }
          ],
          "scattermapbox": [
           {
            "marker": {
             "colorbar": {
              "outlinewidth": 0,
              "ticks": ""
             }
            },
            "type": "scattermapbox"
           }
          ],
          "scatterpolar": [
           {
            "marker": {
             "colorbar": {
              "outlinewidth": 0,
              "ticks": ""
             }
            },
            "type": "scatterpolar"
           }
          ],
          "scatterpolargl": [
           {
            "marker": {
             "colorbar": {
              "outlinewidth": 0,
              "ticks": ""
             }
            },
            "type": "scatterpolargl"
           }
          ],
          "scatterternary": [
           {
            "marker": {
             "colorbar": {
              "outlinewidth": 0,
              "ticks": ""
             }
            },
            "type": "scatterternary"
           }
          ],
          "surface": [
           {
            "colorbar": {
             "outlinewidth": 0,
             "ticks": ""
            },
            "colorscale": [
             [
              0,
              "#0d0887"
             ],
             [
              0.1111111111111111,
              "#46039f"
             ],
             [
              0.2222222222222222,
              "#7201a8"
             ],
             [
              0.3333333333333333,
              "#9c179e"
             ],
             [
              0.4444444444444444,
              "#bd3786"
             ],
             [
              0.5555555555555556,
              "#d8576b"
             ],
             [
              0.6666666666666666,
              "#ed7953"
             ],
             [
              0.7777777777777778,
              "#fb9f3a"
             ],
             [
              0.8888888888888888,
              "#fdca26"
             ],
             [
              1,
              "#f0f921"
             ]
            ],
            "type": "surface"
           }
          ],
          "table": [
           {
            "cells": {
             "fill": {
              "color": "#EBF0F8"
             },
             "line": {
              "color": "white"
             }
            },
            "header": {
             "fill": {
              "color": "#C8D4E3"
             },
             "line": {
              "color": "white"
             }
            },
            "type": "table"
           }
          ]
         },
         "layout": {
          "annotationdefaults": {
           "arrowcolor": "#2a3f5f",
           "arrowhead": 0,
           "arrowwidth": 1
          },
          "autotypenumbers": "strict",
          "coloraxis": {
           "colorbar": {
            "outlinewidth": 0,
            "ticks": ""
           }
          },
          "colorscale": {
           "diverging": [
            [
             0,
             "#8e0152"
            ],
            [
             0.1,
             "#c51b7d"
            ],
            [
             0.2,
             "#de77ae"
            ],
            [
             0.3,
             "#f1b6da"
            ],
            [
             0.4,
             "#fde0ef"
            ],
            [
             0.5,
             "#f7f7f7"
            ],
            [
             0.6,
             "#e6f5d0"
            ],
            [
             0.7,
             "#b8e186"
            ],
            [
             0.8,
             "#7fbc41"
            ],
            [
             0.9,
             "#4d9221"
            ],
            [
             1,
             "#276419"
            ]
           ],
           "sequential": [
            [
             0,
             "#0d0887"
            ],
            [
             0.1111111111111111,
             "#46039f"
            ],
            [
             0.2222222222222222,
             "#7201a8"
            ],
            [
             0.3333333333333333,
             "#9c179e"
            ],
            [
             0.4444444444444444,
             "#bd3786"
            ],
            [
             0.5555555555555556,
             "#d8576b"
            ],
            [
             0.6666666666666666,
             "#ed7953"
            ],
            [
             0.7777777777777778,
             "#fb9f3a"
            ],
            [
             0.8888888888888888,
             "#fdca26"
            ],
            [
             1,
             "#f0f921"
            ]
           ],
           "sequentialminus": [
            [
             0,
             "#0d0887"
            ],
            [
             0.1111111111111111,
             "#46039f"
            ],
            [
             0.2222222222222222,
             "#7201a8"
            ],
            [
             0.3333333333333333,
             "#9c179e"
            ],
            [
             0.4444444444444444,
             "#bd3786"
            ],
            [
             0.5555555555555556,
             "#d8576b"
            ],
            [
             0.6666666666666666,
             "#ed7953"
            ],
            [
             0.7777777777777778,
             "#fb9f3a"
            ],
            [
             0.8888888888888888,
             "#fdca26"
            ],
            [
             1,
             "#f0f921"
            ]
           ]
          },
          "colorway": [
           "#636efa",
           "#EF553B",
           "#00cc96",
           "#ab63fa",
           "#FFA15A",
           "#19d3f3",
           "#FF6692",
           "#B6E880",
           "#FF97FF",
           "#FECB52"
          ],
          "font": {
           "color": "#2a3f5f"
          },
          "geo": {
           "bgcolor": "white",
           "lakecolor": "white",
           "landcolor": "#E5ECF6",
           "showlakes": true,
           "showland": true,
           "subunitcolor": "white"
          },
          "hoverlabel": {
           "align": "left"
          },
          "hovermode": "closest",
          "mapbox": {
           "style": "light"
          },
          "paper_bgcolor": "white",
          "plot_bgcolor": "#E5ECF6",
          "polar": {
           "angularaxis": {
            "gridcolor": "white",
            "linecolor": "white",
            "ticks": ""
           },
           "bgcolor": "#E5ECF6",
           "radialaxis": {
            "gridcolor": "white",
            "linecolor": "white",
            "ticks": ""
           }
          },
          "scene": {
           "xaxis": {
            "backgroundcolor": "#E5ECF6",
            "gridcolor": "white",
            "gridwidth": 2,
            "linecolor": "white",
            "showbackground": true,
            "ticks": "",
            "zerolinecolor": "white"
           },
           "yaxis": {
            "backgroundcolor": "#E5ECF6",
            "gridcolor": "white",
            "gridwidth": 2,
            "linecolor": "white",
            "showbackground": true,
            "ticks": "",
            "zerolinecolor": "white"
           },
           "zaxis": {
            "backgroundcolor": "#E5ECF6",
            "gridcolor": "white",
            "gridwidth": 2,
            "linecolor": "white",
            "showbackground": true,
            "ticks": "",
            "zerolinecolor": "white"
           }
          },
          "shapedefaults": {
           "line": {
            "color": "#2a3f5f"
           }
          },
          "ternary": {
           "aaxis": {
            "gridcolor": "white",
            "linecolor": "white",
            "ticks": ""
           },
           "baxis": {
            "gridcolor": "white",
            "linecolor": "white",
            "ticks": ""
           },
           "bgcolor": "#E5ECF6",
           "caxis": {
            "gridcolor": "white",
            "linecolor": "white",
            "ticks": ""
           }
          },
          "title": {
           "x": 0.05
          },
          "xaxis": {
           "automargin": true,
           "gridcolor": "white",
           "linecolor": "white",
           "ticks": "",
           "title": {
            "standoff": 15
           },
           "zerolinecolor": "white",
           "zerolinewidth": 2
          },
          "yaxis": {
           "automargin": true,
           "gridcolor": "white",
           "linecolor": "white",
           "ticks": "",
           "title": {
            "standoff": 15
           },
           "zerolinecolor": "white",
           "zerolinewidth": 2
          }
         }
        },
        "title": {
         "text": "Comparison of exp function parameters between my result and the result of authors"
        },
        "xaxis": {
         "anchor": "y",
         "domain": [
          0,
          0.45
         ]
        },
        "xaxis2": {
         "anchor": "y2",
         "domain": [
          0.55,
          1
         ]
        },
        "xaxis3": {
         "anchor": "y3",
         "domain": [
          0,
          0.45
         ]
        },
        "xaxis4": {
         "anchor": "y4",
         "domain": [
          0.55,
          1
         ]
        },
        "xaxis5": {
         "anchor": "y5",
         "domain": [
          0,
          0.45
         ]
        },
        "xaxis6": {
         "anchor": "y6",
         "domain": [
          0.55,
          1
         ]
        },
        "yaxis": {
         "anchor": "x",
         "domain": [
          0.7333333333333333,
          1
         ]
        },
        "yaxis2": {
         "anchor": "x2",
         "domain": [
          0.7333333333333333,
          1
         ]
        },
        "yaxis3": {
         "anchor": "x3",
         "domain": [
          0.36666666666666664,
          0.6333333333333333
         ]
        },
        "yaxis4": {
         "anchor": "x4",
         "domain": [
          0.36666666666666664,
          0.6333333333333333
         ]
        },
        "yaxis5": {
         "anchor": "x5",
         "domain": [
          0,
          0.26666666666666666
         ]
        },
        "yaxis6": {
         "anchor": "x6",
         "domain": [
          0,
          0.26666666666666666
         ]
        }
       }
      }
     },
     "metadata": {},
     "output_type": "display_data"
    }
   ],
   "source": [
    "plot_func0(\"exp\")"
   ]
  },
  {
   "cell_type": "code",
   "execution_count": 39,
   "metadata": {},
   "outputs": [
    {
     "name": "stderr",
     "output_type": "stream",
     "text": [
      "C:\\Users\\ua896\\AppData\\Local\\Temp\\ipykernel_50424\\189192568.py:47: RuntimeWarning: invalid value encountered in log\n",
      "  f_x = (-1/g * np.log(check1) + 1/g*np.log(check2))\n"
     ]
    },
    {
     "data": {
      "text/plain": [
       "[21.082, 0.0, 1.452, 0.013, 0.265, '3.25e-5', 1.616, 0.751]"
      ]
     },
     "execution_count": 39,
     "metadata": {},
     "output_type": "execute_result"
    }
   ],
   "source": [
    "#Just Tring code:\n",
    "stvale_spec = [0.003, 0.13, 1.16, 0.75, 5e-6]\n",
    "def know_how():\n",
    "    def treatment_a(effort,k_scaler,s_scaler,type,st_values):\n",
    "        '''\n",
    "        effort: How many times the participants press the button\n",
    "        \n",
    "        k_scaler: This is a tool to prvent from very large number show up in the calculation process, and it would not affect on the result. The k_scaler for\n",
    "                    \"exp\" and \"power\" can be different.\n",
    "        s_scaler:  This is a tool to prvent from very large number show up in the calculation process, and it would not affect on the result. The s_scaler for\n",
    "                    \"exp\" and \"power\" can be different.\n",
    "        \n",
    "        type: type can be \"exp\" or \"power\", to decide which cost function we are going to apply.\n",
    "        \n",
    "        st_values: This is the initial guess for the parameters k,gamma,s.\n",
    "\n",
    "        '''\n",
    "        def noweight(xdata, g, k, s, alpha, a, gift, beta, delta):\n",
    "            '''\n",
    "            xdata: This the vector containing the explanatory variables\n",
    "            \n",
    "            g, k, s: These are the same parameters from before\n",
    "            \n",
    "            alpha: This the pure altruism coefficient\n",
    "            \n",
    "            a: This is the warm glow coefficient\n",
    "            \n",
    "            gift: This is the gift exchange coefficient Δs\n",
    "\n",
    "            beta: This is the present bias paramater\n",
    "\n",
    "            delta: This is the (weekly) discount factor\n",
    "            \n",
    "            '''\n",
    "            pay100 = xdata[0]\n",
    "            gd = xdata[1] #gd is gift dummy\n",
    "            dd = xdata[2] #dd is delay dummy\n",
    "            dw = xdata[3] #dw is delay weeks\n",
    "            paychar = xdata[4] #paychar is pay in charity treatment\n",
    "            dc = xdata[5] #dc is dummy charity\n",
    "            if type == \"exp\":\n",
    "                check1 = k/k_scaler\n",
    "                check2 = s/s_scaler + gift*0.4*gd + (beta**dd)*(delta**dw)*pay100 + alpha*paychar +a*0.01*dc\n",
    "            elif type == \"power\":\n",
    "                check1= max(k/k_scaler, 1e-115)\n",
    "                check2= np.maximum(s/s_scaler + gift*0.4*gd + (beta**dd)*(delta**dw)*pay100 + alpha*paychar + a*0.01*dc, 1e-10)  \n",
    "            f_x = (-1/g * np.log(check1) + 1/g*np.log(check2))\n",
    "            return f_x\n",
    "\n",
    "    # Find the solution to the problem by non-linear least squares \n",
    "        \n",
    "        st_valuesnoweight = np.concatenate((st_values,stvale_spec)) # starting values\n",
    "\n",
    "        args = [df.loc[df['samplenw']==1].payoff_per_100, df.loc[df['samplenw']==1].gift_dummy, df.loc[df['samplenw']==1].delay_dummy,\n",
    "                df.loc[df['samplenw']==1].delay_wks, df.loc[df['samplenw']==1].payoff_charity_per_100, df.loc[df['samplenw']==1].dummy_charity]\n",
    "\n",
    "        sol = opt.curve_fit(noweight, \n",
    "                        args,\n",
    "                        df.loc[df['samplenw']==1,effort],\n",
    "                        st_valuesnoweight)\n",
    "        \n",
    "        sol_result = [0]*8\n",
    "        se_result = [0]*8\n",
    "        se = np.sqrt(np.diagonal(sol[1]))\n",
    "        for i in range(0,len(sol[0])):\n",
    "            if i==5:\n",
    "                sol_result[i] = '{0:.2e}'.format(Decimal(sol[0][i]))\n",
    "                se_result[i] = '{0:.2e}'.format(Decimal(se[i]))   \n",
    "            else:\n",
    "                sol_result[i] = round(sol[0][i],3)\n",
    "                se_result[i] = round(se[i],3)\n",
    "        if type == \"power\":\n",
    "            nwest_aut = [20.546, 5.12e-70, 3.17e-06, 0.0064462, 0.1818249, 0.0000204, 1.357934, 0.7494928]\n",
    "            sse_our = np.sum((noweight(args,*sol[0])-df.loc[df['samplenw']==1,effort])**2)\n",
    "            sse_aut = np.sum((noweight(args,*nwest_aut)-df.loc[df['samplenw']==1,effort])**2)\n",
    "            #return sol[0],np.sqrt(np.diagonal(sol[1])),sse_our,sse_aut\n",
    "            return sol_result,se_result,sse_our,sse_aut\n",
    "        elif type == \"exp\":\n",
    "            #return sol[0],np.sqrt(np.diagonal(sol[1]))\n",
    "            return sol_result,se_result\n",
    "    be56,se56 = treatment_a(\"buttonpresses_nearest_100\",k_scaler = 1e+16, s_scaler= 1e+6,type = \"exp\",st_values = st_values_exp)\n",
    "    bp53,se53,sse_our,sse_aut  = treatment_a(\"logbuttonpresses_nearest_100\",k_scaler = 1e+57, s_scaler= 1e+6,type = \"power\",st_values = st_values_power)\n",
    "    return be56,se56,bp53,se53,sse_our,sse_aut\n",
    "\n",
    "be56,se56,bp53,se53,sse_our,sse_aut = know_how()\n",
    "bp53\n",
    "    \n"
   ]
  },
  {
   "cell_type": "code",
   "execution_count": 40,
   "metadata": {},
   "outputs": [
    {
     "name": "stdout",
     "output_type": "stream",
     "text": [
      "The sum of squared errors using our estimates is: 670.61\n",
      "The sum of squared errors using the authors'estimates is: 115020.3364547974\n"
     ]
    }
   ],
   "source": [
    "print('The sum of squared errors using our estimates is: ' + str(sse))\n",
    "print(\"The sum of squared errors using the authors'estimates is: \" + str(sse_aut))\n",
    "# The difference of the result between original code and here is also becuase the scale is different. Here follow the scale of paper.\n",
    "# If don't change back the scale from scaler, the result is exactly the same as the one in original python code."
   ]
  },
  {
   "cell_type": "code",
   "execution_count": 41,
   "metadata": {},
   "outputs": [],
   "source": [
    "# Create the sample used for Table 6 panel A\n",
    "df['samplepr'] = (df['treatment'].isin(['1.1','1.2','1.3','6.1','6.2'])).astype(int)"
   ]
  },
  {
   "cell_type": "code",
   "execution_count": 42,
   "metadata": {},
   "outputs": [],
   "source": [
    "#Define the inital guess for prob_weight and curvature\n",
    "prob_weight_init = [0.2]\n",
    "curv_init = [0.5]"
   ]
  },
  {
   "cell_type": "code",
   "execution_count": 43,
   "metadata": {},
   "outputs": [],
   "source": [
    "def treatment_prob(effort,k_scaler,s_scaler,type,st_values,curve):\n",
    "    '''\n",
    "    effort: How many times the participants press the button\n",
    "    \n",
    "    k_scaler: This is a tool to prvent from very large number show up in the calculation process, and it would not affect on the result. The k_scaler for\n",
    "                   \"exp\" and \"power\" can be different.\n",
    "    s_scaler:  This is a tool to prvent from very large number show up in the calculation process, and it would not affect on the result. The s_scaler for\n",
    "                   \"exp\" and \"power\" can be different.\n",
    "    \n",
    "    type: type can be \"exp\" or \"power\", to decide which cost function we are going to apply.\n",
    "    \n",
    "    st_values: This is the initial guess for the parameters k,gamma,s.\n",
    "\n",
    "    curve: the curvature of the value function\n",
    "\n",
    "    '''\n",
    "    \n",
    "    def probweight(xdata, g, k, s, p_weight): \n",
    "        '''\n",
    "        xdata: This the vector containing the explanatory variables\n",
    "           \n",
    "        g, k, s: These are the same parameters from before\n",
    "        \n",
    "        p_weight: p_weight is the probability weighting coefficient \n",
    "          \n",
    "        '''     \n",
    "        pay100 = xdata[0]\n",
    "        wd = xdata[1]\n",
    "        prob = xdata[2]\n",
    "    \n",
    "        if type == \"exp\":\n",
    "            check1 = k/k_scaler\n",
    "            check2 = s/s_scaler+ p_weight**wd*prob*pay100**curve\n",
    "        else :\n",
    "            check1 = max(k/k_scaler, 1e-115)\n",
    "            check2 = np.maximum(s/s_scaler + p_weight**wd*prob*pay100**curve, 1e-10)\n",
    "        \n",
    "        f_x = (-1/g * np.log(check1) + 1/g*np.log(check2))\n",
    "        return f_x\n",
    "    \n",
    "    st_valuesprobweight = np.concatenate((st_values,prob_weight_init))\n",
    "    args = [df.loc[df['samplepr']==1].payoff_per_100, df.loc[df['samplepr']==1].weight_dummy, df.loc[df['samplepr']==1].prob]\n",
    "    sol = opt.curve_fit(probweight,\n",
    "                    args,\n",
    "                    df.loc[df['samplepr']==1,effort],\n",
    "                    st_valuesprobweight)\n",
    "    \n",
    "    #Transform to easily understanding and comparable format\n",
    "    solo = [i/j for i,j in zip(sol[0],[1,k_scaler,s_scaler,1,1])]\n",
    "    se = [i/j for i,j in zip(np.sqrt(np.diagonal(sol[1])),[1,k_scaler,s_scaler,1,1])]\n",
    "    sol_result = [0]*4\n",
    "    se_result = [0]*4\n",
    "    for i in range(0,len(solo)):\n",
    "        if i==1 or i==2:\n",
    "            sol_result[i] = '{0:.2e}'.format(Decimal(solo[i]))\n",
    "            se_result[i] = '{0:.2e}'.format(Decimal(se[i]))\n",
    "        else:\n",
    "            sol_result[i] = round(solo[i],4)\n",
    "            se_result[i] = round(se[i],4)        \n",
    "   \n",
    "    return np.append(sol_result,curve),np.append(se_result,0) \n"
   ]
  },
  {
   "cell_type": "code",
   "execution_count": 44,
   "metadata": {},
   "outputs": [
    {
     "data": {
      "text/plain": [
       "array(['0.0134', '2.42e-14', '1.64e-5', '0.239', '1'], dtype='<U32')"
      ]
     },
     "execution_count": 44,
     "metadata": {},
     "output_type": "execute_result"
    }
   ],
   "source": [
    "be64,se64= treatment_prob(\"buttonpresses_nearest_100\",k_scaler = 1e+16, s_scaler= 1e+6,type = \"exp\",st_values = st_values_exp,curve =1)\n",
    "be65,se65 = treatment_prob(\"buttonpresses_nearest_100\",k_scaler = 1e+16, s_scaler= 1e+6,type = \"exp\",st_values = st_values_exp,curve =0.88)\n",
    "bp61,sp61 = treatment_prob(\"logbuttonpresses_nearest_100\",k_scaler = 1e+57, s_scaler= 1e+6,type = \"power\",st_values = st_values_power,curve =1)\n",
    "bp62,sp62 = treatment_prob(\"logbuttonpresses_nearest_100\",k_scaler = 1e+57, s_scaler= 1e+6,type = \"power\",st_values = st_values_power,curve =0.88)\n",
    "be64"
   ]
  },
  {
   "cell_type": "code",
   "execution_count": 190,
   "metadata": {},
   "outputs": [],
   "source": [
    "def treatment_prob_curve(effort,k_scaler,s_scaler,type,st_values):\n",
    "    '''\n",
    "    effort: How many times the participants press the button\n",
    "    \n",
    "    k_scaler: This is a tool to prvent from very large number show up in the calculation process, and it would not affect on the result. The k_scaler for\n",
    "                   \"exp\" and \"power\" can be different.\n",
    "    s_scaler:  This is a tool to prvent from very large number show up in the calculation process, and it would not affect on the result. The s_scaler for\n",
    "                   \"exp\" and \"power\" can be different.\n",
    "    \n",
    "    type: type can be \"exp\" or \"power\", to decide which cost function we are going to apply.\n",
    "    \n",
    "    st_values: This is the initial guess for the parameters k,gamma,s.\n",
    "\n",
    "\n",
    "    '''\n",
    "    def probweight(xdata, g, k, s, p_weight,curve):    \n",
    "        '''\n",
    "        xdata: This the vector containing the explanatory variables\n",
    "           \n",
    "        g, k, s: These are the same parameters from before\n",
    "        \n",
    "        p_weight: p_weight is the probability weighting coefficient \n",
    "\n",
    "        curve: the curvature of the value function\n",
    "          \n",
    "        '''   \n",
    "        pay100 = xdata[0]\n",
    "        wd = xdata[1]\n",
    "        prob = xdata[2]\n",
    "    \n",
    "        if type == \"exp\":\n",
    "            check1 = k/k_scaler\n",
    "            check2 = s/s_scaler+ p_weight**wd*prob*pay100**curve\n",
    "        else :\n",
    "            check1 = max(k/k_scaler, 1e-115)\n",
    "            check2 = np.maximum(s/s_scaler + p_weight**wd*prob*pay100**curve, 1e-10)\n",
    "        \n",
    "        f_x = (-1/g * np.log(check1) + 1/g*np.log(check2))\n",
    "        return f_x\n",
    "    \n",
    "    st_valuesprobweight = np.concatenate((st_values,prob_weight_init,curv_init))\n",
    "    #st_valuesprobweight = np.concatenate((st_valuesprobweight,curv_init))\n",
    "    #args = [df.loc[df['samplepr']==1].payoff_per_100, df.loc[df['samplepr']==1].weight_dummy, df.loc[df['samplepr']==1].prob]\n",
    "    args = [df.loc[df['samplepr']==1].payoff_per_100, df.loc[df['samplepr']==1].weight_dummy, df.loc[df['samplepr']==1].prob]\n",
    "    sol = opt.curve_fit(probweight,\n",
    "                    args,\n",
    "                    df.loc[df['samplepr']==1,effort],\n",
    "                    st_valuesprobweight)\n",
    "    solo = [i/j for i,j in zip(sol[0],[1,k_scaler,s_scaler,1,1])]\n",
    "    se = [i/j for i,j in zip(np.sqrt(np.diagonal(sol[1])),[1,k_scaler,s_scaler,1,1])]\n",
    "    sol_result = [0]*5\n",
    "    se_result = [0]*5\n",
    "    for i in range(0,len(solo)):\n",
    "        if i==1 or i==2:\n",
    "            sol_result[i] = '{0:.2e}'.format(Decimal(solo[i]))\n",
    "            se_result[i] = '{0:.2e}'.format(Decimal(se[i]))\n",
    "        else:\n",
    "            sol_result[i] = round(solo[i],4)\n",
    "            se_result[i] = round(se[i],4)   \n",
    "    return sol_result,se_result"
   ]
  },
  {
   "cell_type": "code",
   "execution_count": 186,
   "metadata": {},
   "outputs": [
    {
     "data": {
      "text/plain": [
       "[0.01, '5.46e-8', '3.14e-3', 4.3, 0.47]"
      ]
     },
     "execution_count": 186,
     "metadata": {},
     "output_type": "execute_result"
    }
   ],
   "source": [
    "#The estimation result\n",
    "be66, se66 = treatment_prob_curve(\"buttonpresses_nearest_100\",k_scaler = 1e+16, s_scaler= 1e+6,type = \"exp\",st_values = st_values_exp)\n",
    "bp63, sp63 = treatment_prob_curve(\"logbuttonpresses_nearest_100\",k_scaler = 1e+57, s_scaler= 1e+6,type = \"power\",st_values = st_values_power)\n",
    "be66"
   ]
  },
  {
   "cell_type": "code",
   "execution_count": 187,
   "metadata": {},
   "outputs": [],
   "source": [
    "#author result#This part is not in the original code\n",
    "p_est_autp1 = [round(20.59,2),'{0:.2e}'.format(Decimal(3.77e-70)),'{0:.2e}'.format(Decimal(2.66e-06)),round(0.19,2),round(1,0)]\n",
    "p_est_autp2 = [round(18.87,2),'{0:.2e}'.format(Decimal(3.92e-64)),'{0:.2e}'.format(Decimal(6.22e-06)),round(0.38,2),round(0.88,2)]\n",
    "p_est_autp3 = [round(19.64,2),'{0:.2e}'.format(Decimal(1.02e-66)),'{0:.2e}'.format(Decimal(3.75e-06)),round(0.30,2),round(0.92,2)]\n",
    "###\n",
    "e_est_autp1 = [round(0.0134,2),'{0:.2e}'.format(Decimal(2.42e-14)),'{0:.2e}'.format(Decimal(1.65e-5)),round(0.24,2),round(1,0)]\n",
    "e_est_autp2 = [round(0.0119,2),'{0:.2e}'.format(Decimal(7.5e-13)),'{0:.2e}'.format(Decimal(5.55e-5)),round(0.47,2),round(0.88,2)]\n",
    "e_est_autp3 = [round(0.0072,2),'{0:.2e}'.format(Decimal(5.46e-08)),'{0:.2e}'.format(Decimal(3.14e-3)),round(4.3,2),round(0.47,2)]"
   ]
  },
  {
   "cell_type": "code",
   "execution_count": 188,
   "metadata": {},
   "outputs": [
    {
     "data": {
      "text/html": [
       "<div>\n",
       "<style scoped>\n",
       "    .dataframe tbody tr th:only-of-type {\n",
       "        vertical-align: middle;\n",
       "    }\n",
       "\n",
       "    .dataframe tbody tr th {\n",
       "        vertical-align: top;\n",
       "    }\n",
       "\n",
       "    .dataframe thead th {\n",
       "        text-align: right;\n",
       "    }\n",
       "</style>\n",
       "<table border=\"1\" class=\"dataframe\">\n",
       "  <thead>\n",
       "    <tr style=\"text-align: right;\">\n",
       "      <th></th>\n",
       "      <th>parameters</th>\n",
       "      <th>p_est1</th>\n",
       "      <th>p_se1</th>\n",
       "      <th>p_aut1</th>\n",
       "      <th>p_est2</th>\n",
       "      <th>p_se2</th>\n",
       "      <th>p_aut2</th>\n",
       "      <th>p_est3</th>\n",
       "      <th>p_se3</th>\n",
       "      <th>p_aut3</th>\n",
       "      <th>e_est4</th>\n",
       "      <th>e_se4</th>\n",
       "      <th>e_aut1</th>\n",
       "      <th>e_est5</th>\n",
       "      <th>e_se5</th>\n",
       "      <th>e_aut2</th>\n",
       "      <th>e_est6</th>\n",
       "      <th>e_se6</th>\n",
       "      <th>e_aut3</th>\n",
       "    </tr>\n",
       "  </thead>\n",
       "  <tbody>\n",
       "    <tr>\n",
       "      <th>0</th>\n",
       "      <td>Curvature γ of cost function</td>\n",
       "      <td>20.9475</td>\n",
       "      <td>5.7752</td>\n",
       "      <td>20.59</td>\n",
       "      <td>18.9623</td>\n",
       "      <td>5.2711</td>\n",
       "      <td>18.87</td>\n",
       "      <td>19.64</td>\n",
       "      <td>17.32</td>\n",
       "      <td>19.64</td>\n",
       "      <td>0.0134</td>\n",
       "      <td>0.0026</td>\n",
       "      <td>0.01</td>\n",
       "      <td>0.0119</td>\n",
       "      <td>0.0023</td>\n",
       "      <td>0.01</td>\n",
       "      <td>0.01</td>\n",
       "      <td>0.0</td>\n",
       "      <td>0.01</td>\n",
       "    </tr>\n",
       "    <tr>\n",
       "      <th>1</th>\n",
       "      <td>Level k of cost of effort</td>\n",
       "      <td>3.89e-71</td>\n",
       "      <td>1.70e-69</td>\n",
       "      <td>3.77e-70</td>\n",
       "      <td>1.96e-64</td>\n",
       "      <td>7.68e-63</td>\n",
       "      <td>3.92e-64</td>\n",
       "      <td>1.01e-66</td>\n",
       "      <td>1.36e-64</td>\n",
       "      <td>1.02e-66</td>\n",
       "      <td>2.42e-14</td>\n",
       "      <td>1.29e-13</td>\n",
       "      <td>2.42e-14</td>\n",
       "      <td>7.50e-13</td>\n",
       "      <td>3.56e-12</td>\n",
       "      <td>7.50e-13</td>\n",
       "      <td>5.46e-8</td>\n",
       "      <td>3.70e-7</td>\n",
       "      <td>5.46e-8</td>\n",
       "    </tr>\n",
       "    <tr>\n",
       "      <th>2</th>\n",
       "      <td>Intrinsic motivation s</td>\n",
       "      <td>1.57e-6</td>\n",
       "      <td>4.23e-6</td>\n",
       "      <td>2.66e-6</td>\n",
       "      <td>5.96e-6</td>\n",
       "      <td>1.47e-5</td>\n",
       "      <td>6.22e-6</td>\n",
       "      <td>3.75e-6</td>\n",
       "      <td>4.17e-5</td>\n",
       "      <td>3.75e-6</td>\n",
       "      <td>1.64e-5</td>\n",
       "      <td>2.40e-5</td>\n",
       "      <td>1.65e-5</td>\n",
       "      <td>5.55e-5</td>\n",
       "      <td>7.20e-5</td>\n",
       "      <td>5.55e-5</td>\n",
       "      <td>3.14e-3</td>\n",
       "      <td>7.50e-3</td>\n",
       "      <td>3.14e-3</td>\n",
       "    </tr>\n",
       "    <tr>\n",
       "      <th>3</th>\n",
       "      <td>Probability weighting π (1%) (in %)</td>\n",
       "      <td>0.1928</td>\n",
       "      <td>0.173</td>\n",
       "      <td>0.19</td>\n",
       "      <td>0.3732</td>\n",
       "      <td>0.3042</td>\n",
       "      <td>0.38</td>\n",
       "      <td>0.3</td>\n",
       "      <td>1.57</td>\n",
       "      <td>0.3</td>\n",
       "      <td>0.239</td>\n",
       "      <td>0.1427</td>\n",
       "      <td>0.24</td>\n",
       "      <td>0.466</td>\n",
       "      <td>0.2472</td>\n",
       "      <td>0.47</td>\n",
       "      <td>4.3</td>\n",
       "      <td>5.46</td>\n",
       "      <td>4.3</td>\n",
       "    </tr>\n",
       "    <tr>\n",
       "      <th>4</th>\n",
       "      <td>Curvature of utility over piece rate</td>\n",
       "      <td>1</td>\n",
       "      <td>0</td>\n",
       "      <td>1</td>\n",
       "      <td>0.88</td>\n",
       "      <td>0</td>\n",
       "      <td>0.88</td>\n",
       "      <td>0.92</td>\n",
       "      <td>0.93</td>\n",
       "      <td>0.92</td>\n",
       "      <td>1</td>\n",
       "      <td>0</td>\n",
       "      <td>1</td>\n",
       "      <td>0.88</td>\n",
       "      <td>0</td>\n",
       "      <td>0.88</td>\n",
       "      <td>0.47</td>\n",
       "      <td>0.24</td>\n",
       "      <td>0.47</td>\n",
       "    </tr>\n",
       "  </tbody>\n",
       "</table>\n",
       "</div>"
      ],
      "text/plain": [
       "                             parameters    p_est1     p_se1    p_aut1  \\\n",
       "0          Curvature γ of cost function   20.9475    5.7752     20.59   \n",
       "1             Level k of cost of effort  3.89e-71  1.70e-69  3.77e-70   \n",
       "2                Intrinsic motivation s   1.57e-6   4.23e-6   2.66e-6   \n",
       "3   Probability weighting π (1%) (in %)    0.1928     0.173      0.19   \n",
       "4  Curvature of utility over piece rate         1         0         1   \n",
       "\n",
       "     p_est2     p_se2    p_aut2    p_est3     p_se3    p_aut3    e_est4  \\\n",
       "0   18.9623    5.2711     18.87     19.64     17.32     19.64    0.0134   \n",
       "1  1.96e-64  7.68e-63  3.92e-64  1.01e-66  1.36e-64  1.02e-66  2.42e-14   \n",
       "2   5.96e-6   1.47e-5   6.22e-6   3.75e-6   4.17e-5   3.75e-6   1.64e-5   \n",
       "3    0.3732    0.3042      0.38       0.3      1.57       0.3     0.239   \n",
       "4      0.88         0      0.88      0.92      0.93      0.92         1   \n",
       "\n",
       "      e_se4    e_aut1    e_est5     e_se5    e_aut2   e_est6    e_se6   e_aut3  \n",
       "0    0.0026      0.01    0.0119    0.0023      0.01     0.01      0.0     0.01  \n",
       "1  1.29e-13  2.42e-14  7.50e-13  3.56e-12  7.50e-13  5.46e-8  3.70e-7  5.46e-8  \n",
       "2   2.40e-5   1.65e-5   5.55e-5   7.20e-5   5.55e-5  3.14e-3  7.50e-3  3.14e-3  \n",
       "3    0.1427      0.24     0.466    0.2472      0.47      4.3     5.46      4.3  \n",
       "4         0         1      0.88         0      0.88     0.47     0.24     0.47  "
      ]
     },
     "metadata": {},
     "output_type": "display_data"
    }
   ],
   "source": [
    "# Create the dataframe relative to table 6\n",
    "# In this table, author's result also be added.#改\n",
    "pnames = [\"Curvature γ of cost function\", \"Level k of cost of effort\", \"Intrinsic motivation s\", \"Probability weighting π (1%) (in %)\",\n",
    "          \"Curvature of utility over piece rate\"]\n",
    "\n",
    "t6 = pd.DataFrame({'parameters':pnames,'p_est1':bp61,'p_se1':sp61,'p_aut1':p_est_autp1,\n",
    "                   'p_est2':bp62,'p_se2':sp62,'p_aut2':p_est_autp2,\n",
    "                   'p_est3':bp63,'p_se3':sp63,'p_aut3':p_est_autp3,\n",
    "                   'e_est4':be64,'e_se4':se64,\"e_aut1\":e_est_autp1,\n",
    "                   'e_est5':be65,'e_se5':se65,\"e_aut2\":e_est_autp2,\n",
    "                   'e_est6':be66,'e_se6':se66,\"e_aut3\":e_est_autp3})\n",
    "display(t6)"
   ]
  },
  {
   "cell_type": "code",
   "execution_count": 138,
   "metadata": {},
   "outputs": [
    {
     "data": {
      "text/plain": [
       "p_est1    3.89e-71\n",
       "Name: 1, dtype: object"
      ]
     },
     "execution_count": 138,
     "metadata": {},
     "output_type": "execute_result"
    }
   ],
   "source": [
    "t6.filter(regex= r'p_est').iloc[1,0:1]"
   ]
  },
  {
   "cell_type": "code",
   "execution_count": 168,
   "metadata": {},
   "outputs": [
    {
     "data": {
      "application/vnd.plotly.v1+json": {
       "config": {
        "plotlyServerURL": "https://plot.ly"
       },
       "data": [
        {
         "name": "Curvature γ of cost function",
         "text": [
          "0.239",
          "0.466",
          4.2961
         ],
         "textposition": "auto",
         "type": "bar",
         "x": [
          "power_func_with_curv=1",
          "power_func_with_curv=0.88",
          "power_func_3_with_optimal_curv",
          "power_func_3_with_optimal_curv"
         ],
         "y": [
          "0.239",
          "0.466",
          4.2961
         ]
        }
       ],
       "layout": {
        "barmode": "group",
        "template": {
         "data": {
          "bar": [
           {
            "error_x": {
             "color": "#2a3f5f"
            },
            "error_y": {
             "color": "#2a3f5f"
            },
            "marker": {
             "line": {
              "color": "#E5ECF6",
              "width": 0.5
             },
             "pattern": {
              "fillmode": "overlay",
              "size": 10,
              "solidity": 0.2
             }
            },
            "type": "bar"
           }
          ],
          "barpolar": [
           {
            "marker": {
             "line": {
              "color": "#E5ECF6",
              "width": 0.5
             },
             "pattern": {
              "fillmode": "overlay",
              "size": 10,
              "solidity": 0.2
             }
            },
            "type": "barpolar"
           }
          ],
          "carpet": [
           {
            "aaxis": {
             "endlinecolor": "#2a3f5f",
             "gridcolor": "white",
             "linecolor": "white",
             "minorgridcolor": "white",
             "startlinecolor": "#2a3f5f"
            },
            "baxis": {
             "endlinecolor": "#2a3f5f",
             "gridcolor": "white",
             "linecolor": "white",
             "minorgridcolor": "white",
             "startlinecolor": "#2a3f5f"
            },
            "type": "carpet"
           }
          ],
          "choropleth": [
           {
            "colorbar": {
             "outlinewidth": 0,
             "ticks": ""
            },
            "type": "choropleth"
           }
          ],
          "contour": [
           {
            "colorbar": {
             "outlinewidth": 0,
             "ticks": ""
            },
            "colorscale": [
             [
              0,
              "#0d0887"
             ],
             [
              0.1111111111111111,
              "#46039f"
             ],
             [
              0.2222222222222222,
              "#7201a8"
             ],
             [
              0.3333333333333333,
              "#9c179e"
             ],
             [
              0.4444444444444444,
              "#bd3786"
             ],
             [
              0.5555555555555556,
              "#d8576b"
             ],
             [
              0.6666666666666666,
              "#ed7953"
             ],
             [
              0.7777777777777778,
              "#fb9f3a"
             ],
             [
              0.8888888888888888,
              "#fdca26"
             ],
             [
              1,
              "#f0f921"
             ]
            ],
            "type": "contour"
           }
          ],
          "contourcarpet": [
           {
            "colorbar": {
             "outlinewidth": 0,
             "ticks": ""
            },
            "type": "contourcarpet"
           }
          ],
          "heatmap": [
           {
            "colorbar": {
             "outlinewidth": 0,
             "ticks": ""
            },
            "colorscale": [
             [
              0,
              "#0d0887"
             ],
             [
              0.1111111111111111,
              "#46039f"
             ],
             [
              0.2222222222222222,
              "#7201a8"
             ],
             [
              0.3333333333333333,
              "#9c179e"
             ],
             [
              0.4444444444444444,
              "#bd3786"
             ],
             [
              0.5555555555555556,
              "#d8576b"
             ],
             [
              0.6666666666666666,
              "#ed7953"
             ],
             [
              0.7777777777777778,
              "#fb9f3a"
             ],
             [
              0.8888888888888888,
              "#fdca26"
             ],
             [
              1,
              "#f0f921"
             ]
            ],
            "type": "heatmap"
           }
          ],
          "heatmapgl": [
           {
            "colorbar": {
             "outlinewidth": 0,
             "ticks": ""
            },
            "colorscale": [
             [
              0,
              "#0d0887"
             ],
             [
              0.1111111111111111,
              "#46039f"
             ],
             [
              0.2222222222222222,
              "#7201a8"
             ],
             [
              0.3333333333333333,
              "#9c179e"
             ],
             [
              0.4444444444444444,
              "#bd3786"
             ],
             [
              0.5555555555555556,
              "#d8576b"
             ],
             [
              0.6666666666666666,
              "#ed7953"
             ],
             [
              0.7777777777777778,
              "#fb9f3a"
             ],
             [
              0.8888888888888888,
              "#fdca26"
             ],
             [
              1,
              "#f0f921"
             ]
            ],
            "type": "heatmapgl"
           }
          ],
          "histogram": [
           {
            "marker": {
             "pattern": {
              "fillmode": "overlay",
              "size": 10,
              "solidity": 0.2
             }
            },
            "type": "histogram"
           }
          ],
          "histogram2d": [
           {
            "colorbar": {
             "outlinewidth": 0,
             "ticks": ""
            },
            "colorscale": [
             [
              0,
              "#0d0887"
             ],
             [
              0.1111111111111111,
              "#46039f"
             ],
             [
              0.2222222222222222,
              "#7201a8"
             ],
             [
              0.3333333333333333,
              "#9c179e"
             ],
             [
              0.4444444444444444,
              "#bd3786"
             ],
             [
              0.5555555555555556,
              "#d8576b"
             ],
             [
              0.6666666666666666,
              "#ed7953"
             ],
             [
              0.7777777777777778,
              "#fb9f3a"
             ],
             [
              0.8888888888888888,
              "#fdca26"
             ],
             [
              1,
              "#f0f921"
             ]
            ],
            "type": "histogram2d"
           }
          ],
          "histogram2dcontour": [
           {
            "colorbar": {
             "outlinewidth": 0,
             "ticks": ""
            },
            "colorscale": [
             [
              0,
              "#0d0887"
             ],
             [
              0.1111111111111111,
              "#46039f"
             ],
             [
              0.2222222222222222,
              "#7201a8"
             ],
             [
              0.3333333333333333,
              "#9c179e"
             ],
             [
              0.4444444444444444,
              "#bd3786"
             ],
             [
              0.5555555555555556,
              "#d8576b"
             ],
             [
              0.6666666666666666,
              "#ed7953"
             ],
             [
              0.7777777777777778,
              "#fb9f3a"
             ],
             [
              0.8888888888888888,
              "#fdca26"
             ],
             [
              1,
              "#f0f921"
             ]
            ],
            "type": "histogram2dcontour"
           }
          ],
          "mesh3d": [
           {
            "colorbar": {
             "outlinewidth": 0,
             "ticks": ""
            },
            "type": "mesh3d"
           }
          ],
          "parcoords": [
           {
            "line": {
             "colorbar": {
              "outlinewidth": 0,
              "ticks": ""
             }
            },
            "type": "parcoords"
           }
          ],
          "pie": [
           {
            "automargin": true,
            "type": "pie"
           }
          ],
          "scatter": [
           {
            "fillpattern": {
             "fillmode": "overlay",
             "size": 10,
             "solidity": 0.2
            },
            "type": "scatter"
           }
          ],
          "scatter3d": [
           {
            "line": {
             "colorbar": {
              "outlinewidth": 0,
              "ticks": ""
             }
            },
            "marker": {
             "colorbar": {
              "outlinewidth": 0,
              "ticks": ""
             }
            },
            "type": "scatter3d"
           }
          ],
          "scattercarpet": [
           {
            "marker": {
             "colorbar": {
              "outlinewidth": 0,
              "ticks": ""
             }
            },
            "type": "scattercarpet"
           }
          ],
          "scattergeo": [
           {
            "marker": {
             "colorbar": {
              "outlinewidth": 0,
              "ticks": ""
             }
            },
            "type": "scattergeo"
           }
          ],
          "scattergl": [
           {
            "marker": {
             "colorbar": {
              "outlinewidth": 0,
              "ticks": ""
             }
            },
            "type": "scattergl"
           }
          ],
          "scattermapbox": [
           {
            "marker": {
             "colorbar": {
              "outlinewidth": 0,
              "ticks": ""
             }
            },
            "type": "scattermapbox"
           }
          ],
          "scatterpolar": [
           {
            "marker": {
             "colorbar": {
              "outlinewidth": 0,
              "ticks": ""
             }
            },
            "type": "scatterpolar"
           }
          ],
          "scatterpolargl": [
           {
            "marker": {
             "colorbar": {
              "outlinewidth": 0,
              "ticks": ""
             }
            },
            "type": "scatterpolargl"
           }
          ],
          "scatterternary": [
           {
            "marker": {
             "colorbar": {
              "outlinewidth": 0,
              "ticks": ""
             }
            },
            "type": "scatterternary"
           }
          ],
          "surface": [
           {
            "colorbar": {
             "outlinewidth": 0,
             "ticks": ""
            },
            "colorscale": [
             [
              0,
              "#0d0887"
             ],
             [
              0.1111111111111111,
              "#46039f"
             ],
             [
              0.2222222222222222,
              "#7201a8"
             ],
             [
              0.3333333333333333,
              "#9c179e"
             ],
             [
              0.4444444444444444,
              "#bd3786"
             ],
             [
              0.5555555555555556,
              "#d8576b"
             ],
             [
              0.6666666666666666,
              "#ed7953"
             ],
             [
              0.7777777777777778,
              "#fb9f3a"
             ],
             [
              0.8888888888888888,
              "#fdca26"
             ],
             [
              1,
              "#f0f921"
             ]
            ],
            "type": "surface"
           }
          ],
          "table": [
           {
            "cells": {
             "fill": {
              "color": "#EBF0F8"
             },
             "line": {
              "color": "white"
             }
            },
            "header": {
             "fill": {
              "color": "#C8D4E3"
             },
             "line": {
              "color": "white"
             }
            },
            "type": "table"
           }
          ]
         },
         "layout": {
          "annotationdefaults": {
           "arrowcolor": "#2a3f5f",
           "arrowhead": 0,
           "arrowwidth": 1
          },
          "autotypenumbers": "strict",
          "coloraxis": {
           "colorbar": {
            "outlinewidth": 0,
            "ticks": ""
           }
          },
          "colorscale": {
           "diverging": [
            [
             0,
             "#8e0152"
            ],
            [
             0.1,
             "#c51b7d"
            ],
            [
             0.2,
             "#de77ae"
            ],
            [
             0.3,
             "#f1b6da"
            ],
            [
             0.4,
             "#fde0ef"
            ],
            [
             0.5,
             "#f7f7f7"
            ],
            [
             0.6,
             "#e6f5d0"
            ],
            [
             0.7,
             "#b8e186"
            ],
            [
             0.8,
             "#7fbc41"
            ],
            [
             0.9,
             "#4d9221"
            ],
            [
             1,
             "#276419"
            ]
           ],
           "sequential": [
            [
             0,
             "#0d0887"
            ],
            [
             0.1111111111111111,
             "#46039f"
            ],
            [
             0.2222222222222222,
             "#7201a8"
            ],
            [
             0.3333333333333333,
             "#9c179e"
            ],
            [
             0.4444444444444444,
             "#bd3786"
            ],
            [
             0.5555555555555556,
             "#d8576b"
            ],
            [
             0.6666666666666666,
             "#ed7953"
            ],
            [
             0.7777777777777778,
             "#fb9f3a"
            ],
            [
             0.8888888888888888,
             "#fdca26"
            ],
            [
             1,
             "#f0f921"
            ]
           ],
           "sequentialminus": [
            [
             0,
             "#0d0887"
            ],
            [
             0.1111111111111111,
             "#46039f"
            ],
            [
             0.2222222222222222,
             "#7201a8"
            ],
            [
             0.3333333333333333,
             "#9c179e"
            ],
            [
             0.4444444444444444,
             "#bd3786"
            ],
            [
             0.5555555555555556,
             "#d8576b"
            ],
            [
             0.6666666666666666,
             "#ed7953"
            ],
            [
             0.7777777777777778,
             "#fb9f3a"
            ],
            [
             0.8888888888888888,
             "#fdca26"
            ],
            [
             1,
             "#f0f921"
            ]
           ]
          },
          "colorway": [
           "#636efa",
           "#EF553B",
           "#00cc96",
           "#ab63fa",
           "#FFA15A",
           "#19d3f3",
           "#FF6692",
           "#B6E880",
           "#FF97FF",
           "#FECB52"
          ],
          "font": {
           "color": "#2a3f5f"
          },
          "geo": {
           "bgcolor": "white",
           "lakecolor": "white",
           "landcolor": "#E5ECF6",
           "showlakes": true,
           "showland": true,
           "subunitcolor": "white"
          },
          "hoverlabel": {
           "align": "left"
          },
          "hovermode": "closest",
          "mapbox": {
           "style": "light"
          },
          "paper_bgcolor": "white",
          "plot_bgcolor": "#E5ECF6",
          "polar": {
           "angularaxis": {
            "gridcolor": "white",
            "linecolor": "white",
            "ticks": ""
           },
           "bgcolor": "#E5ECF6",
           "radialaxis": {
            "gridcolor": "white",
            "linecolor": "white",
            "ticks": ""
           }
          },
          "scene": {
           "xaxis": {
            "backgroundcolor": "#E5ECF6",
            "gridcolor": "white",
            "gridwidth": 2,
            "linecolor": "white",
            "showbackground": true,
            "ticks": "",
            "zerolinecolor": "white"
           },
           "yaxis": {
            "backgroundcolor": "#E5ECF6",
            "gridcolor": "white",
            "gridwidth": 2,
            "linecolor": "white",
            "showbackground": true,
            "ticks": "",
            "zerolinecolor": "white"
           },
           "zaxis": {
            "backgroundcolor": "#E5ECF6",
            "gridcolor": "white",
            "gridwidth": 2,
            "linecolor": "white",
            "showbackground": true,
            "ticks": "",
            "zerolinecolor": "white"
           }
          },
          "shapedefaults": {
           "line": {
            "color": "#2a3f5f"
           }
          },
          "ternary": {
           "aaxis": {
            "gridcolor": "white",
            "linecolor": "white",
            "ticks": ""
           },
           "baxis": {
            "gridcolor": "white",
            "linecolor": "white",
            "ticks": ""
           },
           "bgcolor": "#E5ECF6",
           "caxis": {
            "gridcolor": "white",
            "linecolor": "white",
            "ticks": ""
           }
          },
          "title": {
           "x": 0.05
          },
          "xaxis": {
           "automargin": true,
           "gridcolor": "white",
           "linecolor": "white",
           "ticks": "",
           "title": {
            "standoff": 15
           },
           "zerolinecolor": "white",
           "zerolinewidth": 2
          },
          "yaxis": {
           "automargin": true,
           "gridcolor": "white",
           "linecolor": "white",
           "ticks": "",
           "title": {
            "standoff": 15
           },
           "zerolinecolor": "white",
           "zerolinewidth": 2
          }
         }
        },
        "title": {
         "text": "Comparison between our result and the result of authors"
        },
        "yaxis": {
         "title": {
          "text": "estimation_gamma"
         }
        }
       }
      }
     },
     "metadata": {},
     "output_type": "display_data"
    }
   ],
   "source": [
    "#df2 = t6.filter(regex = r'(p_|para)',axis = 1)\n",
    "#df2 = df2.T\n",
    "#df2 = df2.reset_index\n",
    "#t6 = t6.iloc[:,1:17].astype(float)\n",
    "#t6.filter(regex= r'p_est').iloc[0,:]\n",
    "\n",
    "import plotly.graph_objects as go\n",
    "func=['power_func_with_curv=1', 'power_func_with_curv=0.88', 'power_func_3_with_optimal_curv','power_func_3_with_optimal_curv']\n",
    "\n",
    "fig = go.Figure(data=[\n",
    "    go.Bar(name='Curvature γ of cost function', x=func, y=t6.filter(regex= r'e_est').iloc[3,:],textposition='auto',text=t6.filter(regex= r'e_est').iloc[3,:]),\n",
    "    #go.Bar(name='Result of author', x=func, y=t6.filter(regex= r'p_aut').iloc[0,:],text=t6.filter(regex= r'p_aut').iloc[0,:],textposition='auto')\n",
    "])\n",
    "# Change the bar mode\n",
    "fig.update_layout(barmode='group',yaxis_title='estimation_gamma',\n",
    "    title='Comparison between our result and the result of authors',)\n",
    "fig.show()\n",
    "#\n"
   ]
  },
  {
   "cell_type": "code",
   "execution_count": 181,
   "metadata": {},
   "outputs": [
    {
     "data": {
      "application/vnd.plotly.v1+json": {
       "config": {
        "plotlyServerURL": "https://plot.ly"
       },
       "data": [
        {
         "name": "my gamma estimation",
         "text": [
          "20.9475",
          "18.9623",
          19.6386
         ],
         "textposition": "auto",
         "type": "bar",
         "x": [
          "with_curv=1",
          "with_curv=0.88",
          "with_optimal_curv"
         ],
         "xaxis": "x",
         "y": [
          "20.9475",
          "18.9623",
          19.6386
         ],
         "yaxis": "y"
        },
        {
         "name": "result of author",
         "text": [
          20.59,
          18.87,
          19.64
         ],
         "textposition": "auto",
         "type": "bar",
         "x": [
          "with_curv=1",
          "with_curv=0.88",
          "with_optimal_curv"
         ],
         "xaxis": "x",
         "y": [
          20.59,
          18.87,
          19.64
         ],
         "yaxis": "y"
        },
        {
         "name": "my probability weight estimation",
         "text": [
          "0.1928",
          "0.3732",
          0.2952
         ],
         "textposition": "auto",
         "type": "bar",
         "x": [
          "with_curv=1",
          "with_curv=0.88",
          "with_optimal_curv"
         ],
         "xaxis": "x2",
         "y": [
          "0.1928",
          "0.3732",
          0.2952
         ],
         "yaxis": "y2"
        },
        {
         "name": "result of author",
         "text": [
          0.19,
          0.38,
          0.3
         ],
         "textposition": "auto",
         "type": "bar",
         "x": [
          "with_curv=1",
          "with_curv=0.88",
          "with_optimal_curv"
         ],
         "xaxis": "x2",
         "y": [
          0.19,
          0.38,
          0.3
         ],
         "yaxis": "y2"
        }
       ],
       "layout": {
        "annotations": [
         {
          "font": {
           "size": 16
          },
          "showarrow": false,
          "text": "Estimation of gamma",
          "x": 0.225,
          "xanchor": "center",
          "xref": "paper",
          "y": 1,
          "yanchor": "bottom",
          "yref": "paper"
         },
         {
          "font": {
           "size": 16
          },
          "showarrow": false,
          "text": "Estimation of Probability weighting",
          "x": 0.775,
          "xanchor": "center",
          "xref": "paper",
          "y": 1,
          "yanchor": "bottom",
          "yref": "paper"
         }
        ],
        "barmode": "group",
        "template": {
         "data": {
          "bar": [
           {
            "error_x": {
             "color": "#2a3f5f"
            },
            "error_y": {
             "color": "#2a3f5f"
            },
            "marker": {
             "line": {
              "color": "#E5ECF6",
              "width": 0.5
             },
             "pattern": {
              "fillmode": "overlay",
              "size": 10,
              "solidity": 0.2
             }
            },
            "type": "bar"
           }
          ],
          "barpolar": [
           {
            "marker": {
             "line": {
              "color": "#E5ECF6",
              "width": 0.5
             },
             "pattern": {
              "fillmode": "overlay",
              "size": 10,
              "solidity": 0.2
             }
            },
            "type": "barpolar"
           }
          ],
          "carpet": [
           {
            "aaxis": {
             "endlinecolor": "#2a3f5f",
             "gridcolor": "white",
             "linecolor": "white",
             "minorgridcolor": "white",
             "startlinecolor": "#2a3f5f"
            },
            "baxis": {
             "endlinecolor": "#2a3f5f",
             "gridcolor": "white",
             "linecolor": "white",
             "minorgridcolor": "white",
             "startlinecolor": "#2a3f5f"
            },
            "type": "carpet"
           }
          ],
          "choropleth": [
           {
            "colorbar": {
             "outlinewidth": 0,
             "ticks": ""
            },
            "type": "choropleth"
           }
          ],
          "contour": [
           {
            "colorbar": {
             "outlinewidth": 0,
             "ticks": ""
            },
            "colorscale": [
             [
              0,
              "#0d0887"
             ],
             [
              0.1111111111111111,
              "#46039f"
             ],
             [
              0.2222222222222222,
              "#7201a8"
             ],
             [
              0.3333333333333333,
              "#9c179e"
             ],
             [
              0.4444444444444444,
              "#bd3786"
             ],
             [
              0.5555555555555556,
              "#d8576b"
             ],
             [
              0.6666666666666666,
              "#ed7953"
             ],
             [
              0.7777777777777778,
              "#fb9f3a"
             ],
             [
              0.8888888888888888,
              "#fdca26"
             ],
             [
              1,
              "#f0f921"
             ]
            ],
            "type": "contour"
           }
          ],
          "contourcarpet": [
           {
            "colorbar": {
             "outlinewidth": 0,
             "ticks": ""
            },
            "type": "contourcarpet"
           }
          ],
          "heatmap": [
           {
            "colorbar": {
             "outlinewidth": 0,
             "ticks": ""
            },
            "colorscale": [
             [
              0,
              "#0d0887"
             ],
             [
              0.1111111111111111,
              "#46039f"
             ],
             [
              0.2222222222222222,
              "#7201a8"
             ],
             [
              0.3333333333333333,
              "#9c179e"
             ],
             [
              0.4444444444444444,
              "#bd3786"
             ],
             [
              0.5555555555555556,
              "#d8576b"
             ],
             [
              0.6666666666666666,
              "#ed7953"
             ],
             [
              0.7777777777777778,
              "#fb9f3a"
             ],
             [
              0.8888888888888888,
              "#fdca26"
             ],
             [
              1,
              "#f0f921"
             ]
            ],
            "type": "heatmap"
           }
          ],
          "heatmapgl": [
           {
            "colorbar": {
             "outlinewidth": 0,
             "ticks": ""
            },
            "colorscale": [
             [
              0,
              "#0d0887"
             ],
             [
              0.1111111111111111,
              "#46039f"
             ],
             [
              0.2222222222222222,
              "#7201a8"
             ],
             [
              0.3333333333333333,
              "#9c179e"
             ],
             [
              0.4444444444444444,
              "#bd3786"
             ],
             [
              0.5555555555555556,
              "#d8576b"
             ],
             [
              0.6666666666666666,
              "#ed7953"
             ],
             [
              0.7777777777777778,
              "#fb9f3a"
             ],
             [
              0.8888888888888888,
              "#fdca26"
             ],
             [
              1,
              "#f0f921"
             ]
            ],
            "type": "heatmapgl"
           }
          ],
          "histogram": [
           {
            "marker": {
             "pattern": {
              "fillmode": "overlay",
              "size": 10,
              "solidity": 0.2
             }
            },
            "type": "histogram"
           }
          ],
          "histogram2d": [
           {
            "colorbar": {
             "outlinewidth": 0,
             "ticks": ""
            },
            "colorscale": [
             [
              0,
              "#0d0887"
             ],
             [
              0.1111111111111111,
              "#46039f"
             ],
             [
              0.2222222222222222,
              "#7201a8"
             ],
             [
              0.3333333333333333,
              "#9c179e"
             ],
             [
              0.4444444444444444,
              "#bd3786"
             ],
             [
              0.5555555555555556,
              "#d8576b"
             ],
             [
              0.6666666666666666,
              "#ed7953"
             ],
             [
              0.7777777777777778,
              "#fb9f3a"
             ],
             [
              0.8888888888888888,
              "#fdca26"
             ],
             [
              1,
              "#f0f921"
             ]
            ],
            "type": "histogram2d"
           }
          ],
          "histogram2dcontour": [
           {
            "colorbar": {
             "outlinewidth": 0,
             "ticks": ""
            },
            "colorscale": [
             [
              0,
              "#0d0887"
             ],
             [
              0.1111111111111111,
              "#46039f"
             ],
             [
              0.2222222222222222,
              "#7201a8"
             ],
             [
              0.3333333333333333,
              "#9c179e"
             ],
             [
              0.4444444444444444,
              "#bd3786"
             ],
             [
              0.5555555555555556,
              "#d8576b"
             ],
             [
              0.6666666666666666,
              "#ed7953"
             ],
             [
              0.7777777777777778,
              "#fb9f3a"
             ],
             [
              0.8888888888888888,
              "#fdca26"
             ],
             [
              1,
              "#f0f921"
             ]
            ],
            "type": "histogram2dcontour"
           }
          ],
          "mesh3d": [
           {
            "colorbar": {
             "outlinewidth": 0,
             "ticks": ""
            },
            "type": "mesh3d"
           }
          ],
          "parcoords": [
           {
            "line": {
             "colorbar": {
              "outlinewidth": 0,
              "ticks": ""
             }
            },
            "type": "parcoords"
           }
          ],
          "pie": [
           {
            "automargin": true,
            "type": "pie"
           }
          ],
          "scatter": [
           {
            "fillpattern": {
             "fillmode": "overlay",
             "size": 10,
             "solidity": 0.2
            },
            "type": "scatter"
           }
          ],
          "scatter3d": [
           {
            "line": {
             "colorbar": {
              "outlinewidth": 0,
              "ticks": ""
             }
            },
            "marker": {
             "colorbar": {
              "outlinewidth": 0,
              "ticks": ""
             }
            },
            "type": "scatter3d"
           }
          ],
          "scattercarpet": [
           {
            "marker": {
             "colorbar": {
              "outlinewidth": 0,
              "ticks": ""
             }
            },
            "type": "scattercarpet"
           }
          ],
          "scattergeo": [
           {
            "marker": {
             "colorbar": {
              "outlinewidth": 0,
              "ticks": ""
             }
            },
            "type": "scattergeo"
           }
          ],
          "scattergl": [
           {
            "marker": {
             "colorbar": {
              "outlinewidth": 0,
              "ticks": ""
             }
            },
            "type": "scattergl"
           }
          ],
          "scattermapbox": [
           {
            "marker": {
             "colorbar": {
              "outlinewidth": 0,
              "ticks": ""
             }
            },
            "type": "scattermapbox"
           }
          ],
          "scatterpolar": [
           {
            "marker": {
             "colorbar": {
              "outlinewidth": 0,
              "ticks": ""
             }
            },
            "type": "scatterpolar"
           }
          ],
          "scatterpolargl": [
           {
            "marker": {
             "colorbar": {
              "outlinewidth": 0,
              "ticks": ""
             }
            },
            "type": "scatterpolargl"
           }
          ],
          "scatterternary": [
           {
            "marker": {
             "colorbar": {
              "outlinewidth": 0,
              "ticks": ""
             }
            },
            "type": "scatterternary"
           }
          ],
          "surface": [
           {
            "colorbar": {
             "outlinewidth": 0,
             "ticks": ""
            },
            "colorscale": [
             [
              0,
              "#0d0887"
             ],
             [
              0.1111111111111111,
              "#46039f"
             ],
             [
              0.2222222222222222,
              "#7201a8"
             ],
             [
              0.3333333333333333,
              "#9c179e"
             ],
             [
              0.4444444444444444,
              "#bd3786"
             ],
             [
              0.5555555555555556,
              "#d8576b"
             ],
             [
              0.6666666666666666,
              "#ed7953"
             ],
             [
              0.7777777777777778,
              "#fb9f3a"
             ],
             [
              0.8888888888888888,
              "#fdca26"
             ],
             [
              1,
              "#f0f921"
             ]
            ],
            "type": "surface"
           }
          ],
          "table": [
           {
            "cells": {
             "fill": {
              "color": "#EBF0F8"
             },
             "line": {
              "color": "white"
             }
            },
            "header": {
             "fill": {
              "color": "#C8D4E3"
             },
             "line": {
              "color": "white"
             }
            },
            "type": "table"
           }
          ]
         },
         "layout": {
          "annotationdefaults": {
           "arrowcolor": "#2a3f5f",
           "arrowhead": 0,
           "arrowwidth": 1
          },
          "autotypenumbers": "strict",
          "coloraxis": {
           "colorbar": {
            "outlinewidth": 0,
            "ticks": ""
           }
          },
          "colorscale": {
           "diverging": [
            [
             0,
             "#8e0152"
            ],
            [
             0.1,
             "#c51b7d"
            ],
            [
             0.2,
             "#de77ae"
            ],
            [
             0.3,
             "#f1b6da"
            ],
            [
             0.4,
             "#fde0ef"
            ],
            [
             0.5,
             "#f7f7f7"
            ],
            [
             0.6,
             "#e6f5d0"
            ],
            [
             0.7,
             "#b8e186"
            ],
            [
             0.8,
             "#7fbc41"
            ],
            [
             0.9,
             "#4d9221"
            ],
            [
             1,
             "#276419"
            ]
           ],
           "sequential": [
            [
             0,
             "#0d0887"
            ],
            [
             0.1111111111111111,
             "#46039f"
            ],
            [
             0.2222222222222222,
             "#7201a8"
            ],
            [
             0.3333333333333333,
             "#9c179e"
            ],
            [
             0.4444444444444444,
             "#bd3786"
            ],
            [
             0.5555555555555556,
             "#d8576b"
            ],
            [
             0.6666666666666666,
             "#ed7953"
            ],
            [
             0.7777777777777778,
             "#fb9f3a"
            ],
            [
             0.8888888888888888,
             "#fdca26"
            ],
            [
             1,
             "#f0f921"
            ]
           ],
           "sequentialminus": [
            [
             0,
             "#0d0887"
            ],
            [
             0.1111111111111111,
             "#46039f"
            ],
            [
             0.2222222222222222,
             "#7201a8"
            ],
            [
             0.3333333333333333,
             "#9c179e"
            ],
            [
             0.4444444444444444,
             "#bd3786"
            ],
            [
             0.5555555555555556,
             "#d8576b"
            ],
            [
             0.6666666666666666,
             "#ed7953"
            ],
            [
             0.7777777777777778,
             "#fb9f3a"
            ],
            [
             0.8888888888888888,
             "#fdca26"
            ],
            [
             1,
             "#f0f921"
            ]
           ]
          },
          "colorway": [
           "#636efa",
           "#EF553B",
           "#00cc96",
           "#ab63fa",
           "#FFA15A",
           "#19d3f3",
           "#FF6692",
           "#B6E880",
           "#FF97FF",
           "#FECB52"
          ],
          "font": {
           "color": "#2a3f5f"
          },
          "geo": {
           "bgcolor": "white",
           "lakecolor": "white",
           "landcolor": "#E5ECF6",
           "showlakes": true,
           "showland": true,
           "subunitcolor": "white"
          },
          "hoverlabel": {
           "align": "left"
          },
          "hovermode": "closest",
          "mapbox": {
           "style": "light"
          },
          "paper_bgcolor": "white",
          "plot_bgcolor": "#E5ECF6",
          "polar": {
           "angularaxis": {
            "gridcolor": "white",
            "linecolor": "white",
            "ticks": ""
           },
           "bgcolor": "#E5ECF6",
           "radialaxis": {
            "gridcolor": "white",
            "linecolor": "white",
            "ticks": ""
           }
          },
          "scene": {
           "xaxis": {
            "backgroundcolor": "#E5ECF6",
            "gridcolor": "white",
            "gridwidth": 2,
            "linecolor": "white",
            "showbackground": true,
            "ticks": "",
            "zerolinecolor": "white"
           },
           "yaxis": {
            "backgroundcolor": "#E5ECF6",
            "gridcolor": "white",
            "gridwidth": 2,
            "linecolor": "white",
            "showbackground": true,
            "ticks": "",
            "zerolinecolor": "white"
           },
           "zaxis": {
            "backgroundcolor": "#E5ECF6",
            "gridcolor": "white",
            "gridwidth": 2,
            "linecolor": "white",
            "showbackground": true,
            "ticks": "",
            "zerolinecolor": "white"
           }
          },
          "shapedefaults": {
           "line": {
            "color": "#2a3f5f"
           }
          },
          "ternary": {
           "aaxis": {
            "gridcolor": "white",
            "linecolor": "white",
            "ticks": ""
           },
           "baxis": {
            "gridcolor": "white",
            "linecolor": "white",
            "ticks": ""
           },
           "bgcolor": "#E5ECF6",
           "caxis": {
            "gridcolor": "white",
            "linecolor": "white",
            "ticks": ""
           }
          },
          "title": {
           "x": 0.05
          },
          "xaxis": {
           "automargin": true,
           "gridcolor": "white",
           "linecolor": "white",
           "ticks": "",
           "title": {
            "standoff": 15
           },
           "zerolinecolor": "white",
           "zerolinewidth": 2
          },
          "yaxis": {
           "automargin": true,
           "gridcolor": "white",
           "linecolor": "white",
           "ticks": "",
           "title": {
            "standoff": 15
           },
           "zerolinecolor": "white",
           "zerolinewidth": 2
          }
         }
        },
        "title": {
         "text": "Comparison of power function parameters between my result and the result of authors"
        },
        "xaxis": {
         "anchor": "y",
         "domain": [
          0,
          0.45
         ]
        },
        "xaxis2": {
         "anchor": "y2",
         "domain": [
          0.55,
          1
         ]
        },
        "yaxis": {
         "anchor": "x",
         "domain": [
          0,
          1
         ]
        },
        "yaxis2": {
         "anchor": "x2",
         "domain": [
          0,
          1
         ]
        }
       }
      }
     },
     "metadata": {},
     "output_type": "display_data"
    }
   ],
   "source": [
    "import plotly.graph_objects as go\n",
    "from plotly.subplots import make_subplots\n",
    "func=['with_curv=1', 'with_curv=0.88', 'with_optimal_curv']\n",
    "\n",
    "fig = make_subplots(rows = 1, cols= 2, shared_yaxes=False,\n",
    "                    subplot_titles=('Estimation of gamma', 'Estimation of Probability weighting'))\n",
    "\n",
    "trace1 = go.Bar(\n",
    "    x=func,\n",
    "    y=t6.filter(regex= 'p_est').iloc[0,:],\n",
    "    name='my gamma estimation',\n",
    "    textposition='auto',\n",
    "    text=t6.filter(regex= 'p_est').iloc[0,:]\n",
    ")\n",
    "\n",
    "trace2 = go.Bar(\n",
    "    x=func,\n",
    "    y=t6.filter(regex= 'p_aut').iloc[0,:],\n",
    "    name='result of author',\n",
    "    textposition='auto',\n",
    "    text=t6.filter(regex= 'p_aut').iloc[0,:]\n",
    ")\n",
    "\n",
    "trace3 = go.Bar(\n",
    "    x=func,\n",
    "    y=t6.filter(regex= 'p_aut').iloc[3,:],\n",
    "    name='result of author',\n",
    "    textposition='auto',\n",
    "    text=t6.filter(regex= 'p_aut').iloc[3,:]\n",
    ")\n",
    "\n",
    "trace4 = go.Bar(\n",
    "    x=func,\n",
    "    y=t6.filter(regex= 'p_est').iloc[3,:],\n",
    "    name='my probability weight estimation',\n",
    "    textposition='auto',\n",
    "    text=t6.filter(regex= 'p_est').iloc[3,:]\n",
    ")\n",
    "\n",
    "\n",
    "#fig.append_trace(trace3, 1,1)\n",
    "fig.append_trace(trace1,1,1)\n",
    "fig.append_trace(trace2,1,1)\n",
    "fig.append_trace(trace4,1,2)\n",
    "fig.append_trace(trace3,1,2)\n",
    "\n",
    "\n",
    "\n",
    "# Change the bar mode\n",
    "fig.update_layout(barmode='group',\n",
    "    title='Comparison of power function parameters between my result and the result of authors')\n",
    "fig.show()\n",
    "#iplot(fig)\n",
    "#yaxis_title='estimation_gamma'"
   ]
  },
  {
   "cell_type": "code",
   "execution_count": 195,
   "metadata": {},
   "outputs": [
    {
     "data": {
      "application/vnd.plotly.v1+json": {
       "config": {
        "plotlyServerURL": "https://plot.ly"
       },
       "data": [
        {
         "name": "my gamma estimation",
         "text": [
          "0.0134",
          "0.0119",
          0.01
         ],
         "textposition": "auto",
         "type": "bar",
         "x": [
          "with_curv=1",
          "with_curv=0.88",
          "with_optimal_curv"
         ],
         "xaxis": "x",
         "y": [
          "0.0134",
          "0.0119",
          0.01
         ],
         "yaxis": "y"
        },
        {
         "name": "result of author",
         "text": [
          0.01,
          0.01,
          0.01
         ],
         "textposition": "auto",
         "type": "bar",
         "x": [
          "with_curv=1",
          "with_curv=0.88",
          "with_optimal_curv"
         ],
         "xaxis": "x",
         "y": [
          0.01,
          0.01,
          0.01
         ],
         "yaxis": "y"
        },
        {
         "name": "my probability weight estimation",
         "text": [
          "0.239",
          "0.466",
          4.3
         ],
         "textposition": "auto",
         "type": "bar",
         "x": [
          "with_curv=1",
          "with_curv=0.88",
          "with_optimal_curv"
         ],
         "xaxis": "x2",
         "y": [
          "0.239",
          "0.466",
          4.3
         ],
         "yaxis": "y2"
        },
        {
         "name": "result of author",
         "text": [
          0.24,
          0.47,
          4.3
         ],
         "textposition": "auto",
         "type": "bar",
         "x": [
          "with_curv=1",
          "with_curv=0.88",
          "with_optimal_curv"
         ],
         "xaxis": "x2",
         "y": [
          0.24,
          0.47,
          4.3
         ],
         "yaxis": "y2"
        }
       ],
       "layout": {
        "annotations": [
         {
          "font": {
           "size": 16
          },
          "showarrow": false,
          "text": "Estimation of gamma",
          "x": 0.225,
          "xanchor": "center",
          "xref": "paper",
          "y": 1,
          "yanchor": "bottom",
          "yref": "paper"
         },
         {
          "font": {
           "size": 16
          },
          "showarrow": false,
          "text": "Estimation of Probability weighting",
          "x": 0.775,
          "xanchor": "center",
          "xref": "paper",
          "y": 1,
          "yanchor": "bottom",
          "yref": "paper"
         }
        ],
        "barmode": "group",
        "template": {
         "data": {
          "bar": [
           {
            "error_x": {
             "color": "#2a3f5f"
            },
            "error_y": {
             "color": "#2a3f5f"
            },
            "marker": {
             "line": {
              "color": "#E5ECF6",
              "width": 0.5
             },
             "pattern": {
              "fillmode": "overlay",
              "size": 10,
              "solidity": 0.2
             }
            },
            "type": "bar"
           }
          ],
          "barpolar": [
           {
            "marker": {
             "line": {
              "color": "#E5ECF6",
              "width": 0.5
             },
             "pattern": {
              "fillmode": "overlay",
              "size": 10,
              "solidity": 0.2
             }
            },
            "type": "barpolar"
           }
          ],
          "carpet": [
           {
            "aaxis": {
             "endlinecolor": "#2a3f5f",
             "gridcolor": "white",
             "linecolor": "white",
             "minorgridcolor": "white",
             "startlinecolor": "#2a3f5f"
            },
            "baxis": {
             "endlinecolor": "#2a3f5f",
             "gridcolor": "white",
             "linecolor": "white",
             "minorgridcolor": "white",
             "startlinecolor": "#2a3f5f"
            },
            "type": "carpet"
           }
          ],
          "choropleth": [
           {
            "colorbar": {
             "outlinewidth": 0,
             "ticks": ""
            },
            "type": "choropleth"
           }
          ],
          "contour": [
           {
            "colorbar": {
             "outlinewidth": 0,
             "ticks": ""
            },
            "colorscale": [
             [
              0,
              "#0d0887"
             ],
             [
              0.1111111111111111,
              "#46039f"
             ],
             [
              0.2222222222222222,
              "#7201a8"
             ],
             [
              0.3333333333333333,
              "#9c179e"
             ],
             [
              0.4444444444444444,
              "#bd3786"
             ],
             [
              0.5555555555555556,
              "#d8576b"
             ],
             [
              0.6666666666666666,
              "#ed7953"
             ],
             [
              0.7777777777777778,
              "#fb9f3a"
             ],
             [
              0.8888888888888888,
              "#fdca26"
             ],
             [
              1,
              "#f0f921"
             ]
            ],
            "type": "contour"
           }
          ],
          "contourcarpet": [
           {
            "colorbar": {
             "outlinewidth": 0,
             "ticks": ""
            },
            "type": "contourcarpet"
           }
          ],
          "heatmap": [
           {
            "colorbar": {
             "outlinewidth": 0,
             "ticks": ""
            },
            "colorscale": [
             [
              0,
              "#0d0887"
             ],
             [
              0.1111111111111111,
              "#46039f"
             ],
             [
              0.2222222222222222,
              "#7201a8"
             ],
             [
              0.3333333333333333,
              "#9c179e"
             ],
             [
              0.4444444444444444,
              "#bd3786"
             ],
             [
              0.5555555555555556,
              "#d8576b"
             ],
             [
              0.6666666666666666,
              "#ed7953"
             ],
             [
              0.7777777777777778,
              "#fb9f3a"
             ],
             [
              0.8888888888888888,
              "#fdca26"
             ],
             [
              1,
              "#f0f921"
             ]
            ],
            "type": "heatmap"
           }
          ],
          "heatmapgl": [
           {
            "colorbar": {
             "outlinewidth": 0,
             "ticks": ""
            },
            "colorscale": [
             [
              0,
              "#0d0887"
             ],
             [
              0.1111111111111111,
              "#46039f"
             ],
             [
              0.2222222222222222,
              "#7201a8"
             ],
             [
              0.3333333333333333,
              "#9c179e"
             ],
             [
              0.4444444444444444,
              "#bd3786"
             ],
             [
              0.5555555555555556,
              "#d8576b"
             ],
             [
              0.6666666666666666,
              "#ed7953"
             ],
             [
              0.7777777777777778,
              "#fb9f3a"
             ],
             [
              0.8888888888888888,
              "#fdca26"
             ],
             [
              1,
              "#f0f921"
             ]
            ],
            "type": "heatmapgl"
           }
          ],
          "histogram": [
           {
            "marker": {
             "pattern": {
              "fillmode": "overlay",
              "size": 10,
              "solidity": 0.2
             }
            },
            "type": "histogram"
           }
          ],
          "histogram2d": [
           {
            "colorbar": {
             "outlinewidth": 0,
             "ticks": ""
            },
            "colorscale": [
             [
              0,
              "#0d0887"
             ],
             [
              0.1111111111111111,
              "#46039f"
             ],
             [
              0.2222222222222222,
              "#7201a8"
             ],
             [
              0.3333333333333333,
              "#9c179e"
             ],
             [
              0.4444444444444444,
              "#bd3786"
             ],
             [
              0.5555555555555556,
              "#d8576b"
             ],
             [
              0.6666666666666666,
              "#ed7953"
             ],
             [
              0.7777777777777778,
              "#fb9f3a"
             ],
             [
              0.8888888888888888,
              "#fdca26"
             ],
             [
              1,
              "#f0f921"
             ]
            ],
            "type": "histogram2d"
           }
          ],
          "histogram2dcontour": [
           {
            "colorbar": {
             "outlinewidth": 0,
             "ticks": ""
            },
            "colorscale": [
             [
              0,
              "#0d0887"
             ],
             [
              0.1111111111111111,
              "#46039f"
             ],
             [
              0.2222222222222222,
              "#7201a8"
             ],
             [
              0.3333333333333333,
              "#9c179e"
             ],
             [
              0.4444444444444444,
              "#bd3786"
             ],
             [
              0.5555555555555556,
              "#d8576b"
             ],
             [
              0.6666666666666666,
              "#ed7953"
             ],
             [
              0.7777777777777778,
              "#fb9f3a"
             ],
             [
              0.8888888888888888,
              "#fdca26"
             ],
             [
              1,
              "#f0f921"
             ]
            ],
            "type": "histogram2dcontour"
           }
          ],
          "mesh3d": [
           {
            "colorbar": {
             "outlinewidth": 0,
             "ticks": ""
            },
            "type": "mesh3d"
           }
          ],
          "parcoords": [
           {
            "line": {
             "colorbar": {
              "outlinewidth": 0,
              "ticks": ""
             }
            },
            "type": "parcoords"
           }
          ],
          "pie": [
           {
            "automargin": true,
            "type": "pie"
           }
          ],
          "scatter": [
           {
            "fillpattern": {
             "fillmode": "overlay",
             "size": 10,
             "solidity": 0.2
            },
            "type": "scatter"
           }
          ],
          "scatter3d": [
           {
            "line": {
             "colorbar": {
              "outlinewidth": 0,
              "ticks": ""
             }
            },
            "marker": {
             "colorbar": {
              "outlinewidth": 0,
              "ticks": ""
             }
            },
            "type": "scatter3d"
           }
          ],
          "scattercarpet": [
           {
            "marker": {
             "colorbar": {
              "outlinewidth": 0,
              "ticks": ""
             }
            },
            "type": "scattercarpet"
           }
          ],
          "scattergeo": [
           {
            "marker": {
             "colorbar": {
              "outlinewidth": 0,
              "ticks": ""
             }
            },
            "type": "scattergeo"
           }
          ],
          "scattergl": [
           {
            "marker": {
             "colorbar": {
              "outlinewidth": 0,
              "ticks": ""
             }
            },
            "type": "scattergl"
           }
          ],
          "scattermapbox": [
           {
            "marker": {
             "colorbar": {
              "outlinewidth": 0,
              "ticks": ""
             }
            },
            "type": "scattermapbox"
           }
          ],
          "scatterpolar": [
           {
            "marker": {
             "colorbar": {
              "outlinewidth": 0,
              "ticks": ""
             }
            },
            "type": "scatterpolar"
           }
          ],
          "scatterpolargl": [
           {
            "marker": {
             "colorbar": {
              "outlinewidth": 0,
              "ticks": ""
             }
            },
            "type": "scatterpolargl"
           }
          ],
          "scatterternary": [
           {
            "marker": {
             "colorbar": {
              "outlinewidth": 0,
              "ticks": ""
             }
            },
            "type": "scatterternary"
           }
          ],
          "surface": [
           {
            "colorbar": {
             "outlinewidth": 0,
             "ticks": ""
            },
            "colorscale": [
             [
              0,
              "#0d0887"
             ],
             [
              0.1111111111111111,
              "#46039f"
             ],
             [
              0.2222222222222222,
              "#7201a8"
             ],
             [
              0.3333333333333333,
              "#9c179e"
             ],
             [
              0.4444444444444444,
              "#bd3786"
             ],
             [
              0.5555555555555556,
              "#d8576b"
             ],
             [
              0.6666666666666666,
              "#ed7953"
             ],
             [
              0.7777777777777778,
              "#fb9f3a"
             ],
             [
              0.8888888888888888,
              "#fdca26"
             ],
             [
              1,
              "#f0f921"
             ]
            ],
            "type": "surface"
           }
          ],
          "table": [
           {
            "cells": {
             "fill": {
              "color": "#EBF0F8"
             },
             "line": {
              "color": "white"
             }
            },
            "header": {
             "fill": {
              "color": "#C8D4E3"
             },
             "line": {
              "color": "white"
             }
            },
            "type": "table"
           }
          ]
         },
         "layout": {
          "annotationdefaults": {
           "arrowcolor": "#2a3f5f",
           "arrowhead": 0,
           "arrowwidth": 1
          },
          "autotypenumbers": "strict",
          "coloraxis": {
           "colorbar": {
            "outlinewidth": 0,
            "ticks": ""
           }
          },
          "colorscale": {
           "diverging": [
            [
             0,
             "#8e0152"
            ],
            [
             0.1,
             "#c51b7d"
            ],
            [
             0.2,
             "#de77ae"
            ],
            [
             0.3,
             "#f1b6da"
            ],
            [
             0.4,
             "#fde0ef"
            ],
            [
             0.5,
             "#f7f7f7"
            ],
            [
             0.6,
             "#e6f5d0"
            ],
            [
             0.7,
             "#b8e186"
            ],
            [
             0.8,
             "#7fbc41"
            ],
            [
             0.9,
             "#4d9221"
            ],
            [
             1,
             "#276419"
            ]
           ],
           "sequential": [
            [
             0,
             "#0d0887"
            ],
            [
             0.1111111111111111,
             "#46039f"
            ],
            [
             0.2222222222222222,
             "#7201a8"
            ],
            [
             0.3333333333333333,
             "#9c179e"
            ],
            [
             0.4444444444444444,
             "#bd3786"
            ],
            [
             0.5555555555555556,
             "#d8576b"
            ],
            [
             0.6666666666666666,
             "#ed7953"
            ],
            [
             0.7777777777777778,
             "#fb9f3a"
            ],
            [
             0.8888888888888888,
             "#fdca26"
            ],
            [
             1,
             "#f0f921"
            ]
           ],
           "sequentialminus": [
            [
             0,
             "#0d0887"
            ],
            [
             0.1111111111111111,
             "#46039f"
            ],
            [
             0.2222222222222222,
             "#7201a8"
            ],
            [
             0.3333333333333333,
             "#9c179e"
            ],
            [
             0.4444444444444444,
             "#bd3786"
            ],
            [
             0.5555555555555556,
             "#d8576b"
            ],
            [
             0.6666666666666666,
             "#ed7953"
            ],
            [
             0.7777777777777778,
             "#fb9f3a"
            ],
            [
             0.8888888888888888,
             "#fdca26"
            ],
            [
             1,
             "#f0f921"
            ]
           ]
          },
          "colorway": [
           "#636efa",
           "#EF553B",
           "#00cc96",
           "#ab63fa",
           "#FFA15A",
           "#19d3f3",
           "#FF6692",
           "#B6E880",
           "#FF97FF",
           "#FECB52"
          ],
          "font": {
           "color": "#2a3f5f"
          },
          "geo": {
           "bgcolor": "white",
           "lakecolor": "white",
           "landcolor": "#E5ECF6",
           "showlakes": true,
           "showland": true,
           "subunitcolor": "white"
          },
          "hoverlabel": {
           "align": "left"
          },
          "hovermode": "closest",
          "mapbox": {
           "style": "light"
          },
          "paper_bgcolor": "white",
          "plot_bgcolor": "#E5ECF6",
          "polar": {
           "angularaxis": {
            "gridcolor": "white",
            "linecolor": "white",
            "ticks": ""
           },
           "bgcolor": "#E5ECF6",
           "radialaxis": {
            "gridcolor": "white",
            "linecolor": "white",
            "ticks": ""
           }
          },
          "scene": {
           "xaxis": {
            "backgroundcolor": "#E5ECF6",
            "gridcolor": "white",
            "gridwidth": 2,
            "linecolor": "white",
            "showbackground": true,
            "ticks": "",
            "zerolinecolor": "white"
           },
           "yaxis": {
            "backgroundcolor": "#E5ECF6",
            "gridcolor": "white",
            "gridwidth": 2,
            "linecolor": "white",
            "showbackground": true,
            "ticks": "",
            "zerolinecolor": "white"
           },
           "zaxis": {
            "backgroundcolor": "#E5ECF6",
            "gridcolor": "white",
            "gridwidth": 2,
            "linecolor": "white",
            "showbackground": true,
            "ticks": "",
            "zerolinecolor": "white"
           }
          },
          "shapedefaults": {
           "line": {
            "color": "#2a3f5f"
           }
          },
          "ternary": {
           "aaxis": {
            "gridcolor": "white",
            "linecolor": "white",
            "ticks": ""
           },
           "baxis": {
            "gridcolor": "white",
            "linecolor": "white",
            "ticks": ""
           },
           "bgcolor": "#E5ECF6",
           "caxis": {
            "gridcolor": "white",
            "linecolor": "white",
            "ticks": ""
           }
          },
          "title": {
           "x": 0.05
          },
          "xaxis": {
           "automargin": true,
           "gridcolor": "white",
           "linecolor": "white",
           "ticks": "",
           "title": {
            "standoff": 15
           },
           "zerolinecolor": "white",
           "zerolinewidth": 2
          },
          "yaxis": {
           "automargin": true,
           "gridcolor": "white",
           "linecolor": "white",
           "ticks": "",
           "title": {
            "standoff": 15
           },
           "zerolinecolor": "white",
           "zerolinewidth": 2
          }
         }
        },
        "title": {
         "text": "Comparison of exponential function parameters between my result and the result of authors"
        },
        "xaxis": {
         "anchor": "y",
         "domain": [
          0,
          0.45
         ]
        },
        "xaxis2": {
         "anchor": "y2",
         "domain": [
          0.55,
          1
         ]
        },
        "yaxis": {
         "anchor": "x",
         "domain": [
          0,
          1
         ]
        },
        "yaxis2": {
         "anchor": "x2",
         "domain": [
          0,
          1
         ]
        }
       }
      }
     },
     "metadata": {},
     "output_type": "display_data"
    }
   ],
   "source": [
    "func=['with_curv=1', 'with_curv=0.88', 'with_optimal_curv']\n",
    "fig = make_subplots(rows = 1, cols= 2, shared_yaxes=False,\n",
    "                    subplot_titles=('Estimation of gamma', 'Estimation of Probability weighting'))\n",
    "\n",
    "def plot_func(type1,type2,type3):\n",
    "    fig = make_subplots(rows = 1, cols= 2, shared_yaxes=False,\n",
    "                    subplot_titles=('Estimation of gamma', 'Estimation of Probability weighting'))\n",
    "    trace1 = go.Bar(\n",
    "        x=func,\n",
    "        y=t6.filter(regex= f'{type1}').iloc[0,:],\n",
    "        name='my gamma estimation',\n",
    "        textposition='auto',\n",
    "        text=t6.filter(regex= f'{type1}').iloc[0,:]\n",
    "    )\n",
    "\n",
    "    trace2 = go.Bar(\n",
    "        x=func,\n",
    "        y=t6.filter(regex= f'{type2}').iloc[0,:],\n",
    "        name='result of author',\n",
    "        textposition='auto',\n",
    "        text=t6.filter(regex= f'{type2}').iloc[0,:]\n",
    "    )\n",
    "\n",
    "    trace3 = go.Bar(\n",
    "        x=func,\n",
    "        y=t6.filter(regex= f'{type2}').iloc[3,:],\n",
    "        name='result of author',\n",
    "        textposition='auto',\n",
    "        text=t6.filter(regex= f'{type2}').iloc[3,:]\n",
    "    )\n",
    "\n",
    "    trace4 = go.Bar(\n",
    "        x=func,\n",
    "        y=t6.filter(regex= f'{type1}').iloc[3,:],\n",
    "        name='my probability weight estimation',\n",
    "        textposition='auto',\n",
    "        text=t6.filter(regex= f'{type1}').iloc[3,:]\n",
    "    )\n",
    "    fig.append_trace(trace1,1,1)\n",
    "    fig.append_trace(trace2,1,1)\n",
    "    fig.append_trace(trace4,1,2)\n",
    "    fig.append_trace(trace3,1,2)\n",
    "    fig.update_layout(barmode='group',\n",
    "    title=\"Comparison of\"+\" \" +f'{type3}' +\" \"+ 'function parameters between my result and the result of authors')\n",
    "    return fig.show()\n",
    "\n",
    "plot_func(\"e_est\",\"e_aut\",\"exponential\")\n",
    "\n",
    "    \n"
   ]
  },
  {
   "cell_type": "code",
   "execution_count": 131,
   "metadata": {},
   "outputs": [
    {
     "data": {
      "text/plain": [
       "Curvature γ of cost function            float64\n",
       "Level k of cost of effort               float64\n",
       "Intrinsic motivation s                  float64\n",
       "Probability weighting π (1%) (in %)     float64\n",
       "Curvature of utility over piece rate    float64\n",
       "parameters                               object\n",
       "dtype: object"
      ]
     },
     "execution_count": 131,
     "metadata": {},
     "output_type": "execute_result"
    }
   ],
   "source": [
    "new_df = t6.filter(regex=r\"(parameters|p_est)\",axis = 1)\n",
    "new_df = new_df.T\n",
    "new_df = new_df.reset_index()\n",
    "new_df = new_df.rename(columns=new_df.iloc[0,:])\n",
    "new_df = new_df.iloc[1:4,:]\n",
    "new_dff = new_df.iloc[:,1:6]\n",
    "new_dff = new_dff.astype(float)\n",
    "new_dff['parameters'] = new_df['parameters']\n",
    "new_dff.dtypes\n",
    "#new_df.rename(columns={new_df.iloc[:,1]})"
   ]
  },
  {
   "cell_type": "code",
   "execution_count": 146,
   "metadata": {},
   "outputs": [
    {
     "data": {
      "application/vnd.plotly.v1+json": {
       "config": {
        "plotlyServerURL": "https://plot.ly"
       },
       "data": [
        {
         "alignmentgroup": "True",
         "hovertemplate": "parameters=%{x}<br>Level k of cost of effort=%{y}<br>Curvature of utility over piece rate=%{marker.color}<extra></extra>",
         "legendgroup": "",
         "marker": {
          "color": [
           1,
           0.88,
           0.9235
          ],
          "coloraxis": "coloraxis",
          "pattern": {
           "shape": ""
          }
         },
         "name": "",
         "offsetgroup": "",
         "orientation": "v",
         "showlegend": false,
         "textposition": "auto",
         "type": "bar",
         "x": [
          "p_est1",
          "p_est2",
          "p_est3"
         ],
         "xaxis": "x",
         "y": [
          3.89e-71,
          1.96e-64,
          1.01e-66
         ],
         "yaxis": "y"
        }
       ],
       "layout": {
        "barmode": "relative",
        "coloraxis": {
         "colorbar": {
          "title": {
           "text": "Curvature of utility over piece rate"
          }
         },
         "colorscale": [
          [
           0,
           "#0d0887"
          ],
          [
           0.1111111111111111,
           "#46039f"
          ],
          [
           0.2222222222222222,
           "#7201a8"
          ],
          [
           0.3333333333333333,
           "#9c179e"
          ],
          [
           0.4444444444444444,
           "#bd3786"
          ],
          [
           0.5555555555555556,
           "#d8576b"
          ],
          [
           0.6666666666666666,
           "#ed7953"
          ],
          [
           0.7777777777777778,
           "#fb9f3a"
          ],
          [
           0.8888888888888888,
           "#fdca26"
          ],
          [
           1,
           "#f0f921"
          ]
         ]
        },
        "legend": {
         "tracegroupgap": 0
        },
        "margin": {
         "t": 60
        },
        "template": {
         "data": {
          "bar": [
           {
            "error_x": {
             "color": "#2a3f5f"
            },
            "error_y": {
             "color": "#2a3f5f"
            },
            "marker": {
             "line": {
              "color": "#E5ECF6",
              "width": 0.5
             },
             "pattern": {
              "fillmode": "overlay",
              "size": 10,
              "solidity": 0.2
             }
            },
            "type": "bar"
           }
          ],
          "barpolar": [
           {
            "marker": {
             "line": {
              "color": "#E5ECF6",
              "width": 0.5
             },
             "pattern": {
              "fillmode": "overlay",
              "size": 10,
              "solidity": 0.2
             }
            },
            "type": "barpolar"
           }
          ],
          "carpet": [
           {
            "aaxis": {
             "endlinecolor": "#2a3f5f",
             "gridcolor": "white",
             "linecolor": "white",
             "minorgridcolor": "white",
             "startlinecolor": "#2a3f5f"
            },
            "baxis": {
             "endlinecolor": "#2a3f5f",
             "gridcolor": "white",
             "linecolor": "white",
             "minorgridcolor": "white",
             "startlinecolor": "#2a3f5f"
            },
            "type": "carpet"
           }
          ],
          "choropleth": [
           {
            "colorbar": {
             "outlinewidth": 0,
             "ticks": ""
            },
            "type": "choropleth"
           }
          ],
          "contour": [
           {
            "colorbar": {
             "outlinewidth": 0,
             "ticks": ""
            },
            "colorscale": [
             [
              0,
              "#0d0887"
             ],
             [
              0.1111111111111111,
              "#46039f"
             ],
             [
              0.2222222222222222,
              "#7201a8"
             ],
             [
              0.3333333333333333,
              "#9c179e"
             ],
             [
              0.4444444444444444,
              "#bd3786"
             ],
             [
              0.5555555555555556,
              "#d8576b"
             ],
             [
              0.6666666666666666,
              "#ed7953"
             ],
             [
              0.7777777777777778,
              "#fb9f3a"
             ],
             [
              0.8888888888888888,
              "#fdca26"
             ],
             [
              1,
              "#f0f921"
             ]
            ],
            "type": "contour"
           }
          ],
          "contourcarpet": [
           {
            "colorbar": {
             "outlinewidth": 0,
             "ticks": ""
            },
            "type": "contourcarpet"
           }
          ],
          "heatmap": [
           {
            "colorbar": {
             "outlinewidth": 0,
             "ticks": ""
            },
            "colorscale": [
             [
              0,
              "#0d0887"
             ],
             [
              0.1111111111111111,
              "#46039f"
             ],
             [
              0.2222222222222222,
              "#7201a8"
             ],
             [
              0.3333333333333333,
              "#9c179e"
             ],
             [
              0.4444444444444444,
              "#bd3786"
             ],
             [
              0.5555555555555556,
              "#d8576b"
             ],
             [
              0.6666666666666666,
              "#ed7953"
             ],
             [
              0.7777777777777778,
              "#fb9f3a"
             ],
             [
              0.8888888888888888,
              "#fdca26"
             ],
             [
              1,
              "#f0f921"
             ]
            ],
            "type": "heatmap"
           }
          ],
          "heatmapgl": [
           {
            "colorbar": {
             "outlinewidth": 0,
             "ticks": ""
            },
            "colorscale": [
             [
              0,
              "#0d0887"
             ],
             [
              0.1111111111111111,
              "#46039f"
             ],
             [
              0.2222222222222222,
              "#7201a8"
             ],
             [
              0.3333333333333333,
              "#9c179e"
             ],
             [
              0.4444444444444444,
              "#bd3786"
             ],
             [
              0.5555555555555556,
              "#d8576b"
             ],
             [
              0.6666666666666666,
              "#ed7953"
             ],
             [
              0.7777777777777778,
              "#fb9f3a"
             ],
             [
              0.8888888888888888,
              "#fdca26"
             ],
             [
              1,
              "#f0f921"
             ]
            ],
            "type": "heatmapgl"
           }
          ],
          "histogram": [
           {
            "marker": {
             "pattern": {
              "fillmode": "overlay",
              "size": 10,
              "solidity": 0.2
             }
            },
            "type": "histogram"
           }
          ],
          "histogram2d": [
           {
            "colorbar": {
             "outlinewidth": 0,
             "ticks": ""
            },
            "colorscale": [
             [
              0,
              "#0d0887"
             ],
             [
              0.1111111111111111,
              "#46039f"
             ],
             [
              0.2222222222222222,
              "#7201a8"
             ],
             [
              0.3333333333333333,
              "#9c179e"
             ],
             [
              0.4444444444444444,
              "#bd3786"
             ],
             [
              0.5555555555555556,
              "#d8576b"
             ],
             [
              0.6666666666666666,
              "#ed7953"
             ],
             [
              0.7777777777777778,
              "#fb9f3a"
             ],
             [
              0.8888888888888888,
              "#fdca26"
             ],
             [
              1,
              "#f0f921"
             ]
            ],
            "type": "histogram2d"
           }
          ],
          "histogram2dcontour": [
           {
            "colorbar": {
             "outlinewidth": 0,
             "ticks": ""
            },
            "colorscale": [
             [
              0,
              "#0d0887"
             ],
             [
              0.1111111111111111,
              "#46039f"
             ],
             [
              0.2222222222222222,
              "#7201a8"
             ],
             [
              0.3333333333333333,
              "#9c179e"
             ],
             [
              0.4444444444444444,
              "#bd3786"
             ],
             [
              0.5555555555555556,
              "#d8576b"
             ],
             [
              0.6666666666666666,
              "#ed7953"
             ],
             [
              0.7777777777777778,
              "#fb9f3a"
             ],
             [
              0.8888888888888888,
              "#fdca26"
             ],
             [
              1,
              "#f0f921"
             ]
            ],
            "type": "histogram2dcontour"
           }
          ],
          "mesh3d": [
           {
            "colorbar": {
             "outlinewidth": 0,
             "ticks": ""
            },
            "type": "mesh3d"
           }
          ],
          "parcoords": [
           {
            "line": {
             "colorbar": {
              "outlinewidth": 0,
              "ticks": ""
             }
            },
            "type": "parcoords"
           }
          ],
          "pie": [
           {
            "automargin": true,
            "type": "pie"
           }
          ],
          "scatter": [
           {
            "fillpattern": {
             "fillmode": "overlay",
             "size": 10,
             "solidity": 0.2
            },
            "type": "scatter"
           }
          ],
          "scatter3d": [
           {
            "line": {
             "colorbar": {
              "outlinewidth": 0,
              "ticks": ""
             }
            },
            "marker": {
             "colorbar": {
              "outlinewidth": 0,
              "ticks": ""
             }
            },
            "type": "scatter3d"
           }
          ],
          "scattercarpet": [
           {
            "marker": {
             "colorbar": {
              "outlinewidth": 0,
              "ticks": ""
             }
            },
            "type": "scattercarpet"
           }
          ],
          "scattergeo": [
           {
            "marker": {
             "colorbar": {
              "outlinewidth": 0,
              "ticks": ""
             }
            },
            "type": "scattergeo"
           }
          ],
          "scattergl": [
           {
            "marker": {
             "colorbar": {
              "outlinewidth": 0,
              "ticks": ""
             }
            },
            "type": "scattergl"
           }
          ],
          "scattermapbox": [
           {
            "marker": {
             "colorbar": {
              "outlinewidth": 0,
              "ticks": ""
             }
            },
            "type": "scattermapbox"
           }
          ],
          "scatterpolar": [
           {
            "marker": {
             "colorbar": {
              "outlinewidth": 0,
              "ticks": ""
             }
            },
            "type": "scatterpolar"
           }
          ],
          "scatterpolargl": [
           {
            "marker": {
             "colorbar": {
              "outlinewidth": 0,
              "ticks": ""
             }
            },
            "type": "scatterpolargl"
           }
          ],
          "scatterternary": [
           {
            "marker": {
             "colorbar": {
              "outlinewidth": 0,
              "ticks": ""
             }
            },
            "type": "scatterternary"
           }
          ],
          "surface": [
           {
            "colorbar": {
             "outlinewidth": 0,
             "ticks": ""
            },
            "colorscale": [
             [
              0,
              "#0d0887"
             ],
             [
              0.1111111111111111,
              "#46039f"
             ],
             [
              0.2222222222222222,
              "#7201a8"
             ],
             [
              0.3333333333333333,
              "#9c179e"
             ],
             [
              0.4444444444444444,
              "#bd3786"
             ],
             [
              0.5555555555555556,
              "#d8576b"
             ],
             [
              0.6666666666666666,
              "#ed7953"
             ],
             [
              0.7777777777777778,
              "#fb9f3a"
             ],
             [
              0.8888888888888888,
              "#fdca26"
             ],
             [
              1,
              "#f0f921"
             ]
            ],
            "type": "surface"
           }
          ],
          "table": [
           {
            "cells": {
             "fill": {
              "color": "#EBF0F8"
             },
             "line": {
              "color": "white"
             }
            },
            "header": {
             "fill": {
              "color": "#C8D4E3"
             },
             "line": {
              "color": "white"
             }
            },
            "type": "table"
           }
          ]
         },
         "layout": {
          "annotationdefaults": {
           "arrowcolor": "#2a3f5f",
           "arrowhead": 0,
           "arrowwidth": 1
          },
          "autotypenumbers": "strict",
          "coloraxis": {
           "colorbar": {
            "outlinewidth": 0,
            "ticks": ""
           }
          },
          "colorscale": {
           "diverging": [
            [
             0,
             "#8e0152"
            ],
            [
             0.1,
             "#c51b7d"
            ],
            [
             0.2,
             "#de77ae"
            ],
            [
             0.3,
             "#f1b6da"
            ],
            [
             0.4,
             "#fde0ef"
            ],
            [
             0.5,
             "#f7f7f7"
            ],
            [
             0.6,
             "#e6f5d0"
            ],
            [
             0.7,
             "#b8e186"
            ],
            [
             0.8,
             "#7fbc41"
            ],
            [
             0.9,
             "#4d9221"
            ],
            [
             1,
             "#276419"
            ]
           ],
           "sequential": [
            [
             0,
             "#0d0887"
            ],
            [
             0.1111111111111111,
             "#46039f"
            ],
            [
             0.2222222222222222,
             "#7201a8"
            ],
            [
             0.3333333333333333,
             "#9c179e"
            ],
            [
             0.4444444444444444,
             "#bd3786"
            ],
            [
             0.5555555555555556,
             "#d8576b"
            ],
            [
             0.6666666666666666,
             "#ed7953"
            ],
            [
             0.7777777777777778,
             "#fb9f3a"
            ],
            [
             0.8888888888888888,
             "#fdca26"
            ],
            [
             1,
             "#f0f921"
            ]
           ],
           "sequentialminus": [
            [
             0,
             "#0d0887"
            ],
            [
             0.1111111111111111,
             "#46039f"
            ],
            [
             0.2222222222222222,
             "#7201a8"
            ],
            [
             0.3333333333333333,
             "#9c179e"
            ],
            [
             0.4444444444444444,
             "#bd3786"
            ],
            [
             0.5555555555555556,
             "#d8576b"
            ],
            [
             0.6666666666666666,
             "#ed7953"
            ],
            [
             0.7777777777777778,
             "#fb9f3a"
            ],
            [
             0.8888888888888888,
             "#fdca26"
            ],
            [
             1,
             "#f0f921"
            ]
           ]
          },
          "colorway": [
           "#636efa",
           "#EF553B",
           "#00cc96",
           "#ab63fa",
           "#FFA15A",
           "#19d3f3",
           "#FF6692",
           "#B6E880",
           "#FF97FF",
           "#FECB52"
          ],
          "font": {
           "color": "#2a3f5f"
          },
          "geo": {
           "bgcolor": "white",
           "lakecolor": "white",
           "landcolor": "#E5ECF6",
           "showlakes": true,
           "showland": true,
           "subunitcolor": "white"
          },
          "hoverlabel": {
           "align": "left"
          },
          "hovermode": "closest",
          "mapbox": {
           "style": "light"
          },
          "paper_bgcolor": "white",
          "plot_bgcolor": "#E5ECF6",
          "polar": {
           "angularaxis": {
            "gridcolor": "white",
            "linecolor": "white",
            "ticks": ""
           },
           "bgcolor": "#E5ECF6",
           "radialaxis": {
            "gridcolor": "white",
            "linecolor": "white",
            "ticks": ""
           }
          },
          "scene": {
           "xaxis": {
            "backgroundcolor": "#E5ECF6",
            "gridcolor": "white",
            "gridwidth": 2,
            "linecolor": "white",
            "showbackground": true,
            "ticks": "",
            "zerolinecolor": "white"
           },
           "yaxis": {
            "backgroundcolor": "#E5ECF6",
            "gridcolor": "white",
            "gridwidth": 2,
            "linecolor": "white",
            "showbackground": true,
            "ticks": "",
            "zerolinecolor": "white"
           },
           "zaxis": {
            "backgroundcolor": "#E5ECF6",
            "gridcolor": "white",
            "gridwidth": 2,
            "linecolor": "white",
            "showbackground": true,
            "ticks": "",
            "zerolinecolor": "white"
           }
          },
          "shapedefaults": {
           "line": {
            "color": "#2a3f5f"
           }
          },
          "ternary": {
           "aaxis": {
            "gridcolor": "white",
            "linecolor": "white",
            "ticks": ""
           },
           "baxis": {
            "gridcolor": "white",
            "linecolor": "white",
            "ticks": ""
           },
           "bgcolor": "#E5ECF6",
           "caxis": {
            "gridcolor": "white",
            "linecolor": "white",
            "ticks": ""
           }
          },
          "title": {
           "x": 0.05
          },
          "xaxis": {
           "automargin": true,
           "gridcolor": "white",
           "linecolor": "white",
           "ticks": "",
           "title": {
            "standoff": 15
           },
           "zerolinecolor": "white",
           "zerolinewidth": 2
          },
          "yaxis": {
           "automargin": true,
           "gridcolor": "white",
           "linecolor": "white",
           "ticks": "",
           "title": {
            "standoff": 15
           },
           "zerolinecolor": "white",
           "zerolinewidth": 2
          }
         }
        },
        "width": 500,
        "xaxis": {
         "anchor": "y",
         "domain": [
          0,
          1
         ],
         "title": {
          "text": "parameters"
         }
        },
        "yaxis": {
         "anchor": "x",
         "domain": [
          0,
          1
         ],
         "range": [
          1e-71,
          1e-62
         ],
         "title": {
          "text": "Level k of cost of effort"
         }
        }
       }
      }
     },
     "metadata": {},
     "output_type": "display_data"
    }
   ],
   "source": [
    "import plotly.express as px\n",
    "#new_dff = new_dff.sort_values(by=\"Curvature γ of cost function\")\n",
    "fig = px.bar(new_dff, x=\"parameters\",y = \"Level k of cost of effort\",color = \"Curvature of utility over piece rate\",\n",
    "             width=500,range_y=[1e-71,1e-62])\n",
    "fig.show()\n"
   ]
  },
  {
   "cell_type": "code",
   "execution_count": 52,
   "metadata": {},
   "outputs": [
    {
     "ename": "ValueError",
     "evalue": "Value of 'x' is not the name of a column in 'data_frame'. Expected one of ['Curvature γ of cost function', 'Level k of cost of effort', 'Intrinsic motivation s', 'Probability weighting π (1%) (in %)', 'Curvature of utility over piece rate', 'parameters'] but received: index\n To use the index, pass it in directly as `df.index`.",
     "output_type": "error",
     "traceback": [
      "\u001b[1;31m---------------------------------------------------------------------------\u001b[0m",
      "\u001b[1;31mValueError\u001b[0m                                Traceback (most recent call last)",
      "Cell \u001b[1;32mIn[52], line 5\u001b[0m\n\u001b[0;32m      1\u001b[0m \u001b[39mimport\u001b[39;00m \u001b[39mplotly\u001b[39;00m\u001b[39m.\u001b[39;00m\u001b[39mexpress\u001b[39;00m \u001b[39mas\u001b[39;00m \u001b[39mpx\u001b[39;00m\n\u001b[0;32m      2\u001b[0m new_dff \u001b[39m=\u001b[39m new_dff\u001b[39m.\u001b[39msort_values(by\u001b[39m=\u001b[39m\u001b[39m\"\u001b[39m\u001b[39mProbability weighting π (1\u001b[39m\u001b[39m%\u001b[39m\u001b[39m) (in \u001b[39m\u001b[39m%\u001b[39m\u001b[39m)\u001b[39m\u001b[39m\"\u001b[39m)\n\u001b[1;32m----> 5\u001b[0m fig \u001b[39m=\u001b[39m px\u001b[39m.\u001b[39;49mbar(new_dff, x\u001b[39m=\u001b[39;49m\u001b[39m\"\u001b[39;49m\u001b[39mindex\u001b[39;49m\u001b[39m\"\u001b[39;49m,y \u001b[39m=\u001b[39;49m \u001b[39m\"\u001b[39;49m\u001b[39mIntrinsic motivation s\u001b[39;49m\u001b[39m\"\u001b[39;49m,color \u001b[39m=\u001b[39;49m \u001b[39m'\u001b[39;49m\u001b[39mindex\u001b[39;49m\u001b[39m'\u001b[39;49m,\n\u001b[0;32m      6\u001b[0m              width\u001b[39m=\u001b[39;49m\u001b[39m500\u001b[39;49m)\u001b[39m#color_discrete_map={\"p_est1\":\"red\",\"p_est2\t\":\"green\",\"p_est3\":\"blue\"}\u001b[39;00m\n\u001b[0;32m      7\u001b[0m \u001b[39m#fig.update_layout(yaxis=dict(autorange=\"reversed\"))\u001b[39;00m\n\u001b[0;32m      8\u001b[0m fig\u001b[39m.\u001b[39mupdate_layout(yaxis_range\u001b[39m=\u001b[39m[\u001b[39m1e-7\u001b[39m, \u001b[39m9e-6\u001b[39m])\n",
      "File \u001b[1;32mc:\\Users\\ua896\\anaconda3\\envs\\epp_final\\Lib\\site-packages\\plotly\\express\\_chart_types.py:373\u001b[0m, in \u001b[0;36mbar\u001b[1;34m(data_frame, x, y, color, pattern_shape, facet_row, facet_col, facet_col_wrap, facet_row_spacing, facet_col_spacing, hover_name, hover_data, custom_data, text, base, error_x, error_x_minus, error_y, error_y_minus, animation_frame, animation_group, category_orders, labels, color_discrete_sequence, color_discrete_map, color_continuous_scale, pattern_shape_sequence, pattern_shape_map, range_color, color_continuous_midpoint, opacity, orientation, barmode, log_x, log_y, range_x, range_y, text_auto, title, template, width, height)\u001b[0m\n\u001b[0;32m    325\u001b[0m \u001b[39mdef\u001b[39;00m \u001b[39mbar\u001b[39m(\n\u001b[0;32m    326\u001b[0m     data_frame\u001b[39m=\u001b[39m\u001b[39mNone\u001b[39;00m,\n\u001b[0;32m    327\u001b[0m     x\u001b[39m=\u001b[39m\u001b[39mNone\u001b[39;00m,\n\u001b[1;32m   (...)\u001b[0m\n\u001b[0;32m    367\u001b[0m     height\u001b[39m=\u001b[39m\u001b[39mNone\u001b[39;00m,\n\u001b[0;32m    368\u001b[0m ) \u001b[39m-\u001b[39m\u001b[39m>\u001b[39m go\u001b[39m.\u001b[39mFigure:\n\u001b[0;32m    369\u001b[0m \u001b[39m    \u001b[39m\u001b[39m\"\"\"\u001b[39;00m\n\u001b[0;32m    370\u001b[0m \u001b[39m    In a bar plot, each row of `data_frame` is represented as a rectangular\u001b[39;00m\n\u001b[0;32m    371\u001b[0m \u001b[39m    mark.\u001b[39;00m\n\u001b[0;32m    372\u001b[0m \u001b[39m    \"\"\"\u001b[39;00m\n\u001b[1;32m--> 373\u001b[0m     \u001b[39mreturn\u001b[39;00m make_figure(\n\u001b[0;32m    374\u001b[0m         args\u001b[39m=\u001b[39;49m\u001b[39mlocals\u001b[39;49m(),\n\u001b[0;32m    375\u001b[0m         constructor\u001b[39m=\u001b[39;49mgo\u001b[39m.\u001b[39;49mBar,\n\u001b[0;32m    376\u001b[0m         trace_patch\u001b[39m=\u001b[39;49m\u001b[39mdict\u001b[39;49m(textposition\u001b[39m=\u001b[39;49m\u001b[39m\"\u001b[39;49m\u001b[39mauto\u001b[39;49m\u001b[39m\"\u001b[39;49m),\n\u001b[0;32m    377\u001b[0m         layout_patch\u001b[39m=\u001b[39;49m\u001b[39mdict\u001b[39;49m(barmode\u001b[39m=\u001b[39;49mbarmode),\n\u001b[0;32m    378\u001b[0m     )\n",
      "File \u001b[1;32mc:\\Users\\ua896\\anaconda3\\envs\\epp_final\\Lib\\site-packages\\plotly\\express\\_core.py:1991\u001b[0m, in \u001b[0;36mmake_figure\u001b[1;34m(args, constructor, trace_patch, layout_patch)\u001b[0m\n\u001b[0;32m   1988\u001b[0m layout_patch \u001b[39m=\u001b[39m layout_patch \u001b[39mor\u001b[39;00m {}\n\u001b[0;32m   1989\u001b[0m apply_default_cascade(args)\n\u001b[1;32m-> 1991\u001b[0m args \u001b[39m=\u001b[39m build_dataframe(args, constructor)\n\u001b[0;32m   1992\u001b[0m \u001b[39mif\u001b[39;00m constructor \u001b[39min\u001b[39;00m [go\u001b[39m.\u001b[39mTreemap, go\u001b[39m.\u001b[39mSunburst, go\u001b[39m.\u001b[39mIcicle] \u001b[39mand\u001b[39;00m args[\u001b[39m\"\u001b[39m\u001b[39mpath\u001b[39m\u001b[39m\"\u001b[39m] \u001b[39mis\u001b[39;00m \u001b[39mnot\u001b[39;00m \u001b[39mNone\u001b[39;00m:\n\u001b[0;32m   1993\u001b[0m     args \u001b[39m=\u001b[39m process_dataframe_hierarchy(args)\n",
      "File \u001b[1;32mc:\\Users\\ua896\\anaconda3\\envs\\epp_final\\Lib\\site-packages\\plotly\\express\\_core.py:1406\u001b[0m, in \u001b[0;36mbuild_dataframe\u001b[1;34m(args, constructor)\u001b[0m\n\u001b[0;32m   1403\u001b[0m     args[\u001b[39m\"\u001b[39m\u001b[39mcolor\u001b[39m\u001b[39m\"\u001b[39m] \u001b[39m=\u001b[39m \u001b[39mNone\u001b[39;00m\n\u001b[0;32m   1404\u001b[0m \u001b[39m# now that things have been prepped, we do the systematic rewriting of `args`\u001b[39;00m\n\u001b[1;32m-> 1406\u001b[0m df_output, wide_id_vars \u001b[39m=\u001b[39m process_args_into_dataframe(\n\u001b[0;32m   1407\u001b[0m     args, wide_mode, var_name, value_name\n\u001b[0;32m   1408\u001b[0m )\n\u001b[0;32m   1410\u001b[0m \u001b[39m# now that `df_output` exists and `args` contains only references, we complete\u001b[39;00m\n\u001b[0;32m   1411\u001b[0m \u001b[39m# the special-case and wide-mode handling by further rewriting args and/or mutating\u001b[39;00m\n\u001b[0;32m   1412\u001b[0m \u001b[39m# df_output\u001b[39;00m\n\u001b[0;32m   1414\u001b[0m count_name \u001b[39m=\u001b[39m _escape_col_name(df_output, \u001b[39m\"\u001b[39m\u001b[39mcount\u001b[39m\u001b[39m\"\u001b[39m, [var_name, value_name])\n",
      "File \u001b[1;32mc:\\Users\\ua896\\anaconda3\\envs\\epp_final\\Lib\\site-packages\\plotly\\express\\_core.py:1208\u001b[0m, in \u001b[0;36mprocess_args_into_dataframe\u001b[1;34m(args, wide_mode, var_name, value_name)\u001b[0m\n\u001b[0;32m   1206\u001b[0m         \u001b[39mif\u001b[39;00m argument \u001b[39m==\u001b[39m \u001b[39m\"\u001b[39m\u001b[39mindex\u001b[39m\u001b[39m\"\u001b[39m:\n\u001b[0;32m   1207\u001b[0m             err_msg \u001b[39m+\u001b[39m\u001b[39m=\u001b[39m \u001b[39m\"\u001b[39m\u001b[39m\\n\u001b[39;00m\u001b[39m To use the index, pass it in directly as `df.index`.\u001b[39m\u001b[39m\"\u001b[39m\n\u001b[1;32m-> 1208\u001b[0m         \u001b[39mraise\u001b[39;00m \u001b[39mValueError\u001b[39;00m(err_msg)\n\u001b[0;32m   1209\u001b[0m \u001b[39melif\u001b[39;00m length \u001b[39mand\u001b[39;00m \u001b[39mlen\u001b[39m(df_input[argument]) \u001b[39m!=\u001b[39m length:\n\u001b[0;32m   1210\u001b[0m     \u001b[39mraise\u001b[39;00m \u001b[39mValueError\u001b[39;00m(\n\u001b[0;32m   1211\u001b[0m         \u001b[39m\"\u001b[39m\u001b[39mAll arguments should have the same length. \u001b[39m\u001b[39m\"\u001b[39m\n\u001b[0;32m   1212\u001b[0m         \u001b[39m\"\u001b[39m\u001b[39mThe length of column argument `df[\u001b[39m\u001b[39m%s\u001b[39;00m\u001b[39m]` is \u001b[39m\u001b[39m%d\u001b[39;00m\u001b[39m, whereas the \u001b[39m\u001b[39m\"\u001b[39m\n\u001b[1;32m   (...)\u001b[0m\n\u001b[0;32m   1219\u001b[0m         )\n\u001b[0;32m   1220\u001b[0m     )\n",
      "\u001b[1;31mValueError\u001b[0m: Value of 'x' is not the name of a column in 'data_frame'. Expected one of ['Curvature γ of cost function', 'Level k of cost of effort', 'Intrinsic motivation s', 'Probability weighting π (1%) (in %)', 'Curvature of utility over piece rate', 'parameters'] but received: index\n To use the index, pass it in directly as `df.index`."
     ]
    }
   ],
   "source": [
    "import plotly.express as px\n",
    "new_dff = new_dff.sort_values(by=\"Probability weighting π (1%) (in %)\")\n",
    "\n",
    "\n",
    "fig = px.bar(new_dff, x=\"index\",y = \"Intrinsic motivation s\",color = 'index',\n",
    "             width=500)#color_discrete_map={\"p_est1\":\"red\",\"p_est2\t\":\"green\",\"p_est3\":\"blue\"}\n",
    "#fig.update_layout(yaxis=dict(autorange=\"reversed\"))\n",
    "fig.update_layout(yaxis_range=[1e-7, 9e-6])\n",
    "fig.show()\n"
   ]
  },
  {
   "cell_type": "code",
   "execution_count": null,
   "metadata": {},
   "outputs": [],
   "source": [
    "#####################################################################333"
   ]
  },
  {
   "cell_type": "code",
   "execution_count": null,
   "metadata": {},
   "outputs": [
    {
     "data": {
      "text/plain": [
       "buttonpresses                   float64\n",
       "treatment                       float64\n",
       "treatmentname                    object\n",
       "payoff_per_100                  float64\n",
       "payoff_charity_per_100          float64\n",
       "dummy_charity                     int64\n",
       "delay_wks                         int64\n",
       "delay_dummy                       int64\n",
       "gift_dummy                        int64\n",
       "prob                            float64\n",
       "weight_dummy                      int64\n",
       "buttonpresses_nearest_100       float64\n",
       "logbuttonpresses_nearest_100    float64\n",
       "dummy1                            int64\n",
       "samplenw                          int64\n",
       "samplepr                          int64\n",
       "dtype: object"
      ]
     },
     "execution_count": 80,
     "metadata": {},
     "output_type": "execute_result"
    }
   ],
   "source": [
    "df_wrong = pd.read_csv('D:\\\\Temp\\\\epp_final\\\\bld\\\\python\\\\data\\\\data_modify.csv')\n",
    "df_wrong.dtypes\n"
   ]
  }
 ],
 "metadata": {
  "kernelspec": {
   "display_name": "epp_final_project",
   "language": "python",
   "name": "python3"
  },
  "language_info": {
   "codemirror_mode": {
    "name": "ipython",
    "version": 3
   },
   "file_extension": ".py",
   "mimetype": "text/x-python",
   "name": "python",
   "nbconvert_exporter": "python",
   "pygments_lexer": "ipython3",
   "version": "3.11.0"
  },
  "orig_nbformat": 4
 },
 "nbformat": 4,
 "nbformat_minor": 2
}
