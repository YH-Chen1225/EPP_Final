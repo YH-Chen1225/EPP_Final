{
 "cells": [
  {
   "cell_type": "code",
   "execution_count": 2,
   "metadata": {},
   "outputs": [],
   "source": [
    "import numpy as np\n",
    "import pandas as pd\n",
    "from   scipy.stats import norm\n",
    "import scipy.optimize as opt\n",
    "import math"
   ]
  },
  {
   "cell_type": "code",
   "execution_count": 3,
   "metadata": {},
   "outputs": [],
   "source": [
    "df = pd.read_stata('data/mturk_clean_data_short.dta')"
   ]
  },
  {
   "cell_type": "code",
   "execution_count": 4,
   "metadata": {},
   "outputs": [
    {
     "data": {
      "text/html": [
       "<div>\n",
       "<style scoped>\n",
       "    .dataframe tbody tr th:only-of-type {\n",
       "        vertical-align: middle;\n",
       "    }\n",
       "\n",
       "    .dataframe tbody tr th {\n",
       "        vertical-align: top;\n",
       "    }\n",
       "\n",
       "    .dataframe thead th {\n",
       "        text-align: right;\n",
       "    }\n",
       "</style>\n",
       "<table border=\"1\" class=\"dataframe\">\n",
       "  <thead>\n",
       "    <tr style=\"text-align: right;\">\n",
       "      <th></th>\n",
       "      <th>buttonpresses</th>\n",
       "      <th>treatment</th>\n",
       "      <th>treatmentname</th>\n",
       "    </tr>\n",
       "  </thead>\n",
       "  <tbody>\n",
       "    <tr>\n",
       "      <th>0</th>\n",
       "      <td>45</td>\n",
       "      <td>1.1</td>\n",
       "      <td>1c PieceRate</td>\n",
       "    </tr>\n",
       "    <tr>\n",
       "      <th>1</th>\n",
       "      <td>100</td>\n",
       "      <td>1.1</td>\n",
       "      <td>1c PieceRate</td>\n",
       "    </tr>\n",
       "    <tr>\n",
       "      <th>2</th>\n",
       "      <td>114</td>\n",
       "      <td>1.1</td>\n",
       "      <td>1c PieceRate</td>\n",
       "    </tr>\n",
       "    <tr>\n",
       "      <th>3</th>\n",
       "      <td>115</td>\n",
       "      <td>1.1</td>\n",
       "      <td>1c PieceRate</td>\n",
       "    </tr>\n",
       "    <tr>\n",
       "      <th>4</th>\n",
       "      <td>126</td>\n",
       "      <td>1.1</td>\n",
       "      <td>1c PieceRate</td>\n",
       "    </tr>\n",
       "    <tr>\n",
       "      <th>...</th>\n",
       "      <td>...</td>\n",
       "      <td>...</td>\n",
       "      <td>...</td>\n",
       "    </tr>\n",
       "    <tr>\n",
       "      <th>9856</th>\n",
       "      <td>3031</td>\n",
       "      <td>10</td>\n",
       "      <td>Gift Exchange</td>\n",
       "    </tr>\n",
       "    <tr>\n",
       "      <th>9857</th>\n",
       "      <td>3060</td>\n",
       "      <td>10</td>\n",
       "      <td>Gift Exchange</td>\n",
       "    </tr>\n",
       "    <tr>\n",
       "      <th>9858</th>\n",
       "      <td>3073</td>\n",
       "      <td>10</td>\n",
       "      <td>Gift Exchange</td>\n",
       "    </tr>\n",
       "    <tr>\n",
       "      <th>9859</th>\n",
       "      <td>3135</td>\n",
       "      <td>10</td>\n",
       "      <td>Gift Exchange</td>\n",
       "    </tr>\n",
       "    <tr>\n",
       "      <th>9860</th>\n",
       "      <td>3175</td>\n",
       "      <td>10</td>\n",
       "      <td>Gift Exchange</td>\n",
       "    </tr>\n",
       "  </tbody>\n",
       "</table>\n",
       "<p>9861 rows × 3 columns</p>\n",
       "</div>"
      ],
      "text/plain": [
       "      buttonpresses treatment  treatmentname\n",
       "0                45       1.1   1c PieceRate\n",
       "1               100       1.1   1c PieceRate\n",
       "2               114       1.1   1c PieceRate\n",
       "3               115       1.1   1c PieceRate\n",
       "4               126       1.1   1c PieceRate\n",
       "...             ...       ...            ...\n",
       "9856           3031        10  Gift Exchange\n",
       "9857           3060        10  Gift Exchange\n",
       "9858           3073        10  Gift Exchange\n",
       "9859           3135        10  Gift Exchange\n",
       "9860           3175        10  Gift Exchange\n",
       "\n",
       "[9861 rows x 3 columns]"
      ]
     },
     "execution_count": 4,
     "metadata": {},
     "output_type": "execute_result"
    }
   ],
   "source": [
    "df"
   ]
  },
  {
   "cell_type": "code",
   "execution_count": 5,
   "metadata": {},
   "outputs": [],
   "source": [
    "genre = ['payoff_per_100','payoff_charity_per_100',\n",
    "         'dummy_charity','delay_wks','delay_dummy','gift_dummy','prob','weight_dummy'] \n",
    "for i in genre:\n",
    "    if i != 'prob':\n",
    "        df[F\"{i}\"] = 0\n",
    "    else:\n",
    "        df[F\"{i}\"] = 1"
   ]
  },
  {
   "cell_type": "code",
   "execution_count": 6,
   "metadata": {},
   "outputs": [],
   "source": [
    "payoff_list = ['1.1','1.2','1.3','2','1.4','4.1','4.2','6.2','6.1']\n",
    "payoff = [0.01,0.1,0.0,0.001,0.04,0.01,0.01,0.02,1]\n",
    "charity_list = ['3.1','3.2']\n",
    "charity_payoff = [0.01,0.1]\n",
    "delay_list = ['4.1','4.2']\n",
    "delay_wks = [2,4]\n",
    "prob_list = ['6.2','6.1']\n",
    "probability = [0.5,0.01]"
   ]
  },
  {
   "cell_type": "code",
   "execution_count": 7,
   "metadata": {},
   "outputs": [],
   "source": [
    "assum = {'payoff_per_100':{'1.1':0.01,'1.2':0.1,'1.3':0.0,'2':0.001,'1.4':0.04,'4.1':0.01,'4.2':0.01,'6.2':0.02,'6.1':1},\n",
    " 'payoff_charity_per_100':{'3.1':0.01,'3.2':0.1},\n",
    " 'dummy_charity':{'3.1':1,'3.2':1},\n",
    " 'delay_wks':{'4.1':2,'4.2':4},\n",
    " 'delay_dummy':{'4.1':1,'4.2':1},\n",
    " 'prob':{'6.2':0.5,'6.1':0.01},\n",
    " 'weight_dummy':{'6.1':1},\n",
    " 'gift_dummy':{'10':1}\n",
    " }"
   ]
  },
  {
   "cell_type": "code",
   "execution_count": 8,
   "metadata": {},
   "outputs": [],
   "source": [
    "for task,payoff in assum.items():\n",
    "    for key in payoff:\n",
    "        df.loc[df.treatment == key, task] = payoff[key]"
   ]
  },
  {
   "cell_type": "code",
   "execution_count": 9,
   "metadata": {},
   "outputs": [],
   "source": [
    "df['buttonpresses'] += 0.1 # python rounds 50 to 0, while stata to 100. by adding a small value we avoid this mismatch\n",
    "df['buttonpresses_nearest_100'] = round(df['buttonpresses'],-2)\n",
    "df.loc[df.buttonpresses_nearest_100 == 0, 'buttonpresses_nearest_100'] = 25\n",
    "df['logbuttonpresses_nearest_100']  = np.log(df['buttonpresses_nearest_100'])"
   ]
  },
  {
   "cell_type": "code",
   "execution_count": 10,
   "metadata": {},
   "outputs": [],
   "source": [
    "# Estimate procedure for s, k, gamma in benchmark case with exp cost function\n",
    "# Define the benchmark sample by creating dummies equal to one if in treatment 1.1, 1.2, 1.3 \n",
    "\n",
    "df['dummy1'] = (df['treatment'].isin(['1.1', '1.2','1.3'])).astype(int)# isin can be applied in pandas dataframe"
   ]
  },
  {
   "cell_type": "code",
   "execution_count": 715,
   "metadata": {},
   "outputs": [],
   "source": [
    "# Set the initial values for the optimization procedure and scalers for k and s in the exp cost function case\n",
    "\n",
    "st_values_exp = [0.015645717, 1.69443, 3.69198]#gamma_init_exp, k_init_exp, s_init_exp\n",
    "st_values_power = [19.8117987, 1.66306e-10, 7.74996]#gamma_init_power, k_init_power, s_init_power\n",
    "bp52_aut = [20.546,5.12e-70,3.17e-06]\n"
   ]
  },
  {
   "cell_type": "code",
   "execution_count": 716,
   "metadata": {},
   "outputs": [],
   "source": [
    "def opt_param(effort, k_scaler, s_scaler, st_values,type):\n",
    "    def benchmark(pay100, g, k, s):\n",
    "        if type == \"exp\":\n",
    "            check1 = k/k_scaler            # 'first'  component to compute f(x,θ). We call it check1 since it will enter a log, so we need to be careful with its value being > 0\n",
    "            check2 = s/s_scaler + pay100\n",
    "        else:\n",
    "            check1= max(k/k_scaler, 1e-115)                  # since check1 will enter log it must be greater than zero\n",
    "            check2= np.maximum(s/s_scaler + pay100, 1e-10)   # np.maximum computes the max element wise. We do not want a negative value inside log    \n",
    "           # 'second' component to compute f(x,θ)   \n",
    "        f_x = (-1/g * np.log(check1) +1/g * np.log(check2)) # f(x,θ) written above\n",
    "        return f_x\n",
    "    sol = opt.curve_fit(benchmark,\n",
    "                    df.loc[df['dummy1']==1].payoff_per_100,\n",
    "                    df.loc[df['dummy1']==1,effort],maxfev = 5000,\n",
    "                    p0 = st_values)\n",
    "    \n",
    "    se = np.sqrt(np.diagonal(sol[1]))\n",
    "    solo = [i/j for i,j in zip(sol[0],[1,k_scaler,s_scaler])]\n",
    "    se = [i/j for i,j in zip(se,[1,k_scaler,s_scaler])]\n",
    "    #Following code are for making comparable and understandable result\n",
    "    sol_result = [0]*3\n",
    "    se_result = [0]*3\n",
    "    \n",
    "    for i in range(0,len(sol[0])):\n",
    "        if i == 0:\n",
    "            sol_result[i] = round(solo[i],3)\n",
    "        else:\n",
    "            sol_result[i] = '{0:.2e}'.format(Decimal(solo[i]))\n",
    "            se_result[i] = '{0:.2e}'.format(Decimal(se[i]))   \n",
    "    \n",
    "    if type == \"exp\":\n",
    "        #return sol[0],np.sqrt(np.diagonal(sol[1]))\n",
    "        return sol_result,se_result\n",
    "    else:\n",
    "        sse = np.round(np.sum((benchmark(df.loc[df['dummy1']==1].payoff_per_100,*sol[0])-df.loc[df['dummy1']==1,effort])**2),3)\n",
    "        #bp52_aut = [20.546,5.12e-13,3.17]\n",
    "        sse_aut = np.round(np.sum((benchmark(df.loc[df['dummy1']==1].payoff_per_100,*bp52_aut)-df.loc[df['dummy1']==1,effort])**2),3)\n",
    "        #return sol[0],np.sqrt(np.diagonal(sol[1])),sse,sse_aut\n",
    "        return sol_result,se_result,sse,sse_aut\n",
    "    "
   ]
  },
  {
   "cell_type": "code",
   "execution_count": 717,
   "metadata": {},
   "outputs": [
    {
     "data": {
      "text/plain": [
       "[0.016, '1.71e-16', '3.72e-6']"
      ]
     },
     "execution_count": 717,
     "metadata": {},
     "output_type": "execute_result"
    }
   ],
   "source": [
    "be54,se54 = opt_param(effort = \"buttonpresses_nearest_100\",k_scaler = 1e+16, s_scaler= 1e+6,st_values = st_values_exp,type = \"exp\")\n",
    "be54"
   ]
  },
  {
   "cell_type": "code",
   "execution_count": 718,
   "metadata": {},
   "outputs": [
    {
     "data": {
      "text/plain": [
       "[20.546, '5.12e-70', '3.17e-6']"
      ]
     },
     "execution_count": 718,
     "metadata": {},
     "output_type": "execute_result"
    }
   ],
   "source": [
    "aut = [0]*3\n",
    "for i in range(0,len(bp52_aut)):\n",
    "        if i == 0:\n",
    "            aut[i] = round(bp52_aut[i],3)\n",
    "        else:\n",
    "            aut[i] = '{0:.2e}'.format(Decimal(bp52_aut[i]))\n",
    "aut"
   ]
  },
  {
   "cell_type": "code",
   "execution_count": 227,
   "metadata": {},
   "outputs": [],
   "source": [
    "#Re-write the scaler as list for calculate the estimation parameter\n",
    "#scal = [1,1e+16,1e+6]\n",
    "#p_scal = [1,1e+57,1e+6]\n",
    "#para = [i/j for i,j in zip(be54[0] ,scal)]\n",
    "#se_para = [i/j for i,j in zip(be54[1] ,scal)]"
   ]
  },
  {
   "cell_type": "code",
   "execution_count": 228,
   "metadata": {},
   "outputs": [
    {
     "data": {
      "text/plain": [
       "[0.01564107084478763, 1.70926793259111e-16, 3.7222599348152786e-06]"
      ]
     },
     "execution_count": 228,
     "metadata": {},
     "output_type": "execute_result"
    }
   ],
   "source": [
    "#para"
   ]
  },
  {
   "cell_type": "code",
   "execution_count": 719,
   "metadata": {},
   "outputs": [],
   "source": [
    "bp52,sp52,sse,sse_aut = opt_param(effort = \"logbuttonpresses_nearest_100\",k_scaler = 1e+57, s_scaler= 1e+6,st_values = st_values_power,type = \"power\")\n",
    "#p_para = [i/j for i,j in zip(bp52[0] ,p_scal)]\n",
    "#se_p_para = [i/j for i,j in zip(bp52[1] ,p_scal)]"
   ]
  },
  {
   "cell_type": "code",
   "execution_count": 720,
   "metadata": {},
   "outputs": [
    {
     "data": {
      "text/plain": [
       "42176.046"
      ]
     },
     "execution_count": 720,
     "metadata": {},
     "output_type": "execute_result"
    }
   ],
   "source": [
    "sse_aut"
   ]
  },
  {
   "cell_type": "code",
   "execution_count": 16,
   "metadata": {},
   "outputs": [],
   "source": [
    "#The previous function \"opt_param\" is the replication of the original code but in a more efficient way. \n",
    "#However, the result of the code is somehow not very close to the result of the paper. \n",
    "#So change part of the assumption of the code.I rename the func as my_ver_opt and try to get closer to the result of the paper and also makes the code simpler! "
   ]
  },
  {
   "cell_type": "code",
   "execution_count": 17,
   "metadata": {},
   "outputs": [],
   "source": [
    "def my_ver_opt(effort,st_values):\n",
    "    def my_benchmark(pay100, g, k, s):\n",
    "        if k <= 0 or (s+pay100).values.min() <= 0:#making sure that the value in log function would not be negative\n",
    "            return 1e-16\n",
    "        f_x = (-1/g * np.log(k) +1/g * np.log(s+pay100))   # f(x,θ) written above\n",
    "    #f_x = np.clip(f_x, a_min=1e-16, a_max=None)\n",
    "        return f_x\n",
    "    sol = opt.curve_fit(my_benchmark,\n",
    "                        df.loc[df['dummy1']==1].payoff_per_100,\n",
    "                        df.loc[df['dummy1']==1,effort],\n",
    "                        p0 = st_values,maxfev = 5000)\n",
    "    return sol[0],np.sqrt(np.diagonal(sol[1]))"
   ]
  },
  {
   "cell_type": "code",
   "execution_count": 18,
   "metadata": {},
   "outputs": [],
   "source": [
    "my_modified = my_ver_opt(\"buttonpresses_nearest_100\",st_values=st_values_exp)# This result is closer to NLS on individual effort on Exponential effort cost."
   ]
  },
  {
   "cell_type": "code",
   "execution_count": 19,
   "metadata": {},
   "outputs": [],
   "source": [
    "my_modified_power = my_ver_opt(\"logbuttonpresses_nearest_100\",st_values=st_values_power)"
   ]
  },
  {
   "cell_type": "code",
   "execution_count": 610,
   "metadata": {},
   "outputs": [],
   "source": [
    "#The original python code only replicate the power cost of effort, but here I also calculate the estimation of Exponential cost of effort.\n",
    "def other_opi(effort, k_scaler,s_scaler,type,opt_type,st_values):\n",
    "    def benchmark_other(params):\n",
    "        pay100 = np.array(df.loc[df['dummy1']==1].payoff_per_100)\n",
    "        buttonpresses = np.array(df.loc[df['dummy1']==1,effort])\n",
    "        g, k, s = params\n",
    "        if type == \"exp\":\n",
    "            check1 = k/k_scaler            # 'first'  component to compute f(x,θ). We call it check1 since it will enter a log, so we need to be careful with its value being > 0\n",
    "            check2 = s/s_scaler + pay100\n",
    "        elif type == \"power\":   \n",
    "            check1= max(k/k_scaler, 1e-100)\n",
    "            check2= np.maximum(s/s_scaler + pay100, 1e-10)   \n",
    "        if opt_type == \"ls\":    \n",
    "            f_x = (0.5*((-1/g * np.log(check1) +1/g * np.log(check2))-buttonpresses)**2)\n",
    "        else:\n",
    "            f_x = np.sum(0.5*((-1/g * np.log(check1) +1/g * np.log(check2))-buttonpresses)**2) \n",
    "        return f_x\n",
    "    sol_result = [0]*3\n",
    "    if opt_type == \"ls\":#least squared\n",
    "        sol = opt.least_squares(benchmark_other,\n",
    "                        x0 = st_values,\n",
    "                        xtol=1e-15,\n",
    "                        ftol=1e-15,\n",
    "                        gtol=1e-15,\n",
    "                        method='lm')\n",
    "        sse = np.round((2*benchmark_other(sol.x)).sum(),3)\n",
    "        solo = [i/j for i,j in zip(sol.x,[1,k_scaler,s_scaler])]\n",
    "        for i in range(0,3):\n",
    "            if i==0:\n",
    "                sol_result[i] = round(solo[i],3)   \n",
    "            else:\n",
    "                sol_result[i] = '{0:.2e}'.format(Decimal(solo[i]))\n",
    "        #soloo = np.round([*solo],4)\n",
    "        #se = [i/j for i,j in zip(se,[1,k_scaler,s_scaler])]\n",
    "        #return sol.x,sse\n",
    "        return sol_result,sse\n",
    "    \n",
    "    elif opt_type == \"mini\":\n",
    "        sol = opt.minimize(benchmark_other,\n",
    "                       x0 = st_values,\n",
    "                       method='Nelder-Mead',\n",
    "                       options={'maxiter': 2500})\n",
    "        solo = [i/j for i,j in zip(sol.x,[1,k_scaler,s_scaler])]\n",
    "        #se = [i/j for i,j in zip(se,[1,k_scaler,s_scaler])]\n",
    "        #sse = 2*benchmark_other(sol.x)\n",
    "        sse = np.round((2*benchmark_other(sol.x)),3)\n",
    "        for i in range(0,3):\n",
    "            if i==0:\n",
    "                sol_result[i] = round(solo[i],3)   \n",
    "            else:\n",
    "                sol_result[i] = '{0:.2e}'.format(Decimal(solo[i]))\n",
    "        #return sol.x ,sse  \n",
    "        return sol_result,sse "
   ]
  },
  {
   "cell_type": "code",
   "execution_count": 631,
   "metadata": {},
   "outputs": [
    {
     "data": {
      "text/plain": [
       "([21.787, '2.17e-69', '9.56e-8'], 1112.339)"
      ]
     },
     "execution_count": 631,
     "metadata": {},
     "output_type": "execute_result"
    }
   ],
   "source": [
    "bp52_least_squaree = other_opi(\"logbuttonpresses_nearest_100\",k_scaler = 1e+57, s_scaler= 1e+6,type=\"power\",opt_type=\"ls\",st_values = st_values_power)\n",
    "#bp52_least_square = [i/j for i,j in zip(bp52_least_squaree[0],p_scal)]\n",
    "bp52_least_squaree"
   ]
  },
  {
   "cell_type": "code",
   "execution_count": 611,
   "metadata": {},
   "outputs": [
    {
     "data": {
      "text/plain": [
       "([21.266, '3.45e-72', '1.33e-6'], 670.61)"
      ]
     },
     "execution_count": 611,
     "metadata": {},
     "output_type": "execute_result"
    }
   ],
   "source": [
    "bp52_optt = other_opi(\"logbuttonpresses_nearest_100\",k_scaler = 1e+57, s_scaler= 1e+6,type = \"power\",opt_type=\"mini\",st_values = st_values_power)\n",
    "#bp52_opt = [i/j for i,j in zip(bp52_optt[0],p_scal)]\n",
    "bp52_optt"
   ]
  },
  {
   "cell_type": "code",
   "execution_count": 233,
   "metadata": {},
   "outputs": [
    {
     "data": {
      "text/plain": [
       "[0.011208005206028106, 8.218133126797552e-12, 0.00011621467469798861]"
      ]
     },
     "execution_count": 233,
     "metadata": {},
     "output_type": "execute_result"
    }
   ],
   "source": [
    "scal = [1,1e+16,1e+6]\n",
    "scal_power = [1,1e+57,1e+6]\n",
    "be52_ls = other_opi(\"buttonpresses_nearest_100\",k_scaler = 1e+16, s_scaler= 1e+6,type = \"exp\",opt_type=\"ls\",st_values=st_values_exp)\n",
    "be52_least_square = [i/j for i,j in zip(be52_ls[0],scal)]\n",
    "be52_least_square\n"
   ]
  },
  {
   "cell_type": "code",
   "execution_count": 242,
   "metadata": {},
   "outputs": [
    {
     "data": {
      "text/plain": [
       "[0.015641086579831008, 1.7092148653273357e-16, 3.7222415758983223e-06]"
      ]
     },
     "execution_count": 242,
     "metadata": {},
     "output_type": "execute_result"
    }
   ],
   "source": [
    "be52_optt = other_opi(\"buttonpresses_nearest_100\",k_scaler = 1e+16, s_scaler= 1e+6,type = \"exp\",opt_type=\"mini\",st_values=st_values_exp)\n",
    "be52_opt = [i/j for i,j in zip(be52_optt[0],scal)]\n",
    "be52_opt"
   ]
  },
  {
   "cell_type": "code",
   "execution_count": 621,
   "metadata": {},
   "outputs": [
    {
     "data": {
      "text/plain": [
       "['2.12e+1', '5.95e-72', '1.38e-6']"
      ]
     },
     "execution_count": 621,
     "metadata": {},
     "output_type": "execute_result"
    }
   ],
   "source": [
    "bp52"
   ]
  },
  {
   "cell_type": "code",
   "execution_count": 703,
   "metadata": {},
   "outputs": [],
   "source": [
    "from IPython.display import display\n",
    "pn = [\"Curvature γ of cost function\",\"Level k of cost of effort\", \"Intrinsic motivation s\",\"Min obj. function\"]\n",
    "bp52_aut = [20.546,5.12e-70,3.17e-06]\n",
    "r1 = pd.DataFrame({'parameters':pn,'curve_fit':[*bp52,sse],\n",
    "                   'least_square':[*bp52_least_squaree[0],bp52_least_squaree[1]],\n",
    "                   'minimize_nd':[*bp52_optt[0],bp52_optt[1]],\n",
    "                   'authors':[*aut,sse_aut]})"
   ]
  },
  {
   "cell_type": "code",
   "execution_count": 704,
   "metadata": {},
   "outputs": [
    {
     "data": {
      "text/html": [
       "<div>\n",
       "<style scoped>\n",
       "    .dataframe tbody tr th:only-of-type {\n",
       "        vertical-align: middle;\n",
       "    }\n",
       "\n",
       "    .dataframe tbody tr th {\n",
       "        vertical-align: top;\n",
       "    }\n",
       "\n",
       "    .dataframe thead th {\n",
       "        text-align: right;\n",
       "    }\n",
       "</style>\n",
       "<table border=\"1\" class=\"dataframe\">\n",
       "  <thead>\n",
       "    <tr style=\"text-align: right;\">\n",
       "      <th></th>\n",
       "      <th>parameters</th>\n",
       "      <th>curve_fit</th>\n",
       "      <th>least_square</th>\n",
       "      <th>minimize_nd</th>\n",
       "      <th>authors</th>\n",
       "    </tr>\n",
       "  </thead>\n",
       "  <tbody>\n",
       "    <tr>\n",
       "      <th>0</th>\n",
       "      <td>Curvature γ of cost function</td>\n",
       "      <td>21.194</td>\n",
       "      <td>21.787</td>\n",
       "      <td>21.266</td>\n",
       "      <td>20.546</td>\n",
       "    </tr>\n",
       "    <tr>\n",
       "      <th>1</th>\n",
       "      <td>Level k of cost of effort</td>\n",
       "      <td>5.95e-72</td>\n",
       "      <td>2.17e-69</td>\n",
       "      <td>3.45e-72</td>\n",
       "      <td>5.12e-70</td>\n",
       "    </tr>\n",
       "    <tr>\n",
       "      <th>2</th>\n",
       "      <td>Intrinsic motivation s</td>\n",
       "      <td>1.38e-6</td>\n",
       "      <td>9.56e-8</td>\n",
       "      <td>1.33e-6</td>\n",
       "      <td>3.17e-6</td>\n",
       "    </tr>\n",
       "    <tr>\n",
       "      <th>3</th>\n",
       "      <td>Min obj. function</td>\n",
       "      <td>670.61</td>\n",
       "      <td>1112.339</td>\n",
       "      <td>670.61</td>\n",
       "      <td>42176.046</td>\n",
       "    </tr>\n",
       "  </tbody>\n",
       "</table>\n",
       "</div>"
      ],
      "text/plain": [
       "                     parameters curve_fit least_square minimize_nd    authors\n",
       "0  Curvature γ of cost function    21.194       21.787      21.266     20.546\n",
       "1     Level k of cost of effort  5.95e-72     2.17e-69    3.45e-72   5.12e-70\n",
       "2        Intrinsic motivation s   1.38e-6      9.56e-8     1.33e-6    3.17e-6\n",
       "3             Min obj. function    670.61     1112.339      670.61  42176.046"
      ]
     },
     "metadata": {},
     "output_type": "display_data"
    }
   ],
   "source": [
    "display(r1)"
   ]
  },
  {
   "cell_type": "code",
   "execution_count": 260,
   "metadata": {},
   "outputs": [
    {
     "data": {
      "text/html": [
       "<div>\n",
       "<style scoped>\n",
       "    .dataframe tbody tr th:only-of-type {\n",
       "        vertical-align: middle;\n",
       "    }\n",
       "\n",
       "    .dataframe tbody tr th {\n",
       "        vertical-align: top;\n",
       "    }\n",
       "\n",
       "    .dataframe thead th {\n",
       "        text-align: right;\n",
       "    }\n",
       "</style>\n",
       "<table border=\"1\" class=\"dataframe\">\n",
       "  <thead>\n",
       "    <tr style=\"text-align: right;\">\n",
       "      <th></th>\n",
       "      <th>parameters</th>\n",
       "      <th>curve_fit</th>\n",
       "      <th>least_square</th>\n",
       "      <th>minimize_nd</th>\n",
       "      <th>authors</th>\n",
       "    </tr>\n",
       "  </thead>\n",
       "  <tbody>\n",
       "    <tr>\n",
       "      <th>0</th>\n",
       "      <td>Curvature γ of cost function</td>\n",
       "      <td>2.119386e+01</td>\n",
       "      <td>2.178728e+01</td>\n",
       "      <td>2.126564e+01</td>\n",
       "      <td>2.054600e+01</td>\n",
       "    </tr>\n",
       "    <tr>\n",
       "      <th>1</th>\n",
       "      <td>Level k of cost of effort</td>\n",
       "      <td>5.946298e-72</td>\n",
       "      <td>2.170430e-69</td>\n",
       "      <td>3.453580e-72</td>\n",
       "      <td>5.120000e-70</td>\n",
       "    </tr>\n",
       "    <tr>\n",
       "      <th>2</th>\n",
       "      <td>Intrinsic motivation s</td>\n",
       "      <td>1.377482e-06</td>\n",
       "      <td>9.555272e-08</td>\n",
       "      <td>1.331358e-06</td>\n",
       "      <td>3.170000e-06</td>\n",
       "    </tr>\n",
       "    <tr>\n",
       "      <th>3</th>\n",
       "      <td>Min obj. function</td>\n",
       "      <td>6.706101e+02</td>\n",
       "      <td>1.112339e+03</td>\n",
       "      <td>6.706100e+02</td>\n",
       "      <td>6.723867e+02</td>\n",
       "    </tr>\n",
       "  </tbody>\n",
       "</table>\n",
       "</div>"
      ],
      "text/plain": [
       "                     parameters     curve_fit  least_square   minimize_nd  \\\n",
       "0  Curvature γ of cost function  2.119386e+01  2.178728e+01  2.126564e+01   \n",
       "1     Level k of cost of effort  5.946298e-72  2.170430e-69  3.453580e-72   \n",
       "2        Intrinsic motivation s  1.377482e-06  9.555272e-08  1.331358e-06   \n",
       "3             Min obj. function  6.706101e+02  1.112339e+03  6.706100e+02   \n",
       "\n",
       "        authors  \n",
       "0  2.054600e+01  \n",
       "1  5.120000e-70  \n",
       "2  3.170000e-06  \n",
       "3  6.723867e+02  "
      ]
     },
     "metadata": {},
     "output_type": "display_data"
    }
   ],
   "source": [
    "display(r1)# This is the outcome of power cost of effort from original code"
   ]
  },
  {
   "cell_type": "code",
   "execution_count": 90,
   "metadata": {},
   "outputs": [],
   "source": [
    "#Here I also adding the outcome of exponential cost of effort\n",
    "pn = [\"Curvature γ of cost function\",\"Level k of cost of effort\", \"Intrinsic motivation s\"]\n",
    "be52_aut = [0.0156,1.71E-16,3.72E-06]\n",
    "r2 = pd.DataFrame({'parameters':pn,'curve_fit':[*para],\n",
    "                   'least_square':[*be52_least_square],\n",
    "                   'minimize_nd':[*be52_optt[0]],\"my_modified_curve_fit\":[*my_modified],\n",
    "                   'authors':[*be52_aut]})"
   ]
  },
  {
   "cell_type": "code",
   "execution_count": 91,
   "metadata": {},
   "outputs": [
    {
     "data": {
      "text/html": [
       "<div>\n",
       "<style scoped>\n",
       "    .dataframe tbody tr th:only-of-type {\n",
       "        vertical-align: middle;\n",
       "    }\n",
       "\n",
       "    .dataframe tbody tr th {\n",
       "        vertical-align: top;\n",
       "    }\n",
       "\n",
       "    .dataframe thead th {\n",
       "        text-align: right;\n",
       "    }\n",
       "</style>\n",
       "<table border=\"1\" class=\"dataframe\">\n",
       "  <thead>\n",
       "    <tr style=\"text-align: right;\">\n",
       "      <th></th>\n",
       "      <th>parameters</th>\n",
       "      <th>curve_fit</th>\n",
       "      <th>least_square</th>\n",
       "      <th>minimize_nd</th>\n",
       "      <th>my_modified_curve_fit</th>\n",
       "      <th>authors</th>\n",
       "    </tr>\n",
       "  </thead>\n",
       "  <tbody>\n",
       "    <tr>\n",
       "      <th>0</th>\n",
       "      <td>Curvature γ of cost function</td>\n",
       "      <td>1.564107e-02</td>\n",
       "      <td>1.120801e-02</td>\n",
       "      <td>1.564109e-02</td>\n",
       "      <td>1.564107e-02</td>\n",
       "      <td>1.560000e-02</td>\n",
       "    </tr>\n",
       "    <tr>\n",
       "      <th>1</th>\n",
       "      <td>Level k of cost of effort</td>\n",
       "      <td>1.709268e-16</td>\n",
       "      <td>8.218133e-12</td>\n",
       "      <td>1.709215e-16</td>\n",
       "      <td>1.709268e-16</td>\n",
       "      <td>1.710000e-16</td>\n",
       "    </tr>\n",
       "    <tr>\n",
       "      <th>2</th>\n",
       "      <td>Intrinsic motivation s</td>\n",
       "      <td>3.722260e-06</td>\n",
       "      <td>1.162147e-04</td>\n",
       "      <td>3.722242e-06</td>\n",
       "      <td>3.722260e-06</td>\n",
       "      <td>3.720000e-06</td>\n",
       "    </tr>\n",
       "  </tbody>\n",
       "</table>\n",
       "</div>"
      ],
      "text/plain": [
       "                     parameters     curve_fit  least_square   minimize_nd  \\\n",
       "0  Curvature γ of cost function  1.564107e-02  1.120801e-02  1.564109e-02   \n",
       "1     Level k of cost of effort  1.709268e-16  8.218133e-12  1.709215e-16   \n",
       "2        Intrinsic motivation s  3.722260e-06  1.162147e-04  3.722242e-06   \n",
       "\n",
       "   my_modified_curve_fit       authors  \n",
       "0           1.564107e-02  1.560000e-02  \n",
       "1           1.709268e-16  1.710000e-16  \n",
       "2           3.722260e-06  3.720000e-06  "
      ]
     },
     "metadata": {},
     "output_type": "display_data"
    }
   ],
   "source": [
    "display(r2) \n",
    "#The estimation from the original code of parameter \"k\" and \"s\" seems a bit different from the authors. \n",
    "#I think it is result from the basic assumption of the model.\n",
    "#I tried to modified it from curve fit. "
   ]
  },
  {
   "cell_type": "code",
   "execution_count": 95,
   "metadata": {},
   "outputs": [],
   "source": [
    "df['samplenw'] = (df['treatment'].isin(['1.1','1.2','1.3','3.1','3.2','4.1','4.2','10'])).astype(int)\n",
    "stvale_spec = [0.003, 0.13, 1.16, 0.75, 5e-6]#alpha_init, a_init, beta_init, delta_init, gift_init"
   ]
  },
  {
   "cell_type": "code",
   "execution_count": 565,
   "metadata": {},
   "outputs": [],
   "source": [
    "# Define the f(x,θ) to estimate all parameters but the probability weight in the exp case\n",
    "\n",
    "# xdata is the vector containing the explanatory variables:\n",
    "\n",
    "# gd is gift dummy\n",
    "# dd is delay dummy\n",
    "# dw is delay weeks\n",
    "# paychar is pay in charity treatment\n",
    "# dc is dummy charity\n",
    "\n",
    "# parameters:\n",
    "\n",
    "# g, k, s are the same parameters from before\n",
    "# alpha is the pure altruism coefficient\n",
    "# a is the warm glow coefficient\n",
    "# gift is the gift exchange coefficient Δs\n",
    "# beta is the present bias paramater\n",
    "# delta is the (weekly) discount factor\n",
    "def treatment_a(effort,k_scaler,s_scaler,type,st_values):\n",
    "    def noweight(xdata, g, k, s, alpha, a, gift, beta, delta):\n",
    "        pay100 = xdata[0]\n",
    "        gd = xdata[1]\n",
    "        dd = xdata[2]\n",
    "        dw = xdata[3]\n",
    "        paychar = xdata[4]\n",
    "        dc = xdata[5]\n",
    "        if type == \"exp\":\n",
    "            check1 = k/k_scaler\n",
    "            check2 = s/s_scaler + gift*0.4*gd + (beta**dd)*(delta**dw)*pay100 + alpha*paychar +a*0.01*dc\n",
    "        elif type == \"power\":\n",
    "            check1= max(k/k_scaler, 1e-115)\n",
    "            check2= np.maximum(s/s_scaler + gift*0.4*gd + (beta**dd)*(delta**dw)*pay100 + alpha*paychar + a*0.01*dc, 1e-10)  \n",
    "        f_x = (-1/g * np.log(check1) + 1/g*np.log(check2))\n",
    "        return f_x\n",
    "\n",
    "# Find the solution to the problem by non-linear least squares \n",
    "    \n",
    "    st_valuesnoweight = np.concatenate((st_values,stvale_spec)) # starting values\n",
    "\n",
    "    args = [df.loc[df['samplenw']==1].payoff_per_100, df.loc[df['samplenw']==1].gift_dummy, df.loc[df['samplenw']==1].delay_dummy,\n",
    "            df.loc[df['samplenw']==1].delay_wks, df.loc[df['samplenw']==1].payoff_charity_per_100, df.loc[df['samplenw']==1].dummy_charity]\n",
    "\n",
    "    sol = opt.curve_fit(noweight, \n",
    "                    args,\n",
    "                    df.loc[df['samplenw']==1,effort],\n",
    "                    st_valuesnoweight)\n",
    "    \n",
    "    sol_result = [0]*8\n",
    "    se_result = [0]*8\n",
    "    se = np.sqrt(np.diagonal(sol[1]))\n",
    "    for i in range(3,len(sol[0])):\n",
    "        if i==5:\n",
    "            sol_result[i] = '{0:.2e}'.format(Decimal(sol[0][i]))\n",
    "            se_result[i] = '{0:.2e}'.format(Decimal(se[i]))   \n",
    "        else:\n",
    "            sol_result[i] = round(sol[0][i],3)\n",
    "            se_result[i] = round(se[i],3)\n",
    "    if type == \"power\":\n",
    "        nwest_aut = [20.51815, 5.17e-13, 3.26977, 0.0064462, 0.1818249, 0.0000204, 1.357934, 0.7494928]\n",
    "        sse_our = np.sum((noweight(args,*sol[0])-df.loc[df['samplenw']==1,effort])**2)\n",
    "        sse_aut = np.sum((noweight(args,*nwest_aut)-df.loc[df['samplenw']==1,effort])**2)\n",
    "        #return sol[0],np.sqrt(np.diagonal(sol[1])),sse_our,sse_aut\n",
    "        return sol_result,se_result,sse_our,sse_aut\n",
    "    elif type == \"exp\":\n",
    "        #return sol[0],np.sqrt(np.diagonal(sol[1]))\n",
    "        return sol_result,se_result\n"
   ]
  },
  {
   "cell_type": "code",
   "execution_count": 527,
   "metadata": {},
   "outputs": [
    {
     "name": "stdout",
     "output_type": "stream",
     "text": [
      "1\n",
      "2\n"
     ]
    }
   ],
   "source": [
    "for i in range(1,3):\n",
    "    print(i)"
   ]
  },
  {
   "cell_type": "code",
   "execution_count": 566,
   "metadata": {},
   "outputs": [
    {
     "name": "stderr",
     "output_type": "stream",
     "text": [
      "C:\\Users\\ua896\\AppData\\Local\\Temp\\ipykernel_44588\\551879273.py:33: RuntimeWarning: invalid value encountered in log\n",
      "  f_x = (-1/g * np.log(check1) + 1/g*np.log(check2))\n"
     ]
    },
    {
     "data": {
      "text/plain": [
       "[0, 0, 0, 0.004, 0.143, '2.35e-5', 1.237, 0.754]"
      ]
     },
     "execution_count": 566,
     "metadata": {},
     "output_type": "execute_result"
    }
   ],
   "source": [
    "be56,se56 = treatment_a(\"buttonpresses_nearest_100\",k_scaler = 1e+16, s_scaler= 1e+6,type = \"exp\",st_values = st_values_exp)\n",
    "be56"
   ]
  },
  {
   "cell_type": "code",
   "execution_count": 563,
   "metadata": {},
   "outputs": [],
   "source": [
    "bp53,se53,sse_our,sse_aut  = treatment_a(\"logbuttonpresses_nearest_100\",k_scaler = 1e+57, s_scaler= 1e+6,type = \"power\",st_values = st_values_power)"
   ]
  },
  {
   "cell_type": "code",
   "execution_count": 537,
   "metadata": {},
   "outputs": [
    {
     "name": "stdout",
     "output_type": "stream",
     "text": [
      "Table 5: non-linear-least-squares estimates of behavioural parameters\n"
     ]
    },
    {
     "data": {
      "text/html": [
       "<div>\n",
       "<style scoped>\n",
       "    .dataframe tbody tr th:only-of-type {\n",
       "        vertical-align: middle;\n",
       "    }\n",
       "\n",
       "    .dataframe tbody tr th {\n",
       "        vertical-align: top;\n",
       "    }\n",
       "\n",
       "    .dataframe thead th {\n",
       "        text-align: right;\n",
       "    }\n",
       "</style>\n",
       "<table border=\"1\" class=\"dataframe\">\n",
       "  <thead>\n",
       "    <tr style=\"text-align: right;\">\n",
       "      <th></th>\n",
       "      <th>parameters</th>\n",
       "      <th>power_est</th>\n",
       "      <th>power_se</th>\n",
       "      <th>exp_est</th>\n",
       "      <th>exp_se</th>\n",
       "    </tr>\n",
       "  </thead>\n",
       "  <tbody>\n",
       "    <tr>\n",
       "      <th>0</th>\n",
       "      <td>Curvature γ of cost function</td>\n",
       "      <td>21.194</td>\n",
       "      <td>7.3990</td>\n",
       "      <td>0.0156</td>\n",
       "      <td>0.00415</td>\n",
       "    </tr>\n",
       "    <tr>\n",
       "      <th>1</th>\n",
       "      <td>Level k of cost of effort</td>\n",
       "      <td>5.95e-72</td>\n",
       "      <td>3.33e-70</td>\n",
       "      <td>1.71e-16</td>\n",
       "      <td>1.49e-15</td>\n",
       "    </tr>\n",
       "    <tr>\n",
       "      <th>2</th>\n",
       "      <td>Intrinsic motivation s</td>\n",
       "      <td>1.38e-6</td>\n",
       "      <td>4.93e-6</td>\n",
       "      <td>3.72e-6</td>\n",
       "      <td>9.16e-6</td>\n",
       "    </tr>\n",
       "    <tr>\n",
       "      <th>3</th>\n",
       "      <td>Social preferences α</td>\n",
       "      <td>0.0132</td>\n",
       "      <td>0.0296</td>\n",
       "      <td>0.004</td>\n",
       "      <td>0.011</td>\n",
       "    </tr>\n",
       "    <tr>\n",
       "      <th>4</th>\n",
       "      <td>Warm glow coefficient a</td>\n",
       "      <td>0.2649</td>\n",
       "      <td>0.2877</td>\n",
       "      <td>0.143</td>\n",
       "      <td>0.143</td>\n",
       "    </tr>\n",
       "    <tr>\n",
       "      <th>5</th>\n",
       "      <td>Gift exchange Δs</td>\n",
       "      <td>3.25e-5</td>\n",
       "      <td>8.14e-5</td>\n",
       "      <td>2.35e-5</td>\n",
       "      <td>4.82e-5</td>\n",
       "    </tr>\n",
       "    <tr>\n",
       "      <th>6</th>\n",
       "      <td>Present bias β</td>\n",
       "      <td>1.6158</td>\n",
       "      <td>2.0528</td>\n",
       "      <td>1.24</td>\n",
       "      <td>1.3</td>\n",
       "    </tr>\n",
       "    <tr>\n",
       "      <th>7</th>\n",
       "      <td>(Weekly) discount factor δ</td>\n",
       "      <td>0.7507</td>\n",
       "      <td>0.2916</td>\n",
       "      <td>0.75</td>\n",
       "      <td>0.24</td>\n",
       "    </tr>\n",
       "  </tbody>\n",
       "</table>\n",
       "</div>"
      ],
      "text/plain": [
       "                     parameters power_est  power_se   exp_est    exp_se\n",
       "0  Curvature γ of cost function    21.194    7.3990    0.0156   0.00415\n",
       "1     Level k of cost of effort  5.95e-72  3.33e-70  1.71e-16  1.49e-15\n",
       "2        Intrinsic motivation s   1.38e-6   4.93e-6   3.72e-6   9.16e-6\n",
       "3          Social preferences α    0.0132    0.0296     0.004     0.011\n",
       "4       Warm glow coefficient a    0.2649    0.2877     0.143     0.143\n",
       "5              Gift exchange Δs   3.25e-5   8.14e-5   2.35e-5   4.82e-5\n",
       "6                Present bias β    1.6158    2.0528      1.24       1.3\n",
       "7    (Weekly) discount factor δ    0.7507    0.2916      0.75      0.24"
      ]
     },
     "metadata": {},
     "output_type": "display_data"
    }
   ],
   "source": [
    "# Create and save the dataframe for table 5 NLS estimates. We leave standard errors for all parameters instead of confidence intervals for some.\n",
    "# Point estimates for power case do not coincide precisely as explained above. Standard errors do not coincide precisely because of \n",
    "# the differences in the point estimates and because we leave here non-robust standard errors provided by curve_fit. To see an implementation of \n",
    "# the formula for robust standard errors please refer to the python or julia notebooks for table_1 of augenblick-rabin or table_1 of bruhin-fehr-schunk.\n",
    "# The formula is the same as in the cited notebooks without considering the clustering at the individual level.\n",
    "\n",
    "from decimal import Decimal\n",
    "\n",
    "params_name = [\"Curvature γ of cost function\", \"Level k of cost of effort\", \"Intrinsic motivation s\",\"Social preferences α\",\n",
    "                \"Warm glow coefficient a\",\"Gift exchange Δs\", \"Present bias β\",\"(Weekly) discount factor δ\"]\n",
    "\n",
    "#be5 = ['{0:.3}'.format(Decimal(para[0])), '{0:.2e}'.format(Decimal(para[1])), '{0:.2e}'.format(Decimal(para[2])),\n",
    "       #round(be56[0][3],3), round(be56[0][4],3), '{0:.2e}'.format(Decimal(be56[0][5])), round(be56[0][6],2), round(be56[0][7],2)]\n",
    "#se5 = ['{0:.3}'.format(Decimal(se_para[0])), '{0:.2e}'.format(Decimal(se_para[1])), '{0:.2e}'.format(Decimal(se_para[2])),\n",
    "       #round(be56[1][3],3), round(be56[1][4],3), '{0:.2e}'.format(Decimal(be56[1][5])), round(be56[1][6],2), round(be56[1][7],2)]\n",
    "\n",
    "#bp5 = ['{0:.5}'.format(Decimal(p_para[0])), '{0:.2e}'.format(Decimal(p_para[1])), '{0:.2e}'.format(Decimal(p_para[2])),#\n",
    "       #round(bp53[0][3],4), round(bp53[0][4],4), '{0:.2e}'.format(Decimal(bp53[0][5])), round(bp53[0][6],4), round(bp53[0][7],4)]\n",
    "#sp5 = ['{0:.5}'.format(Decimal(se_p_para[0])), '{0:.2e}'.format(Decimal(se_p_para[1])), '{0:.2e}'.format(Decimal(se_p_para[2])),\n",
    "       #round(bp53[1][3],4), round(bp53[1][4],4), '{0:.2e}'.format(Decimal(bp53[1][5])), round(bp53[1][6],4), round(bp53[1][7],4)]\n",
    "\n",
    "t5 = pd.DataFrame({'parameters':params_name,'power_est':bp5,'power_se':sp5,'exp_est':be5,'exp_se':se5})\n",
    "print('Table 5: non-linear-least-squares estimates of behavioural parameters')\n",
    "display(t5)"
   ]
  },
  {
   "cell_type": "code",
   "execution_count": 564,
   "metadata": {},
   "outputs": [
    {
     "name": "stdout",
     "output_type": "stream",
     "text": [
      "The sum of squared errors using our estimates is: 1539.4456623539854\n",
      "The sum of squared errors using the authors'estimates is: 1543.0565792686543\n",
      "The small difference between the Stata sse and the sse computed by us are most likely due to rounding.\n"
     ]
    }
   ],
   "source": [
    "print('The sum of squared errors using our estimates is: ' + str(sse_our))\n",
    "print(\"The sum of squared errors using the authors'estimates is: \" + str(sse_aut))\n",
    "print('The small difference between the Stata sse and the sse computed by us are most likely due to rounding.')"
   ]
  },
  {
   "cell_type": "code",
   "execution_count": 263,
   "metadata": {},
   "outputs": [],
   "source": [
    "df['samplepr'] = (df['treatment'].isin(['1.1','1.2','1.3','6.1','6.2'])).astype(int)"
   ]
  },
  {
   "cell_type": "code",
   "execution_count": 299,
   "metadata": {},
   "outputs": [],
   "source": [
    "prob_weight_init = [0.2]\n",
    "curv_init = [0.5]"
   ]
  },
  {
   "cell_type": "code",
   "execution_count": 514,
   "metadata": {},
   "outputs": [],
   "source": [
    "def treatment_prob(effort,k_scaler,s_scaler,type,st_values,curve):\n",
    "    def probweight(xdata, g, k, s, p_weight):      \n",
    "        pay100 = xdata[0]\n",
    "        wd = xdata[1]\n",
    "        prob = xdata[2]\n",
    "    \n",
    "        if type == \"exp\":\n",
    "            check1 = k/k_scaler\n",
    "            check2 = s/s_scaler+ p_weight**wd*prob*pay100**curve\n",
    "        else :\n",
    "            check1 = max(k/k_scaler, 1e-115)\n",
    "            check2 = np.maximum(s/s_scaler + p_weight**wd*prob*pay100**curve, 1e-10)\n",
    "        \n",
    "        f_x = (-1/g * np.log(check1) + 1/g*np.log(check2))\n",
    "        return f_x\n",
    "    \n",
    "    st_valuesprobweight = np.concatenate((st_values,prob_weight_init))\n",
    "    args = [df.loc[df['samplepr']==1].payoff_per_100, df.loc[df['samplepr']==1].weight_dummy, df.loc[df['samplepr']==1].prob]\n",
    "    sol = opt.curve_fit(probweight,\n",
    "                    args,\n",
    "                    df.loc[df['samplepr']==1,effort],\n",
    "                    st_valuesprobweight)\n",
    "    #Transform to easily understanding and comparable format\n",
    "    solo = [i/j for i,j in zip(sol[0],[1,k_scaler,s_scaler,1,1])]\n",
    "    se = [i/j for i,j in zip(np.sqrt(np.diagonal(sol[1])),[1,k_scaler,s_scaler,1,1])]\n",
    "    sol_result = [0]*4\n",
    "    se_result = [0]*4\n",
    "    for i in range(0,len(solo)):\n",
    "        if i==1 or i==2:\n",
    "            sol_result[i] = '{0:.2e}'.format(Decimal(solo[i]))\n",
    "            se_result[i] = '{0:.2e}'.format(Decimal(se[i]))\n",
    "        else:\n",
    "            sol_result[i] = round(solo[i],4)\n",
    "            se_result[i] = round(se[i],4)        \n",
    "    #solo = '{0:.2e}'.format(Decimal(solo))\n",
    "    return np.append(sol_result,curve),np.append(se_result,0) \n"
   ]
  },
  {
   "cell_type": "code",
   "execution_count": 515,
   "metadata": {},
   "outputs": [
    {
     "data": {
      "text/plain": [
       "array(['0.0134', '2.42e-14', '1.64e-5', '0.239', '1'], dtype='<U32')"
      ]
     },
     "execution_count": 515,
     "metadata": {},
     "output_type": "execute_result"
    }
   ],
   "source": [
    "be64,se64= treatment_prob(\"buttonpresses_nearest_100\",k_scaler = 1e+16, s_scaler= 1e+6,type = \"exp\",st_values = st_values_exp,curve =1)\n",
    "be65,se65 = treatment_prob(\"buttonpresses_nearest_100\",k_scaler = 1e+16, s_scaler= 1e+6,type = \"exp\",st_values = st_values_exp,curve =0.88)\n",
    "bp61,sp61 = treatment_prob(\"logbuttonpresses_nearest_100\",k_scaler = 1e+57, s_scaler= 1e+6,type = \"power\",st_values = st_values_power,curve =1)\n",
    "bp62,sp62 = treatment_prob(\"logbuttonpresses_nearest_100\",k_scaler = 1e+57, s_scaler= 1e+6,type = \"power\",st_values = st_values_power,curve =0.88)\n",
    "be64"
   ]
  },
  {
   "cell_type": "code",
   "execution_count": 492,
   "metadata": {},
   "outputs": [
    {
     "data": {
      "text/plain": [
       "0.239"
      ]
     },
     "execution_count": 492,
     "metadata": {},
     "output_type": "execute_result"
    }
   ],
   "source": [
    "#be64[2] = '{0:.2e}'.format(Decimal(be64[2]))\n",
    "be64[0] = round(be64[0],4)\n",
    "be64[2] = '{0:.2e}'.format(Decimal(be64[2]))\n",
    "be64[3]"
   ]
  },
  {
   "cell_type": "code",
   "execution_count": 504,
   "metadata": {},
   "outputs": [
    {
     "data": {
      "text/plain": [
       "[0.0134, '2.42e-14', '1.64e-5', 0.239, 1.0]"
      ]
     },
     "execution_count": 504,
     "metadata": {},
     "output_type": "execute_result"
    }
   ],
   "source": [
    "cc = [0]*5\n",
    "for i in range (0,(len(be64))):\n",
    "    if i ==1 or i==2:\n",
    "        cc[i] = '{0:.2e}'.format(Decimal(be64[i]))\n",
    "        #print(i)\n",
    "    else:\n",
    "        cc[i] = round(be64[i],4)\n",
    "    #print(be64[i])\n",
    "cc"
   ]
  },
  {
   "cell_type": "code",
   "execution_count": 522,
   "metadata": {},
   "outputs": [],
   "source": [
    "def treatment_prob_curve(effort,k_scaler,s_scaler,type,st_values):\n",
    "    def probweight(xdata, g, k, s, p_weight,curve):      \n",
    "        pay100 = xdata[0]\n",
    "        wd = xdata[1]\n",
    "        prob = xdata[2]\n",
    "    \n",
    "        if type == \"exp\":\n",
    "            check1 = k/k_scaler\n",
    "            check2 = s/s_scaler+ p_weight**wd*prob*pay100**curve\n",
    "        else :\n",
    "            check1 = max(k/k_scaler, 1e-115)\n",
    "            check2 = np.maximum(s/s_scaler + p_weight**wd*prob*pay100**curve, 1e-10)\n",
    "        \n",
    "        f_x = (-1/g * np.log(check1) + 1/g*np.log(check2))\n",
    "        return f_x\n",
    "    \n",
    "    st_valuesprobweight = np.concatenate((st_values,prob_weight_init,curv_init))\n",
    "    #st_valuesprobweight = np.concatenate((st_valuesprobweight,curv_init))\n",
    "    #args = [df.loc[df['samplepr']==1].payoff_per_100, df.loc[df['samplepr']==1].weight_dummy, df.loc[df['samplepr']==1].prob]\n",
    "    sol = opt.curve_fit(probweight,\n",
    "                    args,\n",
    "                    df.loc[df['samplepr']==1,effort],\n",
    "                    st_valuesprobweight)\n",
    "    solo = [i/j for i,j in zip(sol[0],[1,k_scaler,s_scaler,1,1])]\n",
    "    se = [i/j for i,j in zip(np.sqrt(np.diagonal(sol[1])),[1,k_scaler,s_scaler,1,1])]\n",
    "    sol_result = [0]*5\n",
    "    se_result = [0]*5\n",
    "    for i in range(0,len(solo)):\n",
    "        if i==1 or i==2:\n",
    "            sol_result[i] = '{0:.2e}'.format(Decimal(solo[i]))\n",
    "            se_result[i] = '{0:.2e}'.format(Decimal(se[i]))\n",
    "        else:\n",
    "            sol_result[i] = round(solo[i],4)\n",
    "            se_result[i] = round(se[i],4)   \n",
    "    return sol_result,se_result"
   ]
  },
  {
   "cell_type": "code",
   "execution_count": 523,
   "metadata": {},
   "outputs": [],
   "source": [
    "be66, se66 = treatment_prob_curve(\"buttonpresses_nearest_100\",k_scaler = 1e+16, s_scaler= 1e+6,type = \"exp\",st_values = st_values_exp)\n",
    "bp63,sp63 = treatment_prob_curve(\"logbuttonpresses_nearest_100\",k_scaler = 1e+57, s_scaler= 1e+6,type = \"power\",st_values = st_values_power)"
   ]
  },
  {
   "cell_type": "code",
   "execution_count": 525,
   "metadata": {},
   "outputs": [
    {
     "data": {
      "text/html": [
       "<div>\n",
       "<style scoped>\n",
       "    .dataframe tbody tr th:only-of-type {\n",
       "        vertical-align: middle;\n",
       "    }\n",
       "\n",
       "    .dataframe tbody tr th {\n",
       "        vertical-align: top;\n",
       "    }\n",
       "\n",
       "    .dataframe thead th {\n",
       "        text-align: right;\n",
       "    }\n",
       "</style>\n",
       "<table border=\"1\" class=\"dataframe\">\n",
       "  <thead>\n",
       "    <tr style=\"text-align: right;\">\n",
       "      <th></th>\n",
       "      <th>parameters</th>\n",
       "      <th>p_est1</th>\n",
       "      <th>p_se1</th>\n",
       "      <th>p_est2</th>\n",
       "      <th>p_se2</th>\n",
       "      <th>p_est3</th>\n",
       "      <th>p_se3</th>\n",
       "      <th>e_est4</th>\n",
       "      <th>e_se4</th>\n",
       "      <th>e_est5</th>\n",
       "      <th>e_se5</th>\n",
       "      <th>e_est6</th>\n",
       "      <th>e_se6</th>\n",
       "    </tr>\n",
       "  </thead>\n",
       "  <tbody>\n",
       "    <tr>\n",
       "      <th>0</th>\n",
       "      <td>Curvature γ of cost function</td>\n",
       "      <td>20.9475</td>\n",
       "      <td>5.7752</td>\n",
       "      <td>18.9623</td>\n",
       "      <td>5.2711</td>\n",
       "      <td>19.6386</td>\n",
       "      <td>17.3201</td>\n",
       "      <td>0.0134</td>\n",
       "      <td>0.0026</td>\n",
       "      <td>0.0119</td>\n",
       "      <td>0.0023</td>\n",
       "      <td>0.0072</td>\n",
       "      <td>0.0029</td>\n",
       "    </tr>\n",
       "    <tr>\n",
       "      <th>1</th>\n",
       "      <td>Level k of cost of effort</td>\n",
       "      <td>3.89e-71</td>\n",
       "      <td>1.70e-69</td>\n",
       "      <td>1.96e-64</td>\n",
       "      <td>7.68e-63</td>\n",
       "      <td>1.01e-66</td>\n",
       "      <td>1.36e-64</td>\n",
       "      <td>2.42e-14</td>\n",
       "      <td>1.29e-13</td>\n",
       "      <td>7.50e-13</td>\n",
       "      <td>3.56e-12</td>\n",
       "      <td>5.46e-8</td>\n",
       "      <td>3.70e-7</td>\n",
       "    </tr>\n",
       "    <tr>\n",
       "      <th>2</th>\n",
       "      <td>Intrinsic motivation s</td>\n",
       "      <td>1.57e-6</td>\n",
       "      <td>4.23e-6</td>\n",
       "      <td>5.96e-6</td>\n",
       "      <td>1.47e-5</td>\n",
       "      <td>3.75e-6</td>\n",
       "      <td>4.17e-5</td>\n",
       "      <td>1.64e-5</td>\n",
       "      <td>2.40e-5</td>\n",
       "      <td>5.55e-5</td>\n",
       "      <td>7.20e-5</td>\n",
       "      <td>3.14e-3</td>\n",
       "      <td>7.50e-3</td>\n",
       "    </tr>\n",
       "    <tr>\n",
       "      <th>3</th>\n",
       "      <td>Probability weighting π (1%) (in %)</td>\n",
       "      <td>0.1928</td>\n",
       "      <td>0.173</td>\n",
       "      <td>0.3732</td>\n",
       "      <td>0.3042</td>\n",
       "      <td>0.2952</td>\n",
       "      <td>1.5657</td>\n",
       "      <td>0.239</td>\n",
       "      <td>0.1427</td>\n",
       "      <td>0.466</td>\n",
       "      <td>0.2472</td>\n",
       "      <td>4.2961</td>\n",
       "      <td>5.4624</td>\n",
       "    </tr>\n",
       "    <tr>\n",
       "      <th>4</th>\n",
       "      <td>Curvature of utility over piece rate</td>\n",
       "      <td>1</td>\n",
       "      <td>0</td>\n",
       "      <td>0.88</td>\n",
       "      <td>0</td>\n",
       "      <td>0.9235</td>\n",
       "      <td>0.9289</td>\n",
       "      <td>1</td>\n",
       "      <td>0</td>\n",
       "      <td>0.88</td>\n",
       "      <td>0</td>\n",
       "      <td>0.4679</td>\n",
       "      <td>0.2368</td>\n",
       "    </tr>\n",
       "  </tbody>\n",
       "</table>\n",
       "</div>"
      ],
      "text/plain": [
       "                             parameters    p_est1     p_se1    p_est2  \\\n",
       "0          Curvature γ of cost function   20.9475    5.7752   18.9623   \n",
       "1             Level k of cost of effort  3.89e-71  1.70e-69  1.96e-64   \n",
       "2                Intrinsic motivation s   1.57e-6   4.23e-6   5.96e-6   \n",
       "3   Probability weighting π (1%) (in %)    0.1928     0.173    0.3732   \n",
       "4  Curvature of utility over piece rate         1         0      0.88   \n",
       "\n",
       "      p_se2    p_est3     p_se3    e_est4     e_se4    e_est5     e_se5  \\\n",
       "0    5.2711   19.6386   17.3201    0.0134    0.0026    0.0119    0.0023   \n",
       "1  7.68e-63  1.01e-66  1.36e-64  2.42e-14  1.29e-13  7.50e-13  3.56e-12   \n",
       "2   1.47e-5   3.75e-6   4.17e-5   1.64e-5   2.40e-5   5.55e-5   7.20e-5   \n",
       "3    0.3042    0.2952    1.5657     0.239    0.1427     0.466    0.2472   \n",
       "4         0    0.9235    0.9289         1         0      0.88         0   \n",
       "\n",
       "    e_est6    e_se6  \n",
       "0   0.0072   0.0029  \n",
       "1  5.46e-8  3.70e-7  \n",
       "2  3.14e-3  7.50e-3  \n",
       "3   4.2961   5.4624  \n",
       "4   0.4679   0.2368  "
      ]
     },
     "metadata": {},
     "output_type": "display_data"
    }
   ],
   "source": [
    "pnames = [\"Curvature γ of cost function\", \"Level k of cost of effort\", \"Intrinsic motivation s\", \"Probability weighting π (1%) (in %)\",\n",
    "          \"Curvature of utility over piece rate\"]\n",
    "\n",
    "t6 = pd.DataFrame({'parameters':pnames,'p_est1':bp61,'p_se1':sp61,'p_est2':bp62,'p_se2':sp62,\n",
    "                   'p_est3':bp63,'p_se3':sp63,\n",
    "                   'e_est4':be64,'e_se4':se64,'e_est5':be65,'e_se5':se65,'e_est6':be66,\n",
    "                   'e_se6':se66})\n",
    "display(t6)"
   ]
  },
  {
   "cell_type": "code",
   "execution_count": 32,
   "metadata": {},
   "outputs": [],
   "source": [
    "TT = list(range(-5,5,1))\n",
    "df_try = pd.DataFrame(TT,columns=[\"seq\"])\n",
    "df_try['seq'].values.min()\n",
    "from itertools import repeat\n",
    "def ttt(p):\n",
    "    if df_try.seq.values.min() <= p:\n",
    "        return np.zeros(len(df_try.seq))\n",
    "    f_x = df_try.seq*2\n",
    "    return f_x\n",
    "       \n",
    "#if k <= 0 or (s+pay100).values.min() <= 0:\n",
    "        #return 1e-15"
   ]
  }
 ],
 "metadata": {
  "kernelspec": {
   "display_name": "epp_final_project",
   "language": "python",
   "name": "python3"
  },
  "language_info": {
   "codemirror_mode": {
    "name": "ipython",
    "version": 3
   },
   "file_extension": ".py",
   "mimetype": "text/x-python",
   "name": "python",
   "nbconvert_exporter": "python",
   "pygments_lexer": "ipython3",
   "version": "3.11.0"
  },
  "orig_nbformat": 4
 },
 "nbformat": 4,
 "nbformat_minor": 2
}
