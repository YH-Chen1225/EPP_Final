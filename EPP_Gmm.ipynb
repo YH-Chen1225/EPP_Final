{
 "cells": [
  {
   "cell_type": "code",
   "execution_count": 15,
   "metadata": {},
   "outputs": [],
   "source": [
    "import numpy as np\n",
    "import pandas as pd\n",
    "from sklearn.utils import resample\n",
    "import random"
   ]
  },
  {
   "cell_type": "code",
   "execution_count": 155,
   "metadata": {},
   "outputs": [],
   "source": [
    "random.seed(666)\n",
    "df = pd.read_stata('D:\\\\Temp\\\\mturk_clean_data_short.dta')\n",
    "emp_moments = np.array(np.round(df.groupby(\"treatment\").mean(\"buttonpresses\")))\n",
    "#emp_sd = np.array(np.round(df.groupby(\"treatment\").std(\"buttonpresses\")))"
   ]
  },
  {
   "cell_type": "code",
   "execution_count": 36,
   "metadata": {},
   "outputs": [],
   "source": [
    "# Treatments are as follows:\n",
    "# 1.1: benchmark specification with piece rate of 0.01 \n",
    "# 1.2: benchmark specification with piece rate of 0.10 \n",
    "# 1.3: benchmark specification with piece rate of 0.00 \n",
    "# 3.1: social preferences (charity) with piece rate of 0.01 \n",
    "# 3.2: social preferences (charity) with piece rate of 0.10 \n",
    "# 10 : social preferences (gift exchange) bonus of 40 cents (independently of nr buttonpresses)\n",
    "# 4.1: time discounting with extra 0.01 paid two weeks later\n",
    "# 4.2: time discounting with extra 0.01 paid four weeks later\n",
    "\n",
    "# resample is a useful command from the sklearn library that samples with replacement our data.\n",
    "# We first get a smaller dataframe containing only observations for a specific treatment, we then resample the observations and\n",
    "# compute the rounded mean of buttonpresses, save the result and then pass onto the next treatment. we do this for 'number' times.\n",
    "def mybootstrap(dataset, number):\n",
    "    \n",
    "    E11, E12, E13, E31, E32, E10, E41, E42 = [], [], [], [], [], [], [], []\n",
    "    box={'1.1':E11,'1.2':E12,'1.3':E13,'3.1':E31,'3.2':E32,'10':E10,'4.1':E41,'4.2':E42}\n",
    "    \n",
    "    for i in range(1,number+1):\n",
    "        for a,b in box.items():\n",
    "            db = dataset[dataset.treatment==a]\n",
    "            bootsample = resample(db['buttonpresses'],replace=True,)\n",
    "            b.append(np.round(np.mean(bootsample)))\n",
    "    return E11, E12, E13, E31, E32, E10, E41, E42\n",
    "\n",
    "E11, E12, E13, E31, E32, E10, E41, E42 = mybootstrap(df,2000)\n",
    "\n",
    "\n"
   ]
  },
  {
   "cell_type": "code",
   "execution_count": 163,
   "metadata": {},
   "outputs": [],
   "source": [
    "import numpy as np\n",
    "\n",
    "def mymindisest(params):\n",
    "    # Define constants\n",
    "    P = [0, 0.01, 0.1]\n",
    "    expr = {\n",
    "        'Exp': {\n",
    "            'log_k': lambda E11, E12: (np.log(P[2]) - np.log(P[1]) * E12 / E11) / (1 - E12 / E11),\n",
    "            'log_gamma': lambda log_k, E11: np.log((np.log(P[1]) - log_k) / E11),\n",
    "            'log_s': lambda log_gamma, E13, log_k: np.exp(log_gamma) * E13 + log_k,\n",
    "            'EG31': lambda E31, g: np.exp(E31 * g),'EG32': lambda E32, g: np.exp(E32 * g),'EG10': lambda E10, g: np.exp(E10 * g),'EG41': lambda E41, g: np.exp(E41 * g),'EG42': lambda E42, g: np.exp(E42 * g),\n",
    "        \n",
    "\n",
    "\n",
    "        },\n",
    "        'Power': {\n",
    "            'log_k': lambda E11, E12: (np.log(P[2]) - np.log(P[1]) * np.log(E12) / np.log(E11)) / (1 - np.log(E12) / np.log(E11)),\n",
    "            'log_gamma': lambda log_k, E11: np.log((np.log(P[1]) - log_k) / np.log(E11)),\n",
    "            'log_s': lambda log_gamma, E13, log_k: np.exp(log_gamma) * np.log(E13) + log_k,\n",
    "            'EG31': lambda E31, g: E31 ** g,'EG32': lambda E32, g: E32 ** g,'EG10': lambda E10, g: E10 ** g,'EG41': lambda E41, g: E41 ** g,'EG42': lambda E42, g: E42 ** g\n",
    "        }\n",
    "    }\n",
    "\n",
    "    # Extract arguments from params dictionary\n",
    "    E11 = np.array(params['E11'])\n",
    "    E12 = np.array(params['E12'])\n",
    "    E13 = np.array(params['E13'])\n",
    "    E31 = np.array(params['E31'])\n",
    "    E32 = np.array(params['E32'])\n",
    "    E10 = np.array(params['E10'])\n",
    "    E41 = np.array(params['E41'])\n",
    "    E42 = np.array(params['E42'])\n",
    "    #for a,b in params.items():\n",
    "        #a = params[f\"{a}\"]\n",
    "    specification = params['specification']\n",
    "\n",
    "    # Calculate k, gamma, and s\n",
    "    log_k = expr[specification]['log_k'](E11, E12)\n",
    "    log_gamma = expr[specification]['log_gamma'](log_k, E11)\n",
    "    log_s = expr[specification]['log_s'](log_gamma, E13, log_k)\n",
    "    k = np.exp(log_k)\n",
    "    g = np.exp(log_gamma)\n",
    "    s = np.exp(log_s)\n",
    "    EG31 = expr[specification]['EG31'](E31,g)\n",
    "    EG32 = expr[specification]['EG32'](E32,g)\n",
    "    EG10 = expr[specification]['EG10'](E10,g)\n",
    "    EG41 = expr[specification]['EG41'](E41,g)\n",
    "    EG42 = expr[specification]['EG42'](E42,g)\n",
    "    alpha = 100/9*k*(EG32-EG31)\n",
    "    a = 100*k*EG31-100*s-alpha\n",
    "    s_ge = k*EG10 - s\n",
    "    delta = np.sqrt((k*EG42-s)/(k*EG41-s))\n",
    "    beta  = 100*(k*EG41-s)/(delta**2)\n",
    "    return k, g, s, alpha, a, s_ge, beta, delta\n",
    "\n"
   ]
  },
  {
   "cell_type": "code",
   "execution_count": 164,
   "metadata": {},
   "outputs": [
    {
     "data": {
      "text/plain": [
       "array([1.26689239e-16, 1.57711308e-02, 3.31549170e-06, 3.07335179e-03,\n",
       "       1.42605422e-01, 8.57890628e-06, 1.15234320e+00, 7.64690724e-01])"
      ]
     },
     "execution_count": 164,
     "metadata": {},
     "output_type": "execute_result"
    }
   ],
   "source": [
    "#E11,E12,E13,E31,E32,E10,E41,E42,specification\n",
    "\n",
    "\n",
    "params = {'E11':emp_moments[0],'E12':emp_moments[1],'E13':emp_moments[2],'E31':emp_moments[6],'E32':emp_moments[7],\n",
    "          \"E10\":emp_moments[4],'E41':emp_moments[8],'E42':emp_moments[9],'specification':'Exp'}\n",
    "Table5Exp = np.array(mymindisest(params)).flatten()\n",
    "params['specification'] = 'Power'\n",
    "Table5Power = np.array(mymindisest(params)).flatten()\n",
    "Table5Exp\n"
   ]
  },
  {
   "attachments": {},
   "cell_type": "markdown",
   "metadata": {},
   "source": [
    "## 3. Estimation\n",
    "\n",
    "### Point Estimates and Standard Errors\n",
    "\n",
    "We now compute the minimum distance estimates for Table 5 and the standard errors via a bootstrap procedure.\n"
   ]
  },
  {
   "cell_type": "code",
   "execution_count": 147,
   "metadata": {},
   "outputs": [],
   "source": [
    "vmindisest = np.vectorize(mymindisest)\n",
    "params['specification'] = \"Exp\"\n",
    "estimatesExp = vmindisest(params)\n",
    "#mean_sd = np.zeros((8,2))\n",
    "#for i in range(0,8):\n",
    "    #mean_sd[i,0],mean_sd[i,1] = np.nanmean(estimatesExp[i]), np.nanstd(estimatesExp[i])"
   ]
  },
  {
   "cell_type": "code",
   "execution_count": 191,
   "metadata": {},
   "outputs": [],
   "source": [
    "nw_params = {\"E11\":E11,\"E12\":E12,\"E13\":E13,\"E31\":E31,\"E32\":E32,\"E10\":E10,\"E41\":E41,\"E42\":E42,\"specification\":\"Exp\"}\n",
    "vmindisest = np.vectorize(mymindisest)\n",
    "estimatesExp = vmindisest(nw_params)\n",
    "#np.nanstd(estimatesExp[2])"
   ]
  },
  {
   "cell_type": "code",
   "execution_count": 197,
   "metadata": {},
   "outputs": [],
   "source": [
    "def cal_res(params,type):\n",
    "    if type == \"Exp\":\n",
    "        params['specification'] = \"Exp\"\n",
    "        estimates = vmindisest(params)\n",
    "    else:\n",
    "        params['specification'] = \"Power\"\n",
    "        estimates = vmindisest(params)\n",
    "    res = np.zeros((8,2))\n",
    "    for i in range(0,8):\n",
    "        res[i,0],res[i,1] = np.mean(estimates[i][~np.isnan(estimates[i])&~np.isinf(estimates[i])]), np.std(estimates[i][~np.isnan(estimates[i])&~np.isinf(estimates[i])])\n",
    "    return res\n"
   ]
  },
  {
   "cell_type": "code",
   "execution_count": 201,
   "metadata": {},
   "outputs": [
    {
     "data": {
      "text/plain": [
       "array([[5.29916296e-66, 2.36126973e-64],\n",
       "       [3.61364553e+01, 1.40504784e+01],\n",
       "       [4.47032630e-06, 1.06819280e-05],\n",
       "       [4.05767106e-03, 1.39230123e-02],\n",
       "       [1.60927839e-01, 1.49969023e-01],\n",
       "       [1.11003383e-05, 2.21858031e-05],\n",
       "       [2.19700324e+00, 3.74052341e+00],\n",
       "       [7.98969162e-01, 3.05779577e-01]])"
      ]
     },
     "execution_count": 201,
     "metadata": {},
     "output_type": "execute_result"
    }
   ],
   "source": [
    "exp_res = cal_res(nw_params,type=\"Exp\")\n",
    "power_res = cal_res(nw_params,type=\"Power\")\n",
    "power_res"
   ]
  },
  {
   "cell_type": "code",
   "execution_count": 206,
   "metadata": {},
   "outputs": [],
   "source": [
    "params_name = [\"Level k of cost of effort\", \"Curvature γ of cost function\",\"Intrinsic motivation s\",\"Social preferences α\",\n",
    "                \"Warm glow coefficient a\",\"Gift exchange Δs\", \"Present bias β\",\"(Weekly) discount factor δ\"]\n",
    "sd_exp   = exp_res[0:8,1]\n",
    "sd_power = power_res[0:8,1]"
   ]
  },
  {
   "cell_type": "code",
   "execution_count": 208,
   "metadata": {},
   "outputs": [
    {
     "data": {
      "text/html": [
       "<div>\n",
       "<style scoped>\n",
       "    .dataframe tbody tr th:only-of-type {\n",
       "        vertical-align: middle;\n",
       "    }\n",
       "\n",
       "    .dataframe tbody tr th {\n",
       "        vertical-align: top;\n",
       "    }\n",
       "\n",
       "    .dataframe thead th {\n",
       "        text-align: right;\n",
       "    }\n",
       "</style>\n",
       "<table border=\"1\" class=\"dataframe\">\n",
       "  <thead>\n",
       "    <tr style=\"text-align: right;\">\n",
       "      <th></th>\n",
       "      <th>Parameters name</th>\n",
       "      <th>Minimum dist est on average effort Power point estimates</th>\n",
       "      <th>Minimum dist est on average effort Power standard errors</th>\n",
       "      <th>Minimum dist est on average effort Exp point estimates</th>\n",
       "      <th>Minimum dist est on average effort Exp standard errors</th>\n",
       "    </tr>\n",
       "  </thead>\n",
       "  <tbody>\n",
       "    <tr>\n",
       "      <th>0</th>\n",
       "      <td>Level k of cost of effort</td>\n",
       "      <td>2.538986e-112</td>\n",
       "      <td>2.361270e-64</td>\n",
       "      <td>1.266892e-16</td>\n",
       "      <td>1.138363e-11</td>\n",
       "    </tr>\n",
       "    <tr>\n",
       "      <th>1</th>\n",
       "      <td>Curvature γ of cost function</td>\n",
       "      <td>3.313758e+01</td>\n",
       "      <td>1.405048e+01</td>\n",
       "      <td>1.577113e-02</td>\n",
       "      <td>6.649446e-03</td>\n",
       "    </tr>\n",
       "    <tr>\n",
       "      <th>2</th>\n",
       "      <td>Intrinsic motivation s</td>\n",
       "      <td>7.124221e-07</td>\n",
       "      <td>1.068193e-05</td>\n",
       "      <td>3.315492e-06</td>\n",
       "      <td>2.463057e-05</td>\n",
       "    </tr>\n",
       "    <tr>\n",
       "      <th>3</th>\n",
       "      <td>Social preferences α</td>\n",
       "      <td>2.988651e-03</td>\n",
       "      <td>1.392301e-02</td>\n",
       "      <td>3.073352e-03</td>\n",
       "      <td>1.372873e-02</td>\n",
       "    </tr>\n",
       "    <tr>\n",
       "      <th>4</th>\n",
       "      <td>Warm glow coefficient a</td>\n",
       "      <td>1.250433e-01</td>\n",
       "      <td>1.499690e-01</td>\n",
       "      <td>1.426054e-01</td>\n",
       "      <td>1.532168e-01</td>\n",
       "    </tr>\n",
       "    <tr>\n",
       "      <th>5</th>\n",
       "      <td>Gift exchange Δs</td>\n",
       "      <td>3.263487e-06</td>\n",
       "      <td>2.218580e-05</td>\n",
       "      <td>8.578906e-06</td>\n",
       "      <td>3.598378e-05</td>\n",
       "    </tr>\n",
       "    <tr>\n",
       "      <th>6</th>\n",
       "      <td>Present bias β</td>\n",
       "      <td>1.169033e+00</td>\n",
       "      <td>3.740523e+00</td>\n",
       "      <td>1.152343e+00</td>\n",
       "      <td>1.528536e+01</td>\n",
       "    </tr>\n",
       "    <tr>\n",
       "      <th>7</th>\n",
       "      <td>(Weekly) discount factor δ</td>\n",
       "      <td>7.530978e-01</td>\n",
       "      <td>3.057796e-01</td>\n",
       "      <td>7.646907e-01</td>\n",
       "      <td>2.968223e-01</td>\n",
       "    </tr>\n",
       "  </tbody>\n",
       "</table>\n",
       "</div>"
      ],
      "text/plain": [
       "                Parameters name  \\\n",
       "0     Level k of cost of effort   \n",
       "1  Curvature γ of cost function   \n",
       "2        Intrinsic motivation s   \n",
       "3          Social preferences α   \n",
       "4       Warm glow coefficient a   \n",
       "5              Gift exchange Δs   \n",
       "6                Present bias β   \n",
       "7    (Weekly) discount factor δ   \n",
       "\n",
       "   Minimum dist est on average effort Power point estimates  \\\n",
       "0                                      2.538986e-112          \n",
       "1                                       3.313758e+01          \n",
       "2                                       7.124221e-07          \n",
       "3                                       2.988651e-03          \n",
       "4                                       1.250433e-01          \n",
       "5                                       3.263487e-06          \n",
       "6                                       1.169033e+00          \n",
       "7                                       7.530978e-01          \n",
       "\n",
       "   Minimum dist est on average effort Power standard errors  \\\n",
       "0                                       2.361270e-64          \n",
       "1                                       1.405048e+01          \n",
       "2                                       1.068193e-05          \n",
       "3                                       1.392301e-02          \n",
       "4                                       1.499690e-01          \n",
       "5                                       2.218580e-05          \n",
       "6                                       3.740523e+00          \n",
       "7                                       3.057796e-01          \n",
       "\n",
       "   Minimum dist est on average effort Exp point estimates  \\\n",
       "0                                       1.266892e-16        \n",
       "1                                       1.577113e-02        \n",
       "2                                       3.315492e-06        \n",
       "3                                       3.073352e-03        \n",
       "4                                       1.426054e-01        \n",
       "5                                       8.578906e-06        \n",
       "6                                       1.152343e+00        \n",
       "7                                       7.646907e-01        \n",
       "\n",
       "   Minimum dist est on average effort Exp standard errors  \n",
       "0                                       1.138363e-11       \n",
       "1                                       6.649446e-03       \n",
       "2                                       2.463057e-05       \n",
       "3                                       1.372873e-02       \n",
       "4                                       1.532168e-01       \n",
       "5                                       3.598378e-05       \n",
       "6                                       1.528536e+01       \n",
       "7                                       2.968223e-01       "
      ]
     },
     "metadata": {},
     "output_type": "display_data"
    }
   ],
   "source": [
    "Table5Results = pd.DataFrame({'Parameters name': params_name,\n",
    "                              'Minimum dist est on average effort Power point estimates': Table5Power,\n",
    "                              'Minimum dist est on average effort Power standard errors': sd_power,\n",
    "                              'Minimum dist est on average effort Exp point estimates': Table5Exp,\n",
    "                              'Minimum dist est on average effort Exp standard errors': sd_exp})\n",
    "display(Table5Results)"
   ]
  },
  {
   "cell_type": "code",
   "execution_count": 210,
   "metadata": {},
   "outputs": [
    {
     "ename": "ValueError",
     "evalue": "All arrays must be of the same length",
     "output_type": "error",
     "traceback": [
      "\u001b[1;31m---------------------------------------------------------------------------\u001b[0m",
      "\u001b[1;31mValueError\u001b[0m                                Traceback (most recent call last)",
      "Cell \u001b[1;32mIn[210], line 3\u001b[0m\n\u001b[0;32m      1\u001b[0m \u001b[39mfrom\u001b[39;00m \u001b[39mdecimal\u001b[39;00m \u001b[39mimport\u001b[39;00m Decimal\n\u001b[0;32m      2\u001b[0m columns \u001b[39m=\u001b[39m [Table5Power, sd_power, Table5Exp, sd_exp]\n\u001b[1;32m----> 3\u001b[0m Table5Results \u001b[39m=\u001b[39m pd\u001b[39m.\u001b[39;49mDataFrame({\u001b[39m'\u001b[39;49m\u001b[39mParameters name\u001b[39;49m\u001b[39m'\u001b[39;49m: params_name,\n\u001b[0;32m      4\u001b[0m                               \u001b[39m'\u001b[39;49m\u001b[39mMinimum dist est on average effort Power point estimates\u001b[39;49m\u001b[39m'\u001b[39;49m: [\u001b[39m'\u001b[39;49m\u001b[39m{0:.2e}\u001b[39;49;00m\u001b[39m'\u001b[39;49m\u001b[39m.\u001b[39;49mformat(Decimal(col[\u001b[39m0\u001b[39;49m])) \u001b[39mfor\u001b[39;49;00m col \u001b[39min\u001b[39;49;00m columns],\n\u001b[0;32m      5\u001b[0m                               \u001b[39m'\u001b[39;49m\u001b[39mMinimum dist est on average effort Power standard errors\u001b[39;49m\u001b[39m'\u001b[39;49m: np\u001b[39m.\u001b[39;49mround(columns[\u001b[39m1\u001b[39;49m], \u001b[39m3\u001b[39;49m),\n\u001b[0;32m      6\u001b[0m                               \u001b[39m'\u001b[39;49m\u001b[39mMinimum dist est on average effort Exp point estimates\u001b[39;49m\u001b[39m'\u001b[39;49m: [\u001b[39m'\u001b[39;49m\u001b[39m{0:.2e}\u001b[39;49;00m\u001b[39m'\u001b[39;49m\u001b[39m.\u001b[39;49mformat(Decimal(col[\u001b[39m2\u001b[39;49m])) \u001b[39mfor\u001b[39;49;00m col \u001b[39min\u001b[39;49;00m columns],\n\u001b[0;32m      7\u001b[0m                               \u001b[39m'\u001b[39;49m\u001b[39mMinimum dist est on average effort Exp standard errors\u001b[39;49m\u001b[39m'\u001b[39;49m: np\u001b[39m.\u001b[39;49mround(columns[\u001b[39m3\u001b[39;49m], \u001b[39m3\u001b[39;49m)})\n\u001b[0;32m      8\u001b[0m \u001b[39mfrom\u001b[39;00m \u001b[39mIPython\u001b[39;00m\u001b[39m.\u001b[39;00m\u001b[39mdisplay\u001b[39;00m \u001b[39mimport\u001b[39;00m display\n\u001b[0;32m      9\u001b[0m \u001b[39mprint\u001b[39m(\u001b[39m'\u001b[39m\u001b[39mTable 5: Estimates of behavioural parameters I: Mturkers actual effort. Minimum distance estimates\u001b[39m\u001b[39m'\u001b[39m)\n",
      "File \u001b[1;32mc:\\Users\\ua896\\anaconda3\\envs\\epp_final_project\\Lib\\site-packages\\pandas\\core\\frame.py:664\u001b[0m, in \u001b[0;36mDataFrame.__init__\u001b[1;34m(self, data, index, columns, dtype, copy)\u001b[0m\n\u001b[0;32m    658\u001b[0m     mgr \u001b[39m=\u001b[39m \u001b[39mself\u001b[39m\u001b[39m.\u001b[39m_init_mgr(\n\u001b[0;32m    659\u001b[0m         data, axes\u001b[39m=\u001b[39m{\u001b[39m\"\u001b[39m\u001b[39mindex\u001b[39m\u001b[39m\"\u001b[39m: index, \u001b[39m\"\u001b[39m\u001b[39mcolumns\u001b[39m\u001b[39m\"\u001b[39m: columns}, dtype\u001b[39m=\u001b[39mdtype, copy\u001b[39m=\u001b[39mcopy\n\u001b[0;32m    660\u001b[0m     )\n\u001b[0;32m    662\u001b[0m \u001b[39melif\u001b[39;00m \u001b[39misinstance\u001b[39m(data, \u001b[39mdict\u001b[39m):\n\u001b[0;32m    663\u001b[0m     \u001b[39m# GH#38939 de facto copy defaults to False only in non-dict cases\u001b[39;00m\n\u001b[1;32m--> 664\u001b[0m     mgr \u001b[39m=\u001b[39m dict_to_mgr(data, index, columns, dtype\u001b[39m=\u001b[39;49mdtype, copy\u001b[39m=\u001b[39;49mcopy, typ\u001b[39m=\u001b[39;49mmanager)\n\u001b[0;32m    665\u001b[0m \u001b[39melif\u001b[39;00m \u001b[39misinstance\u001b[39m(data, ma\u001b[39m.\u001b[39mMaskedArray):\n\u001b[0;32m    666\u001b[0m     \u001b[39mimport\u001b[39;00m \u001b[39mnumpy\u001b[39;00m\u001b[39m.\u001b[39;00m\u001b[39mma\u001b[39;00m\u001b[39m.\u001b[39;00m\u001b[39mmrecords\u001b[39;00m \u001b[39mas\u001b[39;00m \u001b[39mmrecords\u001b[39;00m\n",
      "File \u001b[1;32mc:\\Users\\ua896\\anaconda3\\envs\\epp_final_project\\Lib\\site-packages\\pandas\\core\\internals\\construction.py:493\u001b[0m, in \u001b[0;36mdict_to_mgr\u001b[1;34m(data, index, columns, dtype, typ, copy)\u001b[0m\n\u001b[0;32m    489\u001b[0m     \u001b[39melse\u001b[39;00m:\n\u001b[0;32m    490\u001b[0m         \u001b[39m# dtype check to exclude e.g. range objects, scalars\u001b[39;00m\n\u001b[0;32m    491\u001b[0m         arrays \u001b[39m=\u001b[39m [x\u001b[39m.\u001b[39mcopy() \u001b[39mif\u001b[39;00m \u001b[39mhasattr\u001b[39m(x, \u001b[39m\"\u001b[39m\u001b[39mdtype\u001b[39m\u001b[39m\"\u001b[39m) \u001b[39melse\u001b[39;00m x \u001b[39mfor\u001b[39;00m x \u001b[39min\u001b[39;00m arrays]\n\u001b[1;32m--> 493\u001b[0m \u001b[39mreturn\u001b[39;00m arrays_to_mgr(arrays, columns, index, dtype\u001b[39m=\u001b[39;49mdtype, typ\u001b[39m=\u001b[39;49mtyp, consolidate\u001b[39m=\u001b[39;49mcopy)\n",
      "File \u001b[1;32mc:\\Users\\ua896\\anaconda3\\envs\\epp_final_project\\Lib\\site-packages\\pandas\\core\\internals\\construction.py:118\u001b[0m, in \u001b[0;36marrays_to_mgr\u001b[1;34m(arrays, columns, index, dtype, verify_integrity, typ, consolidate)\u001b[0m\n\u001b[0;32m    115\u001b[0m \u001b[39mif\u001b[39;00m verify_integrity:\n\u001b[0;32m    116\u001b[0m     \u001b[39m# figure out the index, if necessary\u001b[39;00m\n\u001b[0;32m    117\u001b[0m     \u001b[39mif\u001b[39;00m index \u001b[39mis\u001b[39;00m \u001b[39mNone\u001b[39;00m:\n\u001b[1;32m--> 118\u001b[0m         index \u001b[39m=\u001b[39m _extract_index(arrays)\n\u001b[0;32m    119\u001b[0m     \u001b[39melse\u001b[39;00m:\n\u001b[0;32m    120\u001b[0m         index \u001b[39m=\u001b[39m ensure_index(index)\n",
      "File \u001b[1;32mc:\\Users\\ua896\\anaconda3\\envs\\epp_final_project\\Lib\\site-packages\\pandas\\core\\internals\\construction.py:666\u001b[0m, in \u001b[0;36m_extract_index\u001b[1;34m(data)\u001b[0m\n\u001b[0;32m    664\u001b[0m lengths \u001b[39m=\u001b[39m \u001b[39mlist\u001b[39m(\u001b[39mset\u001b[39m(raw_lengths))\n\u001b[0;32m    665\u001b[0m \u001b[39mif\u001b[39;00m \u001b[39mlen\u001b[39m(lengths) \u001b[39m>\u001b[39m \u001b[39m1\u001b[39m:\n\u001b[1;32m--> 666\u001b[0m     \u001b[39mraise\u001b[39;00m \u001b[39mValueError\u001b[39;00m(\u001b[39m\"\u001b[39m\u001b[39mAll arrays must be of the same length\u001b[39m\u001b[39m\"\u001b[39m)\n\u001b[0;32m    668\u001b[0m \u001b[39mif\u001b[39;00m have_dicts:\n\u001b[0;32m    669\u001b[0m     \u001b[39mraise\u001b[39;00m \u001b[39mValueError\u001b[39;00m(\n\u001b[0;32m    670\u001b[0m         \u001b[39m\"\u001b[39m\u001b[39mMixing dicts with non-Series may lead to ambiguous ordering.\u001b[39m\u001b[39m\"\u001b[39m\n\u001b[0;32m    671\u001b[0m     )\n",
      "\u001b[1;31mValueError\u001b[0m: All arrays must be of the same length"
     ]
    }
   ],
   "source": [
    "from decimal import Decimal\n",
    "columns = [Table5Power, sd_power, Table5Exp, sd_exp]\n",
    "Table5Results = pd.DataFrame({'Parameters name': params_name,\n",
    "                              'Minimum dist est on average effort Power point estimates': ['{0:.2e}'.format(Decimal(col[0])) for col in columns],\n",
    "                              'Minimum dist est on average effort Power standard errors': np.round(columns[1], 3),\n",
    "                              'Minimum dist est on average effort Exp point estimates': ['{0:.2e}'.format(Decimal(col[2])) for col in columns],\n",
    "                              'Minimum dist est on average effort Exp standard errors': np.round(columns[3], 3)})\n",
    "from IPython.display import display\n",
    "print('Table 5: Estimates of behavioural parameters I: Mturkers actual effort. Minimum distance estimates')\n",
    "display(Table5Results)"
   ]
  },
  {
   "cell_type": "code",
   "execution_count": 209,
   "metadata": {},
   "outputs": [
    {
     "name": "stdout",
     "output_type": "stream",
     "text": [
      "Table 5: Estimates of behavioural parameters I: Mturkers actual effort. Minimum distance estimates\n"
     ]
    },
    {
     "data": {
      "text/html": [
       "<div>\n",
       "<style scoped>\n",
       "    .dataframe tbody tr th:only-of-type {\n",
       "        vertical-align: middle;\n",
       "    }\n",
       "\n",
       "    .dataframe tbody tr th {\n",
       "        vertical-align: top;\n",
       "    }\n",
       "\n",
       "    .dataframe thead th {\n",
       "        text-align: right;\n",
       "    }\n",
       "</style>\n",
       "<table border=\"1\" class=\"dataframe\">\n",
       "  <thead>\n",
       "    <tr style=\"text-align: right;\">\n",
       "      <th></th>\n",
       "      <th>Parameters name</th>\n",
       "      <th>Minimum dist est on average effort Power point estimates</th>\n",
       "      <th>Minimum dist est on average effort Power standard errors</th>\n",
       "      <th>Minimum dist est on average effort Exp point estimates</th>\n",
       "      <th>Minimum dist est on average effort Exp standard errors</th>\n",
       "    </tr>\n",
       "  </thead>\n",
       "  <tbody>\n",
       "    <tr>\n",
       "      <th>0</th>\n",
       "      <td>Level k of cost of effort</td>\n",
       "      <td>2.54e-112</td>\n",
       "      <td>2.36e-64</td>\n",
       "      <td>1.27e-16</td>\n",
       "      <td>1.14e-11</td>\n",
       "    </tr>\n",
       "    <tr>\n",
       "      <th>1</th>\n",
       "      <td>Curvature γ of cost function</td>\n",
       "      <td>33.138</td>\n",
       "      <td>14.05</td>\n",
       "      <td>0.016</td>\n",
       "      <td>0.007</td>\n",
       "    </tr>\n",
       "    <tr>\n",
       "      <th>2</th>\n",
       "      <td>Intrinsic motivation s</td>\n",
       "      <td>7.12e-7</td>\n",
       "      <td>1.07e-5</td>\n",
       "      <td>3.32e-6</td>\n",
       "      <td>2.46e-5</td>\n",
       "    </tr>\n",
       "    <tr>\n",
       "      <th>3</th>\n",
       "      <td>Social preferences α</td>\n",
       "      <td>0.003</td>\n",
       "      <td>0.014</td>\n",
       "      <td>0.003</td>\n",
       "      <td>0.014</td>\n",
       "    </tr>\n",
       "    <tr>\n",
       "      <th>4</th>\n",
       "      <td>Warm glow coefficient a</td>\n",
       "      <td>0.125</td>\n",
       "      <td>0.15</td>\n",
       "      <td>0.143</td>\n",
       "      <td>0.153</td>\n",
       "    </tr>\n",
       "    <tr>\n",
       "      <th>5</th>\n",
       "      <td>Gift exchange Δs</td>\n",
       "      <td>3.26e-6</td>\n",
       "      <td>2.22e-5</td>\n",
       "      <td>8.58e-6</td>\n",
       "      <td>3.60e-5</td>\n",
       "    </tr>\n",
       "    <tr>\n",
       "      <th>6</th>\n",
       "      <td>Present bias β</td>\n",
       "      <td>1.17</td>\n",
       "      <td>3.74</td>\n",
       "      <td>1.15</td>\n",
       "      <td>15.29</td>\n",
       "    </tr>\n",
       "    <tr>\n",
       "      <th>7</th>\n",
       "      <td>(Weekly) discount factor δ</td>\n",
       "      <td>0.75</td>\n",
       "      <td>0.31</td>\n",
       "      <td>0.76</td>\n",
       "      <td>0.3</td>\n",
       "    </tr>\n",
       "  </tbody>\n",
       "</table>\n",
       "</div>"
      ],
      "text/plain": [
       "                Parameters name  \\\n",
       "0     Level k of cost of effort   \n",
       "1  Curvature γ of cost function   \n",
       "2        Intrinsic motivation s   \n",
       "3          Social preferences α   \n",
       "4       Warm glow coefficient a   \n",
       "5              Gift exchange Δs   \n",
       "6                Present bias β   \n",
       "7    (Weekly) discount factor δ   \n",
       "\n",
       "  Minimum dist est on average effort Power point estimates  \\\n",
       "0                                          2.54e-112         \n",
       "1                                             33.138         \n",
       "2                                            7.12e-7         \n",
       "3                                              0.003         \n",
       "4                                              0.125         \n",
       "5                                            3.26e-6         \n",
       "6                                               1.17         \n",
       "7                                               0.75         \n",
       "\n",
       "  Minimum dist est on average effort Power standard errors  \\\n",
       "0                                           2.36e-64         \n",
       "1                                              14.05         \n",
       "2                                            1.07e-5         \n",
       "3                                              0.014         \n",
       "4                                               0.15         \n",
       "5                                            2.22e-5         \n",
       "6                                               3.74         \n",
       "7                                               0.31         \n",
       "\n",
       "  Minimum dist est on average effort Exp point estimates  \\\n",
       "0                                           1.27e-16       \n",
       "1                                              0.016       \n",
       "2                                            3.32e-6       \n",
       "3                                              0.003       \n",
       "4                                              0.143       \n",
       "5                                            8.58e-6       \n",
       "6                                               1.15       \n",
       "7                                               0.76       \n",
       "\n",
       "  Minimum dist est on average effort Exp standard errors  \n",
       "0                                           1.14e-11      \n",
       "1                                              0.007      \n",
       "2                                            2.46e-5      \n",
       "3                                              0.014      \n",
       "4                                              0.153      \n",
       "5                                            3.60e-5      \n",
       "6                                              15.29      \n",
       "7                                                0.3      "
      ]
     },
     "metadata": {},
     "output_type": "display_data"
    }
   ],
   "source": [
    "# Print the results\n",
    "\n",
    "# Formatting the results nicely for the table\n",
    "\n",
    "from decimal import Decimal\n",
    "\n",
    "columns = [Table5Power, sd_power, Table5Exp, sd_exp]\n",
    "vs = []\n",
    "for col in columns:\n",
    "    col = ['{0:.2e}'.format(Decimal(col[0])), round(col[1],3), '{0:.2e}'.format(Decimal(col[2])),\n",
    "           round(col[3],3), round(col[4],3), '{0:.2e}'.format(Decimal(col[5])), round(col[6],2), round(col[7],2)]\n",
    "    vs.append(col)\n",
    "    \n",
    "Table5Results = pd.DataFrame({'Parameters name': params_name,\n",
    "                              'Minimum dist est on average effort Power point estimates': vs[0],\n",
    "                              'Minimum dist est on average effort Power standard errors': vs[1],\n",
    "                              'Minimum dist est on average effort Exp point estimates': vs[2],\n",
    "                              'Minimum dist est on average effort Exp standard errors': vs[3]})\n",
    "    \n",
    "# Standard errors are different since the seed we used for the bootstrap procedure is different from the one used by the authors since \n",
    "# random generation across softwares/languages is not easily replicated (each software uses its own algorithm)\n",
    "\n",
    "from IPython.display import display\n",
    "print('Table 5: Estimates of behavioural parameters I: Mturkers actual effort. Minimum distance estimates')\n",
    "display(Table5Results)"
   ]
  },
  {
   "cell_type": "code",
   "execution_count": 196,
   "metadata": {},
   "outputs": [],
   "source": [
    "nw_params['specification'] = \"Power\"\n",
    "estimatesPower = vmindisest(nw_params)\n",
    "exp_result = np.zeros((8,2))\n",
    "for i in range(0,8):\n",
    "    exp_result[i,0],exp_result[i,1] = np.mean(estimatesExp[i][~np.isnan(estimatesExp[i])&~np.isinf(estimatesExp[i])]), np.std(estimatesExp[i][~np.isnan(estimatesExp[i])&~np.isinf(estimatesExp[i])])\n",
    "exp_result"
   ]
  },
  {
   "cell_type": "code",
   "execution_count": 162,
   "metadata": {},
   "outputs": [
    {
     "data": {
      "text/plain": [
       "array([-6750.        , -7116.66666667, -6583.33333333, ...,\n",
       "       -5683.33333333, -6666.66666667, -7716.66666667])"
      ]
     },
     "execution_count": 162,
     "metadata": {},
     "output_type": "execute_result"
    }
   ],
   "source": [
    "a = np.array(nw_params['E10'])\n",
    "b = np.array(nw_params['E11'])\n",
    "al = 100/9*1.5*(a-b)\n",
    "al"
   ]
  },
  {
   "cell_type": "code",
   "execution_count": 121,
   "metadata": {},
   "outputs": [],
   "source": [
    "a_list = []\n",
    "re = [\"k\", \"g\", \"s\", \"alpha\", \"a\", \"s_ge\", \"beta\", \"delta\"]\n",
    "for i in range(0,8):\n",
    "    a_list.append(i)\n",
    "for i,j in zip(a_list,re):\n",
    "    a,b = f'{j}'+\"_exp\"+\"_meann\", f'{j}'+\"_exp\"+\"_sdd\"\n",
    "    a,b= np.nanmean(estimatesExp[i]), np.nanstd(estimatesExp[i])\n"
   ]
  },
  {
   "cell_type": "code",
   "execution_count": 125,
   "metadata": {},
   "outputs": [
    {
     "data": {
      "text/plain": [
       "array([0.01577113])"
      ]
     },
     "execution_count": 125,
     "metadata": {},
     "output_type": "execute_result"
    }
   ],
   "source": [
    "estimatesExp[1]"
   ]
  },
  {
   "cell_type": "code",
   "execution_count": 141,
   "metadata": {},
   "outputs": [
    {
     "data": {
      "text/plain": [
       "nan"
      ]
     },
     "execution_count": 141,
     "metadata": {},
     "output_type": "execute_result"
    }
   ],
   "source": [
    "import warnings\n",
    "warnings.filterwarnings('ignore') # This is to avoid showing RuntimeWarning in the notebook regarding overflow. For a couple of cases in our 1000 new samples\n",
    "                                  # we cannot find the results because of overflow. Losing 2-3 observations out of thousands should not change the overall mean\n",
    "                                  # for the parameters\n",
    "vvmindisest = np.vectorize(mindisest)\n",
    "estimatesExp = vvmindisest(E11,E12,E13,E31,E32,E10,E41,E42,'Exp')\n",
    "k_exp_mean, k_exp_sd = np.nanmean(estimatesExp[0]), np.nanstd(estimatesExp[0])\n",
    "g_exp_mean, g_exp_sd = np.nanmean(estimatesExp[1]), np.nanstd(estimatesExp[1])\n",
    "s_exp_mean, s_exp_sd = np.nanmean(estimatesExp[2]), np.nanstd(estimatesExp[2])\n",
    "alpha_exp_mean, alpha_exp_sd = np.nanmean(estimatesExp[3]), np.nanstd(estimatesExp[3])\n",
    "a_exp_mean, a_exp_sd = np.nanmean(estimatesExp[4]), np.nanstd(estimatesExp[4])\n",
    "s_ge_exp_mean, s_ge_exp_sd = np.nanmean(estimatesExp[5]), np.nanstd(estimatesExp[5])\n",
    "beta_exp_mean, beta_exp_sd = np.nanmean(estimatesExp[6]), np.nanstd(estimatesExp[6])\n",
    "delta_exp_mean, delta_exp_sd = np.nanmean(estimatesExp[7]), np.nanstd(estimatesExp[7])\n",
    "k_exp_sd"
   ]
  }
 ],
 "metadata": {
  "kernelspec": {
   "display_name": "epp_final_project",
   "language": "python",
   "name": "python3"
  },
  "language_info": {
   "codemirror_mode": {
    "name": "ipython",
    "version": 3
   },
   "file_extension": ".py",
   "mimetype": "text/x-python",
   "name": "python",
   "nbconvert_exporter": "python",
   "pygments_lexer": "ipython3",
   "version": "3.11.0"
  },
  "orig_nbformat": 4
 },
 "nbformat": 4,
 "nbformat_minor": 2
}
