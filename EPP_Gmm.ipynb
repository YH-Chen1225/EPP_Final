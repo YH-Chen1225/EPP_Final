{
 "cells": [
  {
   "cell_type": "code",
   "execution_count": 4,
   "metadata": {},
   "outputs": [],
   "source": [
    "# Import the necessary package\n",
    "import numpy as np\n",
    "import pandas as pd\n",
    "from sklearn.utils import resample\n",
    "import random\n",
    "from decimal import Decimal\n",
    "from IPython.display import display\n",
    "import warnings"
   ]
  },
  {
   "cell_type": "code",
   "execution_count": 5,
   "metadata": {},
   "outputs": [],
   "source": [
    "random.seed(666)# set the seed for reproducible reason\n",
    "\n",
    "#import the data and calculate the mean effort for each treatment\n",
    "df = pd.read_stata('D:\\\\Temp\\\\mturk_clean_data_short.dta')\n",
    "emp_moments = np.array(np.round(df.groupby(\"treatment\").mean(\"buttonpresses\")))"
   ]
  },
  {
   "cell_type": "code",
   "execution_count": 6,
   "metadata": {},
   "outputs": [],
   "source": [
    "# Treatments are as follows:\n",
    "# 1.1: benchmark specification with piece rate of 0.01 \n",
    "# 1.2: benchmark specification with piece rate of 0.10 \n",
    "# 1.3: benchmark specification with piece rate of 0.00 \n",
    "# 3.1: social preferences (charity) with piece rate of 0.01 \n",
    "# 3.2: social preferences (charity) with piece rate of 0.10 \n",
    "# 10 : social preferences (gift exchange) bonus of 40 cents (independently of nr buttonpresses)\n",
    "# 4.1: time discounting with extra 0.01 paid two weeks later\n",
    "# 4.2: time discounting with extra 0.01 paid four weeks later\n",
    "\n",
    "# resample is a useful command from the sklearn library that samples with replacement our data.\n",
    "# I first get a smaller dataframe containing only observations for a specific treatment, I then resample the observations and\n",
    "# compute the rounded mean of buttonpresses, save the result and then pass onto the next treatment. I do this for 'number' times.\n",
    "def mybootstrap(dataset, number):\n",
    "    \n",
    "    E11, E12, E13, E31, E32, E10, E41, E42 = [], [], [], [], [], [], [], []\n",
    "    box={'1.1':E11,'1.2':E12,'1.3':E13,'3.1':E31,'3.2':E32,'10':E10,'4.1':E41,'4.2':E42}\n",
    "    \n",
    "    for i in range(1,number+1):\n",
    "        for a,b in box.items():\n",
    "            db = dataset[dataset.treatment==a]\n",
    "            bootsample = resample(db['buttonpresses'],replace=True,)\n",
    "            b.append(np.round(np.mean(bootsample)))\n",
    "    return E11, E12, E13, E31, E32, E10, E41, E42\n",
    "\n",
    "E11, E12, E13, E31, E32, E10, E41, E42 = mybootstrap(df,2000)\n",
    "\n",
    "\n"
   ]
  },
  {
   "cell_type": "code",
   "execution_count": 7,
   "metadata": {},
   "outputs": [],
   "source": [
    "import numpy as np\n",
    "\n",
    "def mymindisest(params):\n",
    "    '''\n",
    "    params: params is the dictionary include the mean effort value for each bootstrap result or the original bootstrap outcome(so the length can be 2000 for each treatment).\n",
    "            Besides, it also include a key called \"specification\", we can choose \"Exp\" or \"Power\" as our cost function.\n",
    "    '''\n",
    "    # Define constants payoff p\n",
    "    P = [0, 0.01, 0.1] # P is a vector containing the different piece-rates\n",
    "    expr = {\n",
    "        'Exp': {\n",
    "            'log_k': lambda E11, E12: (np.log(P[2]) - np.log(P[1]) * E12 / E11) / (1 - E12 / E11),\n",
    "            'log_gamma': lambda log_k, E11: np.log((np.log(P[1]) - log_k) / E11),\n",
    "            'log_s': lambda log_gamma, E13, log_k: np.exp(log_gamma) * E13 + log_k,\n",
    "            'EG31': lambda E31, g: np.exp(E31 * g),'EG32': lambda E32, g: np.exp(E32 * g),'EG10': lambda E10, g: np.exp(E10 * g),'EG41': lambda E41, g: np.exp(E41 * g),'EG42': lambda E42, g: np.exp(E42 * g),\n",
    "        \n",
    "\n",
    "\n",
    "        },\n",
    "        'Power': {\n",
    "            'log_k': lambda E11, E12: (np.log(P[2]) - np.log(P[1]) * np.log(E12) / np.log(E11)) / (1 - np.log(E12) / np.log(E11)),\n",
    "            'log_gamma': lambda log_k, E11: np.log((np.log(P[1]) - log_k) / np.log(E11)),\n",
    "            'log_s': lambda log_gamma, E13, log_k: np.exp(log_gamma) * np.log(E13) + log_k,\n",
    "            'EG31': lambda E31, g: E31 ** g,'EG32': lambda E32, g: E32 ** g,'EG10': lambda E10, g: E10 ** g,'EG41': lambda E41, g: E41 ** g,'EG42': lambda E42, g: E42 ** g\n",
    "        }\n",
    "    }\n",
    "\n",
    "    # Extract arguments from params dictionary\n",
    "    E11 = np.array(params['E11'])\n",
    "    E12 = np.array(params['E12'])\n",
    "    E13 = np.array(params['E13'])\n",
    "    E31 = np.array(params['E31'])\n",
    "    E32 = np.array(params['E32'])\n",
    "    E10 = np.array(params['E10'])\n",
    "    E41 = np.array(params['E41'])\n",
    "    E42 = np.array(params['E42'])\n",
    "    #for a,b in params.items():\n",
    "        #a = params[f\"{a}\"]\n",
    "    specification = params['specification']\n",
    "\n",
    "    # Calculate k, gamma, alpha, a, s_ge, delta, beta\n",
    "    log_k = expr[specification]['log_k'](E11, E12)\n",
    "    log_gamma = expr[specification]['log_gamma'](log_k, E11)\n",
    "    log_s = expr[specification]['log_s'](log_gamma, E13, log_k)\n",
    "    k = np.exp(log_k)\n",
    "    g = np.exp(log_gamma)\n",
    "    s = np.exp(log_s)\n",
    "    EG31 = expr[specification]['EG31'](E31,g)\n",
    "    EG32 = expr[specification]['EG32'](E32,g)\n",
    "    EG10 = expr[specification]['EG10'](E10,g)\n",
    "    EG41 = expr[specification]['EG41'](E41,g)\n",
    "    EG42 = expr[specification]['EG42'](E42,g)\n",
    "    alpha = 100/9*k*(EG32-EG31)\n",
    "    a = 100*k*EG31-100*s-alpha\n",
    "    s_ge = k*EG10 - s\n",
    "    delta = np.sqrt((k*EG42-s)/(k*EG41-s))\n",
    "    beta  = 100*(k*EG41-s)/(delta**2)\n",
    "    return k, g, s, alpha, a, s_ge, beta, delta\n",
    "\n"
   ]
  },
  {
   "cell_type": "code",
   "execution_count": 8,
   "metadata": {},
   "outputs": [
    {
     "data": {
      "text/plain": [
       "array([1.26689239e-16, 1.57711308e-02, 3.31549170e-06, 3.07335179e-03,\n",
       "       1.42605422e-01, 8.57890628e-06, 1.15234320e+00, 7.64690724e-01])"
      ]
     },
     "execution_count": 8,
     "metadata": {},
     "output_type": "execute_result"
    }
   ],
   "source": [
    "#Define the dictionary to put into function\n",
    "#Estimate the result\n",
    "##Table 5 minimum distance estimates: columns (1) (3) panel A and columns (1) (4) panel B\n",
    "\n",
    "params = {'E11':emp_moments[0],'E12':emp_moments[1],'E13':emp_moments[2],'E31':emp_moments[6],'E32':emp_moments[7],\n",
    "          \"E10\":emp_moments[4],'E41':emp_moments[8],'E42':emp_moments[9],'specification':'Exp'}\n",
    "#Including the mean effort from empirical data for each treatment.\n",
    "\n",
    "Table5Exp = np.array(mymindisest(params)).flatten()\n",
    "params['specification'] = 'Power'\n",
    "Table5Power = np.array(mymindisest(params)).flatten()\n",
    "Table5Exp\n"
   ]
  },
  {
   "attachments": {},
   "cell_type": "markdown",
   "metadata": {},
   "source": [
    "## 3. Estimation\n",
    "\n",
    "### Point Estimates and Standard Errors\n",
    "\n",
    "We now compute the minimum distance estimates for Table 5 and the standard errors via a bootstrap procedure.\n"
   ]
  },
  {
   "cell_type": "code",
   "execution_count": 9,
   "metadata": {},
   "outputs": [],
   "source": [
    "vmindisest = np.vectorize(mymindisest)\n",
    "params['specification'] = \"Exp\"\n",
    "estimatesExp = vmindisest(params)\n",
    "#mean_sd = np.zeros((8,2))\n",
    "#for i in range(0,8):\n",
    "    #mean_sd[i,0],mean_sd[i,1] = np.nanmean(estimatesExp[i]), np.nanstd(estimatesExp[i])"
   ]
  },
  {
   "cell_type": "code",
   "execution_count": 10,
   "metadata": {},
   "outputs": [
    {
     "name": "stderr",
     "output_type": "stream",
     "text": [
      "C:\\Users\\ua896\\AppData\\Local\\Temp\\ipykernel_62512\\2675283967.py:24: RuntimeWarning: overflow encountered in power\n",
      "  'EG31': lambda E31, g: E31 ** g,'EG32': lambda E32, g: E32 ** g,'EG10': lambda E10, g: E10 ** g,'EG41': lambda E41, g: E41 ** g,'EG42': lambda E42, g: E42 ** g\n",
      "C:\\Users\\ua896\\AppData\\Local\\Temp\\ipykernel_62512\\2675283967.py:53: RuntimeWarning: invalid value encountered in subtract\n",
      "  alpha = 100/9*k*(EG32-EG31)\n",
      "C:\\Users\\ua896\\AppData\\Local\\Temp\\ipykernel_62512\\2675283967.py:54: RuntimeWarning: invalid value encountered in multiply\n",
      "  a = 100*k*EG31-100*s-alpha\n",
      "C:\\Users\\ua896\\AppData\\Local\\Temp\\ipykernel_62512\\2675283967.py:55: RuntimeWarning: invalid value encountered in multiply\n",
      "  s_ge = k*EG10 - s\n",
      "C:\\Users\\ua896\\AppData\\Local\\Temp\\ipykernel_62512\\2675283967.py:56: RuntimeWarning: invalid value encountered in multiply\n",
      "  delta = np.sqrt((k*EG42-s)/(k*EG41-s))\n",
      "C:\\Users\\ua896\\AppData\\Local\\Temp\\ipykernel_62512\\2675283967.py:56: RuntimeWarning: invalid value encountered in true_divide\n",
      "  delta = np.sqrt((k*EG42-s)/(k*EG41-s))\n",
      "C:\\Users\\ua896\\AppData\\Local\\Temp\\ipykernel_62512\\2675283967.py:57: RuntimeWarning: invalid value encountered in multiply\n",
      "  beta  = 100*(k*EG41-s)/(delta**2)\n"
     ]
    }
   ],
   "source": [
    "#Define the new dictionary, now ,for each treatment, there is a array that length equal to 2000, which we obtain from boostrap process.\n",
    "nw_params = {\"E11\":E11,\"E12\":E12,\"E13\":E13,\"E31\":E31,\"E32\":E32,\"E10\":E10,\"E41\":E41,\"E42\":E42,\"specification\":\"Exp\"}\n",
    "vmindisest = np.vectorize(mymindisest)#vectorize the function\n",
    "\n",
    "#Obtain the estimation result\n",
    "estimatesExp = vmindisest(nw_params)\n",
    "nw_params['specification'] = 'Power'\n",
    "estimatesPower = vmindisest(nw_params)"
   ]
  },
  {
   "cell_type": "code",
   "execution_count": 11,
   "metadata": {},
   "outputs": [],
   "source": [
    "# Nowe, to obtain confidence intervals in panel B table 5. CI are the 2.5% and 97.5% quantiles of the distribution of our\n",
    "# parameters vectors. There are 2000 values in each vector. The 2.5% number and 97.5% number is constant in the original code.\n",
    "# However, we may obtain some numbers equal to nan or inf when processing, which may affect on our estimation result.\n",
    "#Therefore, I modify the code, making it can be change accordingly. In this part, We obtain CI only for alpha, a, s_ge, beta, delta as in the paper\n",
    "\n",
    "CI_Exp, CI_Power = [], []\n",
    "for ci in range(3,8):\n",
    "    a  = sorted(estimatesExp[ci][~np.isnan(estimatesExp[ci])&~np.isinf(estimatesExp[ci])])\n",
    "    CI_Exp.append([a[round(len(a)*0.025)],a[round(len(a)*0.975)]])\n",
    "    b  = sorted(estimatesPower[ci][~np.isnan(estimatesPower[ci])&~np.isinf(estimatesPower[ci])])\n",
    "    CI_Power.append([b[round(len(b)*0.025)],b[round(len(b)*0.975)]])"
   ]
  },
  {
   "cell_type": "code",
   "execution_count": 12,
   "metadata": {},
   "outputs": [],
   "source": [
    "#Function for compute the mean and standard error of estimates for the cost function using the Bootstrap procedure\n",
    "def cal_res(params,type):\n",
    "    \n",
    "    '''params : params is a dictionary, which include each bootstraping result for each parameters\n",
    "       type : Type can be Exp or Power, depends on whcih cost function you want to apply.'''\n",
    "    if type == \"Exp\":\n",
    "        params['specification'] = \"Exp\"\n",
    "        estimates = vmindisest(params)\n",
    "    else:\n",
    "        params['specification'] = \"Power\"\n",
    "        estimates = vmindisest(params)\n",
    "    res = np.zeros((8,2))\n",
    "    for i in range(0,8):\n",
    "        res[i,0],res[i,1] = np.mean(estimates[i][~np.isnan(estimates[i])&~np.isinf(estimates[i])]), np.std(estimates[i][~np.isnan(estimates[i])&~np.isinf(estimates[i])])\n",
    "    return res\n"
   ]
  },
  {
   "cell_type": "code",
   "execution_count": 13,
   "metadata": {},
   "outputs": [],
   "source": [
    "# Store mean and standard error of estimates for the cost function using the Bootstrap procedure\n",
    "warnings.filterwarnings('ignore') # This is to avoid showing RuntimeWarning in the notebook regarding overflow. For a couple of cases in our 1000 new samples\n",
    "                                  # we cannot find the results because of overflow. Losing 2-3 observations out of thousands should not change the overall mean\n",
    "                                  # for the parameters\n",
    "exp_res = cal_res(nw_params,type=\"Exp\")\n",
    "power_res = cal_res(nw_params,type=\"Power\")"
   ]
  },
  {
   "cell_type": "code",
   "execution_count": 14,
   "metadata": {},
   "outputs": [],
   "source": [
    "params_name = [\"Level k of cost of effort\", \"Curvature γ of cost function\",\"Intrinsic motivation s\",\"Social preferences α\",\n",
    "                \"Warm glow coefficient a\",\"Gift exchange Δs\", \"Present bias β\",\"(Weekly) discount factor δ\"]\n",
    "CIpanelB = pd.DataFrame({'CI_Exp':CI_Exp, 'CI_Power':CI_Power})\n",
    "sd_exp   = exp_res[0:8,1]\n",
    "sd_power = power_res[0:8,1]"
   ]
  },
  {
   "cell_type": "code",
   "execution_count": 20,
   "metadata": {},
   "outputs": [],
   "source": [
    "mini_dist_power_author = ['{0:.2e}'.format(Decimal(2.56E-112)),round(33.137,3),'{0:.2e}'.format(Decimal(7.13E-07)),\n",
    "                          round(0.003,3), round(0.125,3), '{0:.2e}'.format(Decimal(3.26e-06)), round(1.17,2), round(0.75,2)]\n",
    "\n",
    "mini_dist_exp_author = ['{0:.2e}'.format(Decimal(1.27E-16)),round(0.0158,3),'{0:.2e}'.format(Decimal(3.32E-06)),\n",
    "                          round(0.003,3), round(0.143,3), '{0:.2e}'.format(Decimal(8.59e-06)), round(1.15,2), round(0.76,2)]"
   ]
  },
  {
   "cell_type": "code",
   "execution_count": 28,
   "metadata": {},
   "outputs": [
    {
     "name": "stdout",
     "output_type": "stream",
     "text": [
      "Table 5: Estimates of behavioural parameters I: Mturkers actual effort. Minimum distance estimates\n"
     ]
    },
    {
     "data": {
      "text/html": [
       "<div>\n",
       "<style scoped>\n",
       "    .dataframe tbody tr th:only-of-type {\n",
       "        vertical-align: middle;\n",
       "    }\n",
       "\n",
       "    .dataframe tbody tr th {\n",
       "        vertical-align: top;\n",
       "    }\n",
       "\n",
       "    .dataframe thead th {\n",
       "        text-align: right;\n",
       "    }\n",
       "</style>\n",
       "<table border=\"1\" class=\"dataframe\">\n",
       "  <thead>\n",
       "    <tr style=\"text-align: right;\">\n",
       "      <th></th>\n",
       "      <th>Parameters name</th>\n",
       "      <th>Minimum dist est on average effort power cost function estimates</th>\n",
       "      <th>Minimum dist est on average effort power cost function from authors</th>\n",
       "      <th>Minimum dist est on average effort power standard errors</th>\n",
       "      <th>Minimum dist est on average effort exp cost function estimates</th>\n",
       "      <th>Minimum dist est on average effort exp cost function from authors</th>\n",
       "      <th>Minimum dist est on average effort exp standard errors</th>\n",
       "    </tr>\n",
       "  </thead>\n",
       "  <tbody>\n",
       "    <tr>\n",
       "      <th>0</th>\n",
       "      <td>Level k of cost of effort</td>\n",
       "      <td>2.54e-112</td>\n",
       "      <td>2.56e-112</td>\n",
       "      <td>1.16e-61</td>\n",
       "      <td>1.27e-16</td>\n",
       "      <td>1.27e-16</td>\n",
       "      <td>2.10e-11</td>\n",
       "    </tr>\n",
       "    <tr>\n",
       "      <th>1</th>\n",
       "      <td>Curvature γ of cost function</td>\n",
       "      <td>33.138</td>\n",
       "      <td>33.137</td>\n",
       "      <td>11.41</td>\n",
       "      <td>0.016</td>\n",
       "      <td>0.016</td>\n",
       "      <td>0.005</td>\n",
       "    </tr>\n",
       "    <tr>\n",
       "      <th>2</th>\n",
       "      <td>Intrinsic motivation s</td>\n",
       "      <td>7.12e-7</td>\n",
       "      <td>7.13e-7</td>\n",
       "      <td>1.10e-5</td>\n",
       "      <td>3.32e-6</td>\n",
       "      <td>3.32e-6</td>\n",
       "      <td>2.47e-5</td>\n",
       "    </tr>\n",
       "    <tr>\n",
       "      <th>3</th>\n",
       "      <td>Social preferences α</td>\n",
       "      <td>0.003</td>\n",
       "      <td>0.003</td>\n",
       "      <td>0.013</td>\n",
       "      <td>0.003</td>\n",
       "      <td>0.003</td>\n",
       "      <td>0.013</td>\n",
       "    </tr>\n",
       "    <tr>\n",
       "      <th>4</th>\n",
       "      <td>Warm glow coefficient a</td>\n",
       "      <td>0.125</td>\n",
       "      <td>0.125</td>\n",
       "      <td>0.144</td>\n",
       "      <td>0.143</td>\n",
       "      <td>0.143</td>\n",
       "      <td>0.147</td>\n",
       "    </tr>\n",
       "    <tr>\n",
       "      <th>5</th>\n",
       "      <td>Gift exchange Δs</td>\n",
       "      <td>3.26e-6</td>\n",
       "      <td>3.26e-6</td>\n",
       "      <td>2.48e-5</td>\n",
       "      <td>8.58e-6</td>\n",
       "      <td>8.59e-6</td>\n",
       "      <td>3.81e-5</td>\n",
       "    </tr>\n",
       "    <tr>\n",
       "      <th>6</th>\n",
       "      <td>Present bias β</td>\n",
       "      <td>1.17</td>\n",
       "      <td>1.17</td>\n",
       "      <td>3.02</td>\n",
       "      <td>1.15</td>\n",
       "      <td>1.15</td>\n",
       "      <td>2.76</td>\n",
       "    </tr>\n",
       "    <tr>\n",
       "      <th>7</th>\n",
       "      <td>(Weekly) discount factor δ</td>\n",
       "      <td>0.75</td>\n",
       "      <td>0.75</td>\n",
       "      <td>0.31</td>\n",
       "      <td>0.76</td>\n",
       "      <td>0.76</td>\n",
       "      <td>0.31</td>\n",
       "    </tr>\n",
       "  </tbody>\n",
       "</table>\n",
       "</div>"
      ],
      "text/plain": [
       "                Parameters name  \\\n",
       "0     Level k of cost of effort   \n",
       "1  Curvature γ of cost function   \n",
       "2        Intrinsic motivation s   \n",
       "3          Social preferences α   \n",
       "4       Warm glow coefficient a   \n",
       "5              Gift exchange Δs   \n",
       "6                Present bias β   \n",
       "7    (Weekly) discount factor δ   \n",
       "\n",
       "  Minimum dist est on average effort power cost function estimates  \\\n",
       "0                                          2.54e-112                 \n",
       "1                                             33.138                 \n",
       "2                                            7.12e-7                 \n",
       "3                                              0.003                 \n",
       "4                                              0.125                 \n",
       "5                                            3.26e-6                 \n",
       "6                                               1.17                 \n",
       "7                                               0.75                 \n",
       "\n",
       "  Minimum dist est on average effort power cost function from authors  \\\n",
       "0                                          2.56e-112                    \n",
       "1                                             33.137                    \n",
       "2                                            7.13e-7                    \n",
       "3                                              0.003                    \n",
       "4                                              0.125                    \n",
       "5                                            3.26e-6                    \n",
       "6                                               1.17                    \n",
       "7                                               0.75                    \n",
       "\n",
       "  Minimum dist est on average effort power standard errors  \\\n",
       "0                                           1.16e-61         \n",
       "1                                              11.41         \n",
       "2                                            1.10e-5         \n",
       "3                                              0.013         \n",
       "4                                              0.144         \n",
       "5                                            2.48e-5         \n",
       "6                                               3.02         \n",
       "7                                               0.31         \n",
       "\n",
       "  Minimum dist est on average effort exp cost function estimates  \\\n",
       "0                                           1.27e-16               \n",
       "1                                              0.016               \n",
       "2                                            3.32e-6               \n",
       "3                                              0.003               \n",
       "4                                              0.143               \n",
       "5                                            8.58e-6               \n",
       "6                                               1.15               \n",
       "7                                               0.76               \n",
       "\n",
       "  Minimum dist est on average effort exp cost function from authors  \\\n",
       "0                                           1.27e-16                  \n",
       "1                                              0.016                  \n",
       "2                                            3.32e-6                  \n",
       "3                                              0.003                  \n",
       "4                                              0.143                  \n",
       "5                                            8.59e-6                  \n",
       "6                                               1.15                  \n",
       "7                                               0.76                  \n",
       "\n",
       "  Minimum dist est on average effort exp standard errors  \n",
       "0                                           2.10e-11      \n",
       "1                                              0.005      \n",
       "2                                            2.47e-5      \n",
       "3                                              0.013      \n",
       "4                                              0.147      \n",
       "5                                            3.81e-5      \n",
       "6                                               2.76      \n",
       "7                                               0.31      "
      ]
     },
     "metadata": {},
     "output_type": "display_data"
    }
   ],
   "source": [
    "#I did not change the code in this cell\n",
    "# Print the results\n",
    "# Formatting the results nicely for the table\n",
    "\n",
    "from decimal import Decimal\n",
    "\n",
    "columns = [Table5Power, sd_power, Table5Exp, sd_exp]\n",
    "vs = []\n",
    "for col in columns:\n",
    "    col = ['{0:.2e}'.format(Decimal(col[0])), round(col[1],3), '{0:.2e}'.format(Decimal(col[2])),\n",
    "           round(col[3],3), round(col[4],3), '{0:.2e}'.format(Decimal(col[5])), round(col[6],2), round(col[7],2)]\n",
    "    vs.append(col)\n",
    "    \n",
    "Table5Results = pd.DataFrame({'Parameters name': params_name,\n",
    "                              'Minimum dist est on average effort power cost function estimates': vs[0],\n",
    "                              'Minimum dist est on average effort power cost function from authors': mini_dist_power_author,\n",
    "                              'Minimum dist est on average effort power standard errors': vs[1],\n",
    "                              'Minimum dist est on average effort exp cost function estimates': vs[2],\n",
    "                              'Minimum dist est on average effort exp cost function from authors': mini_dist_exp_author,\n",
    "                              'Minimum dist est on average effort exp standard errors': vs[3]})\n",
    "    \n",
    "# Standard errors are different since the seed we used for the bootstrap procedure is different from the one used by the authors since \n",
    "# random generation across softwares/languages is not easily replicated (each software uses its own algorithm)\n",
    "\n",
    "from IPython.display import display\n",
    "print('Table 5: Estimates of behavioural parameters I: Mturkers actual effort. Minimum distance estimates')\n",
    "display(Table5Results)"
   ]
  },
  {
   "cell_type": "code",
   "execution_count": 29,
   "metadata": {},
   "outputs": [
    {
     "data": {
      "text/plain": [
       "Minimum dist est on average effort power cost function estimates       33.138\n",
       "Minimum dist est on average effort power cost function from authors    33.137\n",
       "Name: 1, dtype: object"
      ]
     },
     "execution_count": 29,
     "metadata": {},
     "output_type": "execute_result"
    }
   ],
   "source": [
    "Table5Results.filter(regex= \"power cost function\").iloc[1,:]"
   ]
  },
  {
   "cell_type": "code",
   "execution_count": 30,
   "metadata": {},
   "outputs": [
    {
     "data": {
      "application/vnd.plotly.v1+json": {
       "config": {
        "plotlyServerURL": "https://plot.ly"
       },
       "data": [
        {
         "name": "gamma estimation comparison",
         "text": [
          33.138,
          33.137
         ],
         "textposition": "auto",
         "type": "bar",
         "x": [
          "my gamma estimation",
          "authors estimation"
         ],
         "xaxis": "x",
         "y": [
          33.138,
          33.137
         ],
         "yaxis": "y"
        },
        {
         "name": "Social preferences estimation comparison",
         "text": [
          0.003,
          0.003
         ],
         "textposition": "auto",
         "type": "bar",
         "x": [
          "my Social preferences estimation",
          "author estimation"
         ],
         "xaxis": "x2",
         "y": [
          0.003,
          0.003
         ],
         "yaxis": "y2"
        },
        {
         "name": "Present bias β estimation comparision",
         "text": [
          1.17,
          1.17
         ],
         "textposition": "auto",
         "type": "bar",
         "x": [
          "my Present bias β estimation",
          "author estimation"
         ],
         "xaxis": "x3",
         "y": [
          1.17,
          1.17
         ],
         "yaxis": "y3"
        },
        {
         "name": "Warm glow coefficient a estimation comparision",
         "text": [
          0.125,
          0.125
         ],
         "textposition": "auto",
         "type": "bar",
         "x": [
          "my coefficient a estimation",
          "author estimation"
         ],
         "xaxis": "x4",
         "y": [
          0.125,
          0.125
         ],
         "yaxis": "y4"
        },
        {
         "name": "Discount factor δ estimation comparision",
         "text": [
          0.75,
          0.75
         ],
         "textposition": "auto",
         "type": "bar",
         "x": [
          "discount factor δ estimation",
          "author estimation"
         ],
         "xaxis": "x5",
         "y": [
          0.75,
          0.75
         ],
         "yaxis": "y5"
        }
       ],
       "layout": {
        "barmode": "group",
        "template": {
         "data": {
          "bar": [
           {
            "error_x": {
             "color": "#2a3f5f"
            },
            "error_y": {
             "color": "#2a3f5f"
            },
            "marker": {
             "line": {
              "color": "#E5ECF6",
              "width": 0.5
             },
             "pattern": {
              "fillmode": "overlay",
              "size": 10,
              "solidity": 0.2
             }
            },
            "type": "bar"
           }
          ],
          "barpolar": [
           {
            "marker": {
             "line": {
              "color": "#E5ECF6",
              "width": 0.5
             },
             "pattern": {
              "fillmode": "overlay",
              "size": 10,
              "solidity": 0.2
             }
            },
            "type": "barpolar"
           }
          ],
          "carpet": [
           {
            "aaxis": {
             "endlinecolor": "#2a3f5f",
             "gridcolor": "white",
             "linecolor": "white",
             "minorgridcolor": "white",
             "startlinecolor": "#2a3f5f"
            },
            "baxis": {
             "endlinecolor": "#2a3f5f",
             "gridcolor": "white",
             "linecolor": "white",
             "minorgridcolor": "white",
             "startlinecolor": "#2a3f5f"
            },
            "type": "carpet"
           }
          ],
          "choropleth": [
           {
            "colorbar": {
             "outlinewidth": 0,
             "ticks": ""
            },
            "type": "choropleth"
           }
          ],
          "contour": [
           {
            "colorbar": {
             "outlinewidth": 0,
             "ticks": ""
            },
            "colorscale": [
             [
              0,
              "#0d0887"
             ],
             [
              0.1111111111111111,
              "#46039f"
             ],
             [
              0.2222222222222222,
              "#7201a8"
             ],
             [
              0.3333333333333333,
              "#9c179e"
             ],
             [
              0.4444444444444444,
              "#bd3786"
             ],
             [
              0.5555555555555556,
              "#d8576b"
             ],
             [
              0.6666666666666666,
              "#ed7953"
             ],
             [
              0.7777777777777778,
              "#fb9f3a"
             ],
             [
              0.8888888888888888,
              "#fdca26"
             ],
             [
              1,
              "#f0f921"
             ]
            ],
            "type": "contour"
           }
          ],
          "contourcarpet": [
           {
            "colorbar": {
             "outlinewidth": 0,
             "ticks": ""
            },
            "type": "contourcarpet"
           }
          ],
          "heatmap": [
           {
            "colorbar": {
             "outlinewidth": 0,
             "ticks": ""
            },
            "colorscale": [
             [
              0,
              "#0d0887"
             ],
             [
              0.1111111111111111,
              "#46039f"
             ],
             [
              0.2222222222222222,
              "#7201a8"
             ],
             [
              0.3333333333333333,
              "#9c179e"
             ],
             [
              0.4444444444444444,
              "#bd3786"
             ],
             [
              0.5555555555555556,
              "#d8576b"
             ],
             [
              0.6666666666666666,
              "#ed7953"
             ],
             [
              0.7777777777777778,
              "#fb9f3a"
             ],
             [
              0.8888888888888888,
              "#fdca26"
             ],
             [
              1,
              "#f0f921"
             ]
            ],
            "type": "heatmap"
           }
          ],
          "heatmapgl": [
           {
            "colorbar": {
             "outlinewidth": 0,
             "ticks": ""
            },
            "colorscale": [
             [
              0,
              "#0d0887"
             ],
             [
              0.1111111111111111,
              "#46039f"
             ],
             [
              0.2222222222222222,
              "#7201a8"
             ],
             [
              0.3333333333333333,
              "#9c179e"
             ],
             [
              0.4444444444444444,
              "#bd3786"
             ],
             [
              0.5555555555555556,
              "#d8576b"
             ],
             [
              0.6666666666666666,
              "#ed7953"
             ],
             [
              0.7777777777777778,
              "#fb9f3a"
             ],
             [
              0.8888888888888888,
              "#fdca26"
             ],
             [
              1,
              "#f0f921"
             ]
            ],
            "type": "heatmapgl"
           }
          ],
          "histogram": [
           {
            "marker": {
             "pattern": {
              "fillmode": "overlay",
              "size": 10,
              "solidity": 0.2
             }
            },
            "type": "histogram"
           }
          ],
          "histogram2d": [
           {
            "colorbar": {
             "outlinewidth": 0,
             "ticks": ""
            },
            "colorscale": [
             [
              0,
              "#0d0887"
             ],
             [
              0.1111111111111111,
              "#46039f"
             ],
             [
              0.2222222222222222,
              "#7201a8"
             ],
             [
              0.3333333333333333,
              "#9c179e"
             ],
             [
              0.4444444444444444,
              "#bd3786"
             ],
             [
              0.5555555555555556,
              "#d8576b"
             ],
             [
              0.6666666666666666,
              "#ed7953"
             ],
             [
              0.7777777777777778,
              "#fb9f3a"
             ],
             [
              0.8888888888888888,
              "#fdca26"
             ],
             [
              1,
              "#f0f921"
             ]
            ],
            "type": "histogram2d"
           }
          ],
          "histogram2dcontour": [
           {
            "colorbar": {
             "outlinewidth": 0,
             "ticks": ""
            },
            "colorscale": [
             [
              0,
              "#0d0887"
             ],
             [
              0.1111111111111111,
              "#46039f"
             ],
             [
              0.2222222222222222,
              "#7201a8"
             ],
             [
              0.3333333333333333,
              "#9c179e"
             ],
             [
              0.4444444444444444,
              "#bd3786"
             ],
             [
              0.5555555555555556,
              "#d8576b"
             ],
             [
              0.6666666666666666,
              "#ed7953"
             ],
             [
              0.7777777777777778,
              "#fb9f3a"
             ],
             [
              0.8888888888888888,
              "#fdca26"
             ],
             [
              1,
              "#f0f921"
             ]
            ],
            "type": "histogram2dcontour"
           }
          ],
          "mesh3d": [
           {
            "colorbar": {
             "outlinewidth": 0,
             "ticks": ""
            },
            "type": "mesh3d"
           }
          ],
          "parcoords": [
           {
            "line": {
             "colorbar": {
              "outlinewidth": 0,
              "ticks": ""
             }
            },
            "type": "parcoords"
           }
          ],
          "pie": [
           {
            "automargin": true,
            "type": "pie"
           }
          ],
          "scatter": [
           {
            "marker": {
             "colorbar": {
              "outlinewidth": 0,
              "ticks": ""
             }
            },
            "type": "scatter"
           }
          ],
          "scatter3d": [
           {
            "line": {
             "colorbar": {
              "outlinewidth": 0,
              "ticks": ""
             }
            },
            "marker": {
             "colorbar": {
              "outlinewidth": 0,
              "ticks": ""
             }
            },
            "type": "scatter3d"
           }
          ],
          "scattercarpet": [
           {
            "marker": {
             "colorbar": {
              "outlinewidth": 0,
              "ticks": ""
             }
            },
            "type": "scattercarpet"
           }
          ],
          "scattergeo": [
           {
            "marker": {
             "colorbar": {
              "outlinewidth": 0,
              "ticks": ""
             }
            },
            "type": "scattergeo"
           }
          ],
          "scattergl": [
           {
            "marker": {
             "colorbar": {
              "outlinewidth": 0,
              "ticks": ""
             }
            },
            "type": "scattergl"
           }
          ],
          "scattermapbox": [
           {
            "marker": {
             "colorbar": {
              "outlinewidth": 0,
              "ticks": ""
             }
            },
            "type": "scattermapbox"
           }
          ],
          "scatterpolar": [
           {
            "marker": {
             "colorbar": {
              "outlinewidth": 0,
              "ticks": ""
             }
            },
            "type": "scatterpolar"
           }
          ],
          "scatterpolargl": [
           {
            "marker": {
             "colorbar": {
              "outlinewidth": 0,
              "ticks": ""
             }
            },
            "type": "scatterpolargl"
           }
          ],
          "scatterternary": [
           {
            "marker": {
             "colorbar": {
              "outlinewidth": 0,
              "ticks": ""
             }
            },
            "type": "scatterternary"
           }
          ],
          "surface": [
           {
            "colorbar": {
             "outlinewidth": 0,
             "ticks": ""
            },
            "colorscale": [
             [
              0,
              "#0d0887"
             ],
             [
              0.1111111111111111,
              "#46039f"
             ],
             [
              0.2222222222222222,
              "#7201a8"
             ],
             [
              0.3333333333333333,
              "#9c179e"
             ],
             [
              0.4444444444444444,
              "#bd3786"
             ],
             [
              0.5555555555555556,
              "#d8576b"
             ],
             [
              0.6666666666666666,
              "#ed7953"
             ],
             [
              0.7777777777777778,
              "#fb9f3a"
             ],
             [
              0.8888888888888888,
              "#fdca26"
             ],
             [
              1,
              "#f0f921"
             ]
            ],
            "type": "surface"
           }
          ],
          "table": [
           {
            "cells": {
             "fill": {
              "color": "#EBF0F8"
             },
             "line": {
              "color": "white"
             }
            },
            "header": {
             "fill": {
              "color": "#C8D4E3"
             },
             "line": {
              "color": "white"
             }
            },
            "type": "table"
           }
          ]
         },
         "layout": {
          "annotationdefaults": {
           "arrowcolor": "#2a3f5f",
           "arrowhead": 0,
           "arrowwidth": 1
          },
          "autotypenumbers": "strict",
          "coloraxis": {
           "colorbar": {
            "outlinewidth": 0,
            "ticks": ""
           }
          },
          "colorscale": {
           "diverging": [
            [
             0,
             "#8e0152"
            ],
            [
             0.1,
             "#c51b7d"
            ],
            [
             0.2,
             "#de77ae"
            ],
            [
             0.3,
             "#f1b6da"
            ],
            [
             0.4,
             "#fde0ef"
            ],
            [
             0.5,
             "#f7f7f7"
            ],
            [
             0.6,
             "#e6f5d0"
            ],
            [
             0.7,
             "#b8e186"
            ],
            [
             0.8,
             "#7fbc41"
            ],
            [
             0.9,
             "#4d9221"
            ],
            [
             1,
             "#276419"
            ]
           ],
           "sequential": [
            [
             0,
             "#0d0887"
            ],
            [
             0.1111111111111111,
             "#46039f"
            ],
            [
             0.2222222222222222,
             "#7201a8"
            ],
            [
             0.3333333333333333,
             "#9c179e"
            ],
            [
             0.4444444444444444,
             "#bd3786"
            ],
            [
             0.5555555555555556,
             "#d8576b"
            ],
            [
             0.6666666666666666,
             "#ed7953"
            ],
            [
             0.7777777777777778,
             "#fb9f3a"
            ],
            [
             0.8888888888888888,
             "#fdca26"
            ],
            [
             1,
             "#f0f921"
            ]
           ],
           "sequentialminus": [
            [
             0,
             "#0d0887"
            ],
            [
             0.1111111111111111,
             "#46039f"
            ],
            [
             0.2222222222222222,
             "#7201a8"
            ],
            [
             0.3333333333333333,
             "#9c179e"
            ],
            [
             0.4444444444444444,
             "#bd3786"
            ],
            [
             0.5555555555555556,
             "#d8576b"
            ],
            [
             0.6666666666666666,
             "#ed7953"
            ],
            [
             0.7777777777777778,
             "#fb9f3a"
            ],
            [
             0.8888888888888888,
             "#fdca26"
            ],
            [
             1,
             "#f0f921"
            ]
           ]
          },
          "colorway": [
           "#636efa",
           "#EF553B",
           "#00cc96",
           "#ab63fa",
           "#FFA15A",
           "#19d3f3",
           "#FF6692",
           "#B6E880",
           "#FF97FF",
           "#FECB52"
          ],
          "font": {
           "color": "#2a3f5f"
          },
          "geo": {
           "bgcolor": "white",
           "lakecolor": "white",
           "landcolor": "#E5ECF6",
           "showlakes": true,
           "showland": true,
           "subunitcolor": "white"
          },
          "hoverlabel": {
           "align": "left"
          },
          "hovermode": "closest",
          "mapbox": {
           "style": "light"
          },
          "paper_bgcolor": "white",
          "plot_bgcolor": "#E5ECF6",
          "polar": {
           "angularaxis": {
            "gridcolor": "white",
            "linecolor": "white",
            "ticks": ""
           },
           "bgcolor": "#E5ECF6",
           "radialaxis": {
            "gridcolor": "white",
            "linecolor": "white",
            "ticks": ""
           }
          },
          "scene": {
           "xaxis": {
            "backgroundcolor": "#E5ECF6",
            "gridcolor": "white",
            "gridwidth": 2,
            "linecolor": "white",
            "showbackground": true,
            "ticks": "",
            "zerolinecolor": "white"
           },
           "yaxis": {
            "backgroundcolor": "#E5ECF6",
            "gridcolor": "white",
            "gridwidth": 2,
            "linecolor": "white",
            "showbackground": true,
            "ticks": "",
            "zerolinecolor": "white"
           },
           "zaxis": {
            "backgroundcolor": "#E5ECF6",
            "gridcolor": "white",
            "gridwidth": 2,
            "linecolor": "white",
            "showbackground": true,
            "ticks": "",
            "zerolinecolor": "white"
           }
          },
          "shapedefaults": {
           "line": {
            "color": "#2a3f5f"
           }
          },
          "ternary": {
           "aaxis": {
            "gridcolor": "white",
            "linecolor": "white",
            "ticks": ""
           },
           "baxis": {
            "gridcolor": "white",
            "linecolor": "white",
            "ticks": ""
           },
           "bgcolor": "#E5ECF6",
           "caxis": {
            "gridcolor": "white",
            "linecolor": "white",
            "ticks": ""
           }
          },
          "title": {
           "x": 0.05
          },
          "xaxis": {
           "automargin": true,
           "gridcolor": "white",
           "linecolor": "white",
           "ticks": "",
           "title": {
            "standoff": 15
           },
           "zerolinecolor": "white",
           "zerolinewidth": 2
          },
          "yaxis": {
           "automargin": true,
           "gridcolor": "white",
           "linecolor": "white",
           "ticks": "",
           "title": {
            "standoff": 15
           },
           "zerolinecolor": "white",
           "zerolinewidth": 2
          }
         }
        },
        "title": {
         "text": "Comparison of 0.8056134879521097 function parameters between my result and the result of authors"
        },
        "xaxis": {
         "anchor": "y",
         "domain": [
          0,
          0.45
         ]
        },
        "xaxis2": {
         "anchor": "y2",
         "domain": [
          0.55,
          1
         ]
        },
        "xaxis3": {
         "anchor": "y3",
         "domain": [
          0,
          0.45
         ]
        },
        "xaxis4": {
         "anchor": "y4",
         "domain": [
          0.55,
          1
         ]
        },
        "xaxis5": {
         "anchor": "y5",
         "domain": [
          0,
          0.45
         ]
        },
        "xaxis6": {
         "anchor": "y6",
         "domain": [
          0.55,
          1
         ]
        },
        "yaxis": {
         "anchor": "x",
         "domain": [
          0.7333333333333333,
          1
         ]
        },
        "yaxis2": {
         "anchor": "x2",
         "domain": [
          0.7333333333333333,
          1
         ]
        },
        "yaxis3": {
         "anchor": "x3",
         "domain": [
          0.36666666666666664,
          0.6333333333333333
         ]
        },
        "yaxis4": {
         "anchor": "x4",
         "domain": [
          0.36666666666666664,
          0.6333333333333333
         ]
        },
        "yaxis5": {
         "anchor": "x5",
         "domain": [
          0,
          0.26666666666666666
         ]
        },
        "yaxis6": {
         "anchor": "x6",
         "domain": [
          0,
          0.26666666666666666
         ]
        }
       }
      }
     },
     "metadata": {},
     "output_type": "display_data"
    }
   ],
   "source": [
    "import plotly.express as px\n",
    "import plotly.graph_objects as go\n",
    "from plotly.subplots import make_subplots\n",
    "\n",
    "\n",
    "fig = make_subplots(rows = 3, cols= 2, shared_yaxes=False)#subplot_titles=('Estimation of gamma', 'Estimation of Probability weighting')\n",
    "                        \n",
    "trace1 = go.Bar(\n",
    "        x=['my gamma estimation','authors estimation'],\n",
    "        y=Table5Results.filter(regex= \"power cost function\").iloc[1,:],\n",
    "        name='gamma estimation comparison',\n",
    "        textposition='auto',\n",
    "        text=Table5Results.filter(regex= \"power cost function\").iloc[1,:]\n",
    "    )\n",
    "\n",
    "trace2 = go.Bar(\n",
    "        x=['my Social preferences estimation','author estimation'],\n",
    "        y=Table5Results.filter(regex= \"power cost function\").iloc[3,:],\n",
    "        name='Social preferences estimation comparison',\n",
    "        textposition='auto',\n",
    "        text=Table5Results.filter(regex= \"power cost function\").iloc[3,:]\n",
    "    )\n",
    "\n",
    "trace3 = go.Bar(\n",
    "        x=['my coefficient a estimation','author estimation'],\n",
    "        y=Table5Results.filter(regex= \"power cost function\").iloc[4,:],\n",
    "        name='Warm glow coefficient a estimation comparision',\n",
    "        textposition='auto',\n",
    "        text=Table5Results.filter(regex= \"power cost function\").iloc[4,:]\n",
    "    )\n",
    "\n",
    "trace4 = go.Bar(\n",
    "        x=['my Present bias β estimation','author estimation'],\n",
    "        y=Table5Results.filter(regex= \"power cost function\").iloc[6,:],\n",
    "        name='Present bias β estimation comparision',\n",
    "        textposition='auto',\n",
    "        text=Table5Results.filter(regex= \"power cost function\").iloc[6,:]\n",
    "    )\n",
    "\n",
    "trace5 = go.Bar(\n",
    "        x=['discount factor δ estimation','author estimation'],\n",
    "        y=Table5Results.filter(regex= \"power cost function\").iloc[7,:],\n",
    "        name='Discount factor δ estimation comparision',\n",
    "        textposition='auto',\n",
    "        text=Table5Results.filter(regex= \"power cost function\").iloc[7,:]\n",
    "    )\n",
    "\n",
    "\n",
    "    #fig.append_trace(trace3, 1,1)\n",
    "fig.append_trace(trace1,1,1)\n",
    "fig.append_trace(trace2,1,2)\n",
    "fig.append_trace(trace4,2,1)\n",
    "fig.append_trace(trace3,2,2)\n",
    "fig.append_trace(trace5,3,1)\n",
    "\n",
    "\n",
    "\n",
    "    # Change the bar mode\n",
    "fig.update_layout(barmode='group',\n",
    "        title='Comparison of' + \" \"+ f'{a}'+\" \"+ 'function parameters between my result and the result of authors')"
   ]
  },
  {
   "cell_type": "code",
   "execution_count": 16,
   "metadata": {},
   "outputs": [
    {
     "data": {
      "text/plain": [
       "array([[1.48760152e-12, 2.10118455e-11],\n",
       "       [1.69019075e-02, 5.40929054e-03],\n",
       "       [1.23427774e-05, 2.46538168e-05],\n",
       "       [3.73428488e-03, 1.31383155e-02],\n",
       "       [1.76396374e-01, 1.46980716e-01],\n",
       "       [1.99015147e-05, 3.80894975e-05],\n",
       "       [1.92913390e+00, 2.76006686e+00],\n",
       "       [8.05613488e-01, 3.06057998e-01]])"
      ]
     },
     "execution_count": 16,
     "metadata": {},
     "output_type": "execute_result"
    }
   ],
   "source": [
    "nw_params['specification'] = \"Power\"\n",
    "estimatesPower = vmindisest(nw_params)\n",
    "exp_result = np.zeros((8,2))\n",
    "for i in range(0,8):\n",
    "    exp_result[i,0],exp_result[i,1] = np.mean(estimatesExp[i][~np.isnan(estimatesExp[i])&~np.isinf(estimatesExp[i])]), np.std(estimatesExp[i][~np.isnan(estimatesExp[i])&~np.isinf(estimatesExp[i])])\n",
    "exp_result"
   ]
  },
  {
   "cell_type": "code",
   "execution_count": 17,
   "metadata": {},
   "outputs": [
    {
     "data": {
      "text/plain": [
       "array([-7300.        , -7433.33333333, -7350.        , ...,\n",
       "       -7766.66666667, -7800.        , -6900.        ])"
      ]
     },
     "execution_count": 17,
     "metadata": {},
     "output_type": "execute_result"
    }
   ],
   "source": [
    "a = np.array(nw_params['E10'])\n",
    "b = np.array(nw_params['E11'])\n",
    "al = 100/9*1.5*(a-b)\n",
    "al"
   ]
  },
  {
   "cell_type": "code",
   "execution_count": 18,
   "metadata": {},
   "outputs": [],
   "source": [
    "a_list = []\n",
    "re = [\"k\", \"g\", \"s\", \"alpha\", \"a\", \"s_ge\", \"beta\", \"delta\"]\n",
    "for i in range(0,8):\n",
    "    a_list.append(i)\n",
    "for i,j in zip(a_list,re):\n",
    "    a,b = f'{j}'+\"_exp\"+\"_meann\", f'{j}'+\"_exp\"+\"_sdd\"\n",
    "    a,b= np.nanmean(estimatesExp[i]), np.nanstd(estimatesExp[i])\n"
   ]
  },
  {
   "cell_type": "code",
   "execution_count": 19,
   "metadata": {},
   "outputs": [
    {
     "data": {
      "text/html": [
       "<div>\n",
       "<style scoped>\n",
       "    .dataframe tbody tr th:only-of-type {\n",
       "        vertical-align: middle;\n",
       "    }\n",
       "\n",
       "    .dataframe tbody tr th {\n",
       "        vertical-align: top;\n",
       "    }\n",
       "\n",
       "    .dataframe thead th {\n",
       "        text-align: right;\n",
       "    }\n",
       "</style>\n",
       "<table border=\"1\" class=\"dataframe\">\n",
       "  <thead>\n",
       "    <tr style=\"text-align: right;\">\n",
       "      <th></th>\n",
       "      <th>buttonpresses</th>\n",
       "      <th>treatment</th>\n",
       "      <th>treatmentname</th>\n",
       "      <th>payoff_per_100</th>\n",
       "      <th>payoff_charity_per_100</th>\n",
       "      <th>dummy_charity</th>\n",
       "      <th>delay_wks</th>\n",
       "      <th>delay_dummy</th>\n",
       "      <th>gift_dummy</th>\n",
       "      <th>prob</th>\n",
       "      <th>weight_dummy</th>\n",
       "      <th>buttonpresses_nearest_100</th>\n",
       "      <th>logbuttonpresses_nearest_100</th>\n",
       "      <th>dummy1</th>\n",
       "      <th>samplenw</th>\n",
       "      <th>samplepr</th>\n",
       "    </tr>\n",
       "  </thead>\n",
       "  <tbody>\n",
       "    <tr>\n",
       "      <th>0</th>\n",
       "      <td>45.1</td>\n",
       "      <td>1.1</td>\n",
       "      <td>1c PieceRate</td>\n",
       "      <td>0.01</td>\n",
       "      <td>0.0</td>\n",
       "      <td>0</td>\n",
       "      <td>0</td>\n",
       "      <td>0</td>\n",
       "      <td>0</td>\n",
       "      <td>1.0</td>\n",
       "      <td>0</td>\n",
       "      <td>25.0</td>\n",
       "      <td>3.218876</td>\n",
       "      <td>1</td>\n",
       "      <td>1</td>\n",
       "      <td>1</td>\n",
       "    </tr>\n",
       "    <tr>\n",
       "      <th>1</th>\n",
       "      <td>100.1</td>\n",
       "      <td>1.1</td>\n",
       "      <td>1c PieceRate</td>\n",
       "      <td>0.01</td>\n",
       "      <td>0.0</td>\n",
       "      <td>0</td>\n",
       "      <td>0</td>\n",
       "      <td>0</td>\n",
       "      <td>0</td>\n",
       "      <td>1.0</td>\n",
       "      <td>0</td>\n",
       "      <td>100.0</td>\n",
       "      <td>4.605170</td>\n",
       "      <td>1</td>\n",
       "      <td>1</td>\n",
       "      <td>1</td>\n",
       "    </tr>\n",
       "    <tr>\n",
       "      <th>2</th>\n",
       "      <td>114.1</td>\n",
       "      <td>1.1</td>\n",
       "      <td>1c PieceRate</td>\n",
       "      <td>0.01</td>\n",
       "      <td>0.0</td>\n",
       "      <td>0</td>\n",
       "      <td>0</td>\n",
       "      <td>0</td>\n",
       "      <td>0</td>\n",
       "      <td>1.0</td>\n",
       "      <td>0</td>\n",
       "      <td>100.0</td>\n",
       "      <td>4.605170</td>\n",
       "      <td>1</td>\n",
       "      <td>1</td>\n",
       "      <td>1</td>\n",
       "    </tr>\n",
       "    <tr>\n",
       "      <th>3</th>\n",
       "      <td>115.1</td>\n",
       "      <td>1.1</td>\n",
       "      <td>1c PieceRate</td>\n",
       "      <td>0.01</td>\n",
       "      <td>0.0</td>\n",
       "      <td>0</td>\n",
       "      <td>0</td>\n",
       "      <td>0</td>\n",
       "      <td>0</td>\n",
       "      <td>1.0</td>\n",
       "      <td>0</td>\n",
       "      <td>100.0</td>\n",
       "      <td>4.605170</td>\n",
       "      <td>1</td>\n",
       "      <td>1</td>\n",
       "      <td>1</td>\n",
       "    </tr>\n",
       "    <tr>\n",
       "      <th>4</th>\n",
       "      <td>126.1</td>\n",
       "      <td>1.1</td>\n",
       "      <td>1c PieceRate</td>\n",
       "      <td>0.01</td>\n",
       "      <td>0.0</td>\n",
       "      <td>0</td>\n",
       "      <td>0</td>\n",
       "      <td>0</td>\n",
       "      <td>0</td>\n",
       "      <td>1.0</td>\n",
       "      <td>0</td>\n",
       "      <td>100.0</td>\n",
       "      <td>4.605170</td>\n",
       "      <td>1</td>\n",
       "      <td>1</td>\n",
       "      <td>1</td>\n",
       "    </tr>\n",
       "    <tr>\n",
       "      <th>...</th>\n",
       "      <td>...</td>\n",
       "      <td>...</td>\n",
       "      <td>...</td>\n",
       "      <td>...</td>\n",
       "      <td>...</td>\n",
       "      <td>...</td>\n",
       "      <td>...</td>\n",
       "      <td>...</td>\n",
       "      <td>...</td>\n",
       "      <td>...</td>\n",
       "      <td>...</td>\n",
       "      <td>...</td>\n",
       "      <td>...</td>\n",
       "      <td>...</td>\n",
       "      <td>...</td>\n",
       "      <td>...</td>\n",
       "    </tr>\n",
       "    <tr>\n",
       "      <th>9856</th>\n",
       "      <td>3031.1</td>\n",
       "      <td>10</td>\n",
       "      <td>Gift Exchange</td>\n",
       "      <td>0.00</td>\n",
       "      <td>0.0</td>\n",
       "      <td>0</td>\n",
       "      <td>0</td>\n",
       "      <td>0</td>\n",
       "      <td>1</td>\n",
       "      <td>1.0</td>\n",
       "      <td>0</td>\n",
       "      <td>3000.0</td>\n",
       "      <td>8.006368</td>\n",
       "      <td>0</td>\n",
       "      <td>1</td>\n",
       "      <td>0</td>\n",
       "    </tr>\n",
       "    <tr>\n",
       "      <th>9857</th>\n",
       "      <td>3060.1</td>\n",
       "      <td>10</td>\n",
       "      <td>Gift Exchange</td>\n",
       "      <td>0.00</td>\n",
       "      <td>0.0</td>\n",
       "      <td>0</td>\n",
       "      <td>0</td>\n",
       "      <td>0</td>\n",
       "      <td>1</td>\n",
       "      <td>1.0</td>\n",
       "      <td>0</td>\n",
       "      <td>3100.0</td>\n",
       "      <td>8.039157</td>\n",
       "      <td>0</td>\n",
       "      <td>1</td>\n",
       "      <td>0</td>\n",
       "    </tr>\n",
       "    <tr>\n",
       "      <th>9858</th>\n",
       "      <td>3073.1</td>\n",
       "      <td>10</td>\n",
       "      <td>Gift Exchange</td>\n",
       "      <td>0.00</td>\n",
       "      <td>0.0</td>\n",
       "      <td>0</td>\n",
       "      <td>0</td>\n",
       "      <td>0</td>\n",
       "      <td>1</td>\n",
       "      <td>1.0</td>\n",
       "      <td>0</td>\n",
       "      <td>3100.0</td>\n",
       "      <td>8.039157</td>\n",
       "      <td>0</td>\n",
       "      <td>1</td>\n",
       "      <td>0</td>\n",
       "    </tr>\n",
       "    <tr>\n",
       "      <th>9859</th>\n",
       "      <td>3135.1</td>\n",
       "      <td>10</td>\n",
       "      <td>Gift Exchange</td>\n",
       "      <td>0.00</td>\n",
       "      <td>0.0</td>\n",
       "      <td>0</td>\n",
       "      <td>0</td>\n",
       "      <td>0</td>\n",
       "      <td>1</td>\n",
       "      <td>1.0</td>\n",
       "      <td>0</td>\n",
       "      <td>3100.0</td>\n",
       "      <td>8.039157</td>\n",
       "      <td>0</td>\n",
       "      <td>1</td>\n",
       "      <td>0</td>\n",
       "    </tr>\n",
       "    <tr>\n",
       "      <th>9860</th>\n",
       "      <td>3175.1</td>\n",
       "      <td>10</td>\n",
       "      <td>Gift Exchange</td>\n",
       "      <td>0.00</td>\n",
       "      <td>0.0</td>\n",
       "      <td>0</td>\n",
       "      <td>0</td>\n",
       "      <td>0</td>\n",
       "      <td>1</td>\n",
       "      <td>1.0</td>\n",
       "      <td>0</td>\n",
       "      <td>3200.0</td>\n",
       "      <td>8.070906</td>\n",
       "      <td>0</td>\n",
       "      <td>1</td>\n",
       "      <td>0</td>\n",
       "    </tr>\n",
       "  </tbody>\n",
       "</table>\n",
       "<p>9861 rows × 16 columns</p>\n",
       "</div>"
      ],
      "text/plain": [
       "      buttonpresses treatment  treatmentname  payoff_per_100  \\\n",
       "0              45.1       1.1   1c PieceRate            0.01   \n",
       "1             100.1       1.1   1c PieceRate            0.01   \n",
       "2             114.1       1.1   1c PieceRate            0.01   \n",
       "3             115.1       1.1   1c PieceRate            0.01   \n",
       "4             126.1       1.1   1c PieceRate            0.01   \n",
       "...             ...       ...            ...             ...   \n",
       "9856         3031.1        10  Gift Exchange            0.00   \n",
       "9857         3060.1        10  Gift Exchange            0.00   \n",
       "9858         3073.1        10  Gift Exchange            0.00   \n",
       "9859         3135.1        10  Gift Exchange            0.00   \n",
       "9860         3175.1        10  Gift Exchange            0.00   \n",
       "\n",
       "      payoff_charity_per_100  dummy_charity  delay_wks  delay_dummy  \\\n",
       "0                        0.0              0          0            0   \n",
       "1                        0.0              0          0            0   \n",
       "2                        0.0              0          0            0   \n",
       "3                        0.0              0          0            0   \n",
       "4                        0.0              0          0            0   \n",
       "...                      ...            ...        ...          ...   \n",
       "9856                     0.0              0          0            0   \n",
       "9857                     0.0              0          0            0   \n",
       "9858                     0.0              0          0            0   \n",
       "9859                     0.0              0          0            0   \n",
       "9860                     0.0              0          0            0   \n",
       "\n",
       "      gift_dummy  prob  weight_dummy  buttonpresses_nearest_100  \\\n",
       "0              0   1.0             0                       25.0   \n",
       "1              0   1.0             0                      100.0   \n",
       "2              0   1.0             0                      100.0   \n",
       "3              0   1.0             0                      100.0   \n",
       "4              0   1.0             0                      100.0   \n",
       "...          ...   ...           ...                        ...   \n",
       "9856           1   1.0             0                     3000.0   \n",
       "9857           1   1.0             0                     3100.0   \n",
       "9858           1   1.0             0                     3100.0   \n",
       "9859           1   1.0             0                     3100.0   \n",
       "9860           1   1.0             0                     3200.0   \n",
       "\n",
       "      logbuttonpresses_nearest_100  dummy1  samplenw  samplepr  \n",
       "0                         3.218876       1         1         1  \n",
       "1                         4.605170       1         1         1  \n",
       "2                         4.605170       1         1         1  \n",
       "3                         4.605170       1         1         1  \n",
       "4                         4.605170       1         1         1  \n",
       "...                            ...     ...       ...       ...  \n",
       "9856                      8.006368       0         1         0  \n",
       "9857                      8.039157       0         1         0  \n",
       "9858                      8.039157       0         1         0  \n",
       "9859                      8.039157       0         1         0  \n",
       "9860                      8.070906       0         1         0  \n",
       "\n",
       "[9861 rows x 16 columns]"
      ]
     },
     "execution_count": 19,
     "metadata": {},
     "output_type": "execute_result"
    }
   ],
   "source": [
    "import pandas as pd\n",
    "df_test = pd.read_pickle(\"D:\\\\Temp\\\\epp_final\\\\bld\\\\python\\\\data\\\\data_modify.pickle\")\n",
    "df_test"
   ]
  }
 ],
 "metadata": {
  "kernelspec": {
   "display_name": "epp_final_project",
   "language": "python",
   "name": "python3"
  },
  "language_info": {
   "codemirror_mode": {
    "name": "ipython",
    "version": 3
   },
   "file_extension": ".py",
   "mimetype": "text/x-python",
   "name": "python",
   "nbconvert_exporter": "python",
   "pygments_lexer": "ipython3",
   "version": "3.9.12"
  },
  "orig_nbformat": 4
 },
 "nbformat": 4,
 "nbformat_minor": 2
}
