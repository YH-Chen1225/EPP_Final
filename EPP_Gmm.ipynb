{
 "cells": [
  {
   "cell_type": "code",
   "execution_count": 93,
   "metadata": {},
   "outputs": [],
   "source": [
    "# Import the necessary package\n",
    "import numpy as np\n",
    "import pandas as pd\n",
    "from sklearn.utils import resample\n",
    "import random\n",
    "from decimal import Decimal\n",
    "from IPython.display import display\n",
    "import warnings"
   ]
  },
  {
   "cell_type": "code",
   "execution_count": 94,
   "metadata": {},
   "outputs": [],
   "source": [
    "random.seed(666)# set the seed for reproducible reason\n",
    "\n",
    "#import the data and calculate the mean effort for each treatment\n",
    "df = pd.read_stata('D:\\\\Temp\\\\mturk_clean_data_short.dta')\n",
    "emp_moments = np.array(np.round(df.groupby(\"treatment\").mean(\"buttonpresses\")))"
   ]
  },
  {
   "cell_type": "code",
   "execution_count": 95,
   "metadata": {},
   "outputs": [],
   "source": [
    "# Treatments are as follows:\n",
    "# 1.1: benchmark specification with piece rate of 0.01 \n",
    "# 1.2: benchmark specification with piece rate of 0.10 \n",
    "# 1.3: benchmark specification with piece rate of 0.00 \n",
    "# 3.1: social preferences (charity) with piece rate of 0.01 \n",
    "# 3.2: social preferences (charity) with piece rate of 0.10 \n",
    "# 10 : social preferences (gift exchange) bonus of 40 cents (independently of nr buttonpresses)\n",
    "# 4.1: time discounting with extra 0.01 paid two weeks later\n",
    "# 4.2: time discounting with extra 0.01 paid four weeks later\n",
    "\n",
    "# resample is a useful command from the sklearn library that samples with replacement our data.\n",
    "# I first get a smaller dataframe containing only observations for a specific treatment, I then resample the observations and\n",
    "# compute the rounded mean of buttonpresses, save the result and then pass onto the next treatment. I do this for 'number' times.\n",
    "def mybootstrap(dataset, number):\n",
    "    \n",
    "    E11, E12, E13, E31, E32, E10, E41, E42 = [], [], [], [], [], [], [], []\n",
    "    box={'1.1':E11,'1.2':E12,'1.3':E13,'3.1':E31,'3.2':E32,'10':E10,'4.1':E41,'4.2':E42}\n",
    "    \n",
    "    for i in range(1,number+1):\n",
    "        for a,b in box.items():\n",
    "            db = dataset[dataset.treatment==a]\n",
    "            bootsample = resample(db['buttonpresses'],replace=True,)\n",
    "            b.append(np.round(np.mean(bootsample)))\n",
    "    return E11, E12, E13, E31, E32, E10, E41, E42\n",
    "\n",
    "E11, E12, E13, E31, E32, E10, E41, E42 = mybootstrap(df,2000)\n",
    "\n",
    "\n"
   ]
  },
  {
   "cell_type": "code",
   "execution_count": 96,
   "metadata": {},
   "outputs": [],
   "source": [
    "import numpy as np\n",
    "\n",
    "def mymindisest(params):\n",
    "    '''\n",
    "    params: params is the dictionary include the mean effort value for each bootstrap result or the original bootstrap outcome(so the length can be 2000 for each treatment).\n",
    "            Besides, it also include a key called \"specification\", we can choose \"Exp\" or \"Power\" as our cost function.\n",
    "    '''\n",
    "    # Define constants payoff p\n",
    "    P = [0, 0.01, 0.1] # P is a vector containing the different piece-rates\n",
    "    expr = {\n",
    "        'Exp': {\n",
    "            'log_k': lambda E11, E12: (np.log(P[2]) - np.log(P[1]) * E12 / E11) / (1 - E12 / E11),\n",
    "            'log_gamma': lambda log_k, E11: np.log((np.log(P[1]) - log_k) / E11),\n",
    "            'log_s': lambda log_gamma, E13, log_k: np.exp(log_gamma) * E13 + log_k,\n",
    "            'EG31': lambda E31, g: np.exp(E31 * g),'EG32': lambda E32, g: np.exp(E32 * g),'EG10': lambda E10, g: np.exp(E10 * g),'EG41': lambda E41, g: np.exp(E41 * g),'EG42': lambda E42, g: np.exp(E42 * g),\n",
    "        \n",
    "\n",
    "\n",
    "        },\n",
    "        'Power': {\n",
    "            'log_k': lambda E11, E12: (np.log(P[2]) - np.log(P[1]) * np.log(E12) / np.log(E11)) / (1 - np.log(E12) / np.log(E11)),\n",
    "            'log_gamma': lambda log_k, E11: np.log((np.log(P[1]) - log_k) / np.log(E11)),\n",
    "            'log_s': lambda log_gamma, E13, log_k: np.exp(log_gamma) * np.log(E13) + log_k,\n",
    "            'EG31': lambda E31, g: E31 ** g,'EG32': lambda E32, g: E32 ** g,'EG10': lambda E10, g: E10 ** g,'EG41': lambda E41, g: E41 ** g,'EG42': lambda E42, g: E42 ** g\n",
    "        }\n",
    "    }\n",
    "\n",
    "    # Extract arguments from params dictionary\n",
    "    E11 = np.array(params['E11'])\n",
    "    E12 = np.array(params['E12'])\n",
    "    E13 = np.array(params['E13'])\n",
    "    E31 = np.array(params['E31'])\n",
    "    E32 = np.array(params['E32'])\n",
    "    E10 = np.array(params['E10'])\n",
    "    E41 = np.array(params['E41'])\n",
    "    E42 = np.array(params['E42'])\n",
    "    #for a,b in params.items():\n",
    "        #a = params[f\"{a}\"]\n",
    "    specification = params['specification']\n",
    "\n",
    "    # Calculate k, gamma, alpha, a, s_ge, delta, beta\n",
    "    log_k = expr[specification]['log_k'](E11, E12)\n",
    "    log_gamma = expr[specification]['log_gamma'](log_k, E11)\n",
    "    log_s = expr[specification]['log_s'](log_gamma, E13, log_k)\n",
    "    k = np.exp(log_k)\n",
    "    g = np.exp(log_gamma)\n",
    "    s = np.exp(log_s)\n",
    "    EG31 = expr[specification]['EG31'](E31,g)\n",
    "    EG32 = expr[specification]['EG32'](E32,g)\n",
    "    EG10 = expr[specification]['EG10'](E10,g)\n",
    "    EG41 = expr[specification]['EG41'](E41,g)\n",
    "    EG42 = expr[specification]['EG42'](E42,g)\n",
    "    alpha = 100/9*k*(EG32-EG31)\n",
    "    a = 100*k*EG31-100*s-alpha\n",
    "    s_ge = k*EG10 - s\n",
    "    delta = np.sqrt((k*EG42-s)/(k*EG41-s))\n",
    "    beta  = 100*(k*EG41-s)/(delta**2)\n",
    "    return k, g, s, alpha, a, s_ge, beta, delta\n",
    "\n"
   ]
  },
  {
   "cell_type": "code",
   "execution_count": 97,
   "metadata": {},
   "outputs": [
    {
     "data": {
      "text/plain": [
       "array([1.26689239e-16, 1.57711308e-02, 3.31549170e-06, 3.07335179e-03,\n",
       "       1.42605422e-01, 8.57890628e-06, 1.15234320e+00, 7.64690724e-01])"
      ]
     },
     "execution_count": 97,
     "metadata": {},
     "output_type": "execute_result"
    }
   ],
   "source": [
    "#Define the dictionary to put into function\n",
    "#Estimate the result\n",
    "##Table 5 minimum distance estimates: columns (1) (3) panel A and columns (1) (4) panel B\n",
    "\n",
    "params = {'E11':emp_moments[0],'E12':emp_moments[1],'E13':emp_moments[2],'E31':emp_moments[6],'E32':emp_moments[7],\n",
    "          \"E10\":emp_moments[4],'E41':emp_moments[8],'E42':emp_moments[9],'specification':'Exp'}\n",
    "#Including the mean effort from empirical data for each treatment.\n",
    "\n",
    "Table5Exp = np.array(mymindisest(params)).flatten()\n",
    "params['specification'] = 'Power'\n",
    "Table5Power = np.array(mymindisest(params)).flatten()\n",
    "Table5Exp\n"
   ]
  },
  {
   "attachments": {},
   "cell_type": "markdown",
   "metadata": {},
   "source": [
    "## 3. Estimation\n",
    "\n",
    "### Point Estimates and Standard Errors\n",
    "\n",
    "We now compute the minimum distance estimates for Table 5 and the standard errors via a bootstrap procedure.\n"
   ]
  },
  {
   "cell_type": "code",
   "execution_count": 98,
   "metadata": {},
   "outputs": [],
   "source": [
    "vmindisest = np.vectorize(mymindisest)\n",
    "params['specification'] = \"Exp\"\n",
    "estimatesExp = vmindisest(params)\n",
    "#mean_sd = np.zeros((8,2))\n",
    "#for i in range(0,8):\n",
    "    #mean_sd[i,0],mean_sd[i,1] = np.nanmean(estimatesExp[i]), np.nanstd(estimatesExp[i])"
   ]
  },
  {
   "cell_type": "code",
   "execution_count": 99,
   "metadata": {},
   "outputs": [],
   "source": [
    "#Define the new dictionary, now ,for each treatment, there is a array that length equal to 2000, which we obtain from boostrap process.\n",
    "nw_params = {\"E11\":E11,\"E12\":E12,\"E13\":E13,\"E31\":E31,\"E32\":E32,\"E10\":E10,\"E41\":E41,\"E42\":E42,\"specification\":\"Exp\"}\n",
    "vmindisest = np.vectorize(mymindisest)#vectorize the function\n",
    "\n",
    "#Obtain the estimation result\n",
    "estimatesExp = vmindisest(nw_params)\n",
    "nw_params['specification'] = 'Power'\n",
    "estimatesPower = vmindisest(nw_params)"
   ]
  },
  {
   "cell_type": "code",
   "execution_count": 100,
   "metadata": {},
   "outputs": [],
   "source": [
    "# Nowe, to obtain confidence intervals in panel B table 5. CI are the 2.5% and 97.5% quantiles of the distribution of our\n",
    "# parameters vectors. There are 2000 values in each vector. The 2.5% number and 97.5% number is constant in the original code.\n",
    "# However, we may obtain some numbers equal to nan or inf when processing, which may affect on our estimation result.\n",
    "#Therefore, I modify the code, making it can be change accordingly. In this part, We obtain CI only for alpha, a, s_ge, beta, delta as in the paper\n",
    "\n",
    "CI_Exp, CI_Power = [], []\n",
    "for ci in range(3,8):\n",
    "    a  = sorted(estimatesExp[ci][~np.isnan(estimatesExp[ci])&~np.isinf(estimatesExp[ci])])\n",
    "    CI_Exp.append([a[round(len(a)*0.025)],a[round(len(a)*0.975)]])\n",
    "    b  = sorted(estimatesPower[ci][~np.isnan(estimatesPower[ci])&~np.isinf(estimatesPower[ci])])\n",
    "    CI_Power.append([b[round(len(b)*0.025)],b[round(len(b)*0.975)]])"
   ]
  },
  {
   "cell_type": "code",
   "execution_count": 101,
   "metadata": {},
   "outputs": [],
   "source": [
    "#Function for compute the mean and standard error of estimates for the cost function using the Bootstrap procedure\n",
    "def cal_res(params,type):\n",
    "    \n",
    "    '''params : params is a dictionary, which include each bootstraping result for each parameters\n",
    "       type : Type can be Exp or Power, depends on whcih cost function you want to apply.'''\n",
    "    if type == \"Exp\":\n",
    "        params['specification'] = \"Exp\"\n",
    "        estimates = vmindisest(params)\n",
    "    else:\n",
    "        params['specification'] = \"Power\"\n",
    "        estimates = vmindisest(params)\n",
    "    res = np.zeros((8,2))\n",
    "    for i in range(0,8):\n",
    "        res[i,0],res[i,1] = np.mean(estimates[i][~np.isnan(estimates[i])&~np.isinf(estimates[i])]), np.std(estimates[i][~np.isnan(estimates[i])&~np.isinf(estimates[i])])\n",
    "    return res\n"
   ]
  },
  {
   "cell_type": "code",
   "execution_count": 102,
   "metadata": {},
   "outputs": [],
   "source": [
    "# Store mean and standard error of estimates for the cost function using the Bootstrap procedure\n",
    "warnings.filterwarnings('ignore') # This is to avoid showing RuntimeWarning in the notebook regarding overflow. For a couple of cases in our 1000 new samples\n",
    "                                  # we cannot find the results because of overflow. Losing 2-3 observations out of thousands should not change the overall mean\n",
    "                                  # for the parameters\n",
    "exp_res = cal_res(nw_params,type=\"Exp\")\n",
    "power_res = cal_res(nw_params,type=\"Power\")"
   ]
  },
  {
   "cell_type": "code",
   "execution_count": 103,
   "metadata": {},
   "outputs": [],
   "source": [
    "params_name = [\"Level k of cost of effort\", \"Curvature γ of cost function\",\"Intrinsic motivation s\",\"Social preferences α\",\n",
    "                \"Warm glow coefficient a\",\"Gift exchange Δs\", \"Present bias β\",\"(Weekly) discount factor δ\"]\n",
    "CIpanelB = pd.DataFrame({'CI_Exp':CI_Exp, 'CI_Power':CI_Power})\n",
    "sd_exp   = exp_res[0:8,1]\n",
    "sd_power = power_res[0:8,1]"
   ]
  },
  {
   "cell_type": "code",
   "execution_count": 104,
   "metadata": {},
   "outputs": [
    {
     "name": "stdout",
     "output_type": "stream",
     "text": [
      "Table 5: Estimates of behavioural parameters I: Mturkers actual effort. Minimum distance estimates\n"
     ]
    },
    {
     "data": {
      "text/html": [
       "<div>\n",
       "<style scoped>\n",
       "    .dataframe tbody tr th:only-of-type {\n",
       "        vertical-align: middle;\n",
       "    }\n",
       "\n",
       "    .dataframe tbody tr th {\n",
       "        vertical-align: top;\n",
       "    }\n",
       "\n",
       "    .dataframe thead th {\n",
       "        text-align: right;\n",
       "    }\n",
       "</style>\n",
       "<table border=\"1\" class=\"dataframe\">\n",
       "  <thead>\n",
       "    <tr style=\"text-align: right;\">\n",
       "      <th></th>\n",
       "      <th>Parameters name</th>\n",
       "      <th>Minimum dist est on average effort Power point estimates</th>\n",
       "      <th>Minimum dist est on average effort Power standard errors</th>\n",
       "      <th>Minimum dist est on average effort Exp point estimates</th>\n",
       "      <th>Minimum dist est on average effort Exp standard errors</th>\n",
       "    </tr>\n",
       "  </thead>\n",
       "  <tbody>\n",
       "    <tr>\n",
       "      <th>0</th>\n",
       "      <td>Level k of cost of effort</td>\n",
       "      <td>2.54e-112</td>\n",
       "      <td>2.82e-65</td>\n",
       "      <td>1.27e-16</td>\n",
       "      <td>4.65e+91</td>\n",
       "    </tr>\n",
       "    <tr>\n",
       "      <th>1</th>\n",
       "      <td>Curvature γ of cost function</td>\n",
       "      <td>33.138</td>\n",
       "      <td>56.82</td>\n",
       "      <td>0.016</td>\n",
       "      <td>0.027</td>\n",
       "    </tr>\n",
       "    <tr>\n",
       "      <th>2</th>\n",
       "      <td>Intrinsic motivation s</td>\n",
       "      <td>7.12e-7</td>\n",
       "      <td>1.02e-5</td>\n",
       "      <td>3.32e-6</td>\n",
       "      <td>2.30e-5</td>\n",
       "    </tr>\n",
       "    <tr>\n",
       "      <th>3</th>\n",
       "      <td>Social preferences α</td>\n",
       "      <td>0.003</td>\n",
       "      <td>0.014</td>\n",
       "      <td>0.003</td>\n",
       "      <td>0.014</td>\n",
       "    </tr>\n",
       "    <tr>\n",
       "      <th>4</th>\n",
       "      <td>Warm glow coefficient a</td>\n",
       "      <td>0.125</td>\n",
       "      <td>0.146</td>\n",
       "      <td>0.143</td>\n",
       "      <td>0.15</td>\n",
       "    </tr>\n",
       "    <tr>\n",
       "      <th>5</th>\n",
       "      <td>Gift exchange Δs</td>\n",
       "      <td>3.26e-6</td>\n",
       "      <td>2.27e-5</td>\n",
       "      <td>8.58e-6</td>\n",
       "      <td>3.62e-5</td>\n",
       "    </tr>\n",
       "    <tr>\n",
       "      <th>6</th>\n",
       "      <td>Present bias β</td>\n",
       "      <td>1.17</td>\n",
       "      <td>8.37</td>\n",
       "      <td>1.15</td>\n",
       "      <td>6.99</td>\n",
       "    </tr>\n",
       "    <tr>\n",
       "      <th>7</th>\n",
       "      <td>(Weekly) discount factor δ</td>\n",
       "      <td>0.75</td>\n",
       "      <td>0.29</td>\n",
       "      <td>0.76</td>\n",
       "      <td>0.31</td>\n",
       "    </tr>\n",
       "  </tbody>\n",
       "</table>\n",
       "</div>"
      ],
      "text/plain": [
       "                Parameters name  \\\n",
       "0     Level k of cost of effort   \n",
       "1  Curvature γ of cost function   \n",
       "2        Intrinsic motivation s   \n",
       "3          Social preferences α   \n",
       "4       Warm glow coefficient a   \n",
       "5              Gift exchange Δs   \n",
       "6                Present bias β   \n",
       "7    (Weekly) discount factor δ   \n",
       "\n",
       "  Minimum dist est on average effort Power point estimates  \\\n",
       "0                                          2.54e-112         \n",
       "1                                             33.138         \n",
       "2                                            7.12e-7         \n",
       "3                                              0.003         \n",
       "4                                              0.125         \n",
       "5                                            3.26e-6         \n",
       "6                                               1.17         \n",
       "7                                               0.75         \n",
       "\n",
       "  Minimum dist est on average effort Power standard errors  \\\n",
       "0                                           2.82e-65         \n",
       "1                                              56.82         \n",
       "2                                            1.02e-5         \n",
       "3                                              0.014         \n",
       "4                                              0.146         \n",
       "5                                            2.27e-5         \n",
       "6                                               8.37         \n",
       "7                                               0.29         \n",
       "\n",
       "  Minimum dist est on average effort Exp point estimates  \\\n",
       "0                                           1.27e-16       \n",
       "1                                              0.016       \n",
       "2                                            3.32e-6       \n",
       "3                                              0.003       \n",
       "4                                              0.143       \n",
       "5                                            8.58e-6       \n",
       "6                                               1.15       \n",
       "7                                               0.76       \n",
       "\n",
       "  Minimum dist est on average effort Exp standard errors  \n",
       "0                                           4.65e+91      \n",
       "1                                              0.027      \n",
       "2                                            2.30e-5      \n",
       "3                                              0.014      \n",
       "4                                               0.15      \n",
       "5                                            3.62e-5      \n",
       "6                                               6.99      \n",
       "7                                               0.31      "
      ]
     },
     "metadata": {},
     "output_type": "display_data"
    }
   ],
   "source": [
    "#I did not change the code in this cell\n",
    "# Print the results\n",
    "# Formatting the results nicely for the table\n",
    "\n",
    "from decimal import Decimal\n",
    "\n",
    "columns = [Table5Power, sd_power, Table5Exp, sd_exp]\n",
    "vs = []\n",
    "for col in columns:\n",
    "    col = ['{0:.2e}'.format(Decimal(col[0])), round(col[1],3), '{0:.2e}'.format(Decimal(col[2])),\n",
    "           round(col[3],3), round(col[4],3), '{0:.2e}'.format(Decimal(col[5])), round(col[6],2), round(col[7],2)]\n",
    "    vs.append(col)\n",
    "    \n",
    "Table5Results = pd.DataFrame({'Parameters name': params_name,\n",
    "                              'Minimum dist est on average effort Power point estimates': vs[0],\n",
    "                              'Minimum dist est on average effort Power standard errors': vs[1],\n",
    "                              'Minimum dist est on average effort Exp point estimates': vs[2],\n",
    "                              'Minimum dist est on average effort Exp standard errors': vs[3]})\n",
    "    \n",
    "# Standard errors are different since the seed we used for the bootstrap procedure is different from the one used by the authors since \n",
    "# random generation across softwares/languages is not easily replicated (each software uses its own algorithm)\n",
    "\n",
    "from IPython.display import display\n",
    "print('Table 5: Estimates of behavioural parameters I: Mturkers actual effort. Minimum distance estimates')\n",
    "display(Table5Results)"
   ]
  },
  {
   "cell_type": "code",
   "execution_count": 105,
   "metadata": {},
   "outputs": [
    {
     "data": {
      "text/plain": [
       "array([[1.04028377e+90, 4.65112723e+91],\n",
       "       [1.77025794e-02, 2.69091606e-02],\n",
       "       [1.18971952e-05, 2.30383279e-05],\n",
       "       [3.57957546e-03, 1.35831888e-02],\n",
       "       [1.77158102e-01, 1.49931926e-01],\n",
       "       [2.14317153e-05, 3.62256943e-05],\n",
       "       [2.15888449e+00, 6.98872176e+00],\n",
       "       [7.91427908e-01, 3.13428468e-01]])"
      ]
     },
     "execution_count": 105,
     "metadata": {},
     "output_type": "execute_result"
    }
   ],
   "source": [
    "nw_params['specification'] = \"Power\"\n",
    "estimatesPower = vmindisest(nw_params)\n",
    "exp_result = np.zeros((8,2))\n",
    "for i in range(0,8):\n",
    "    exp_result[i,0],exp_result[i,1] = np.mean(estimatesExp[i][~np.isnan(estimatesExp[i])&~np.isinf(estimatesExp[i])]), np.std(estimatesExp[i][~np.isnan(estimatesExp[i])&~np.isinf(estimatesExp[i])])\n",
    "exp_result"
   ]
  },
  {
   "cell_type": "code",
   "execution_count": 106,
   "metadata": {},
   "outputs": [
    {
     "data": {
      "text/plain": [
       "array([-7600.        , -5833.33333333, -7216.66666667, ...,\n",
       "       -6733.33333333, -7733.33333333, -7350.        ])"
      ]
     },
     "execution_count": 106,
     "metadata": {},
     "output_type": "execute_result"
    }
   ],
   "source": [
    "a = np.array(nw_params['E10'])\n",
    "b = np.array(nw_params['E11'])\n",
    "al = 100/9*1.5*(a-b)\n",
    "al"
   ]
  },
  {
   "cell_type": "code",
   "execution_count": 107,
   "metadata": {},
   "outputs": [],
   "source": [
    "a_list = []\n",
    "re = [\"k\", \"g\", \"s\", \"alpha\", \"a\", \"s_ge\", \"beta\", \"delta\"]\n",
    "for i in range(0,8):\n",
    "    a_list.append(i)\n",
    "for i,j in zip(a_list,re):\n",
    "    a,b = f'{j}'+\"_exp\"+\"_meann\", f'{j}'+\"_exp\"+\"_sdd\"\n",
    "    a,b= np.nanmean(estimatesExp[i]), np.nanstd(estimatesExp[i])\n"
   ]
  }
 ],
 "metadata": {
  "kernelspec": {
   "display_name": "epp_final_project",
   "language": "python",
   "name": "python3"
  },
  "language_info": {
   "codemirror_mode": {
    "name": "ipython",
    "version": 3
   },
   "file_extension": ".py",
   "mimetype": "text/x-python",
   "name": "python",
   "nbconvert_exporter": "python",
   "pygments_lexer": "ipython3",
   "version": "3.11.0"
  },
  "orig_nbformat": 4
 },
 "nbformat": 4,
 "nbformat_minor": 2
}
